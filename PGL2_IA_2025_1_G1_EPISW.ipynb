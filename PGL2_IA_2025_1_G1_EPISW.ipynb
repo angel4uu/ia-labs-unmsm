{
  "cells": [
    {
      "cell_type": "markdown",
      "id": "f584c8fa",
      "metadata": {
        "id": "f584c8fa"
      },
      "source": [
        "# Práctica Guiada de Laboratorio 2 - IA Grupo 1 EPISW\n",
        "\n",
        "### Prof. Rolando A. Maguiña Pérez"
      ]
    },
    {
      "cell_type": "markdown",
      "id": "de3438cb",
      "metadata": {
        "id": "de3438cb"
      },
      "source": [
        "## Introducción\n",
        "La presente Práctica, a realizarse el jueves 03 de Abril del 2025, trata de los denominados métodos ciegos  de búsqueda (en amplitud, en profundidad y búsqueda no determinista) y de los métodos informados (búsqueda avara, costo uniforme y A-estrella). Se pretende construir los programas que implementan los respectivos algoritmos mediante el lenguaje Python, y aplicarlos a problemas sobre grafos.\n",
        "\n",
        "Con esa finalidad se usará parcialmente la distribución de Python llamada `AIPython` que acompaña al libro \"Artificial Intelligence: foundations of computational agents\" de David Poole y Alan Mackworth. Esta distribución, como los mismos autores señalan, aun no está pulida (podrían, ocasionalmente, presentarse algunos bugs) y usa principalmente el core de Python; la biblioteca que usa (casi que exclusivamente) es Matplotlib. A pesar de lo dicho, será de gran ayuda para los fines que se persiguen en el curso para el tema de búsqueda en un espacio de estados.\n",
        "\n",
        "Al respecto, se plantearán varias preguntas las cuales se deben resolver mediante el mencionado lenguaje en un cuaderno computacional interactivo. La tarea se resolverá de forma grupal en grupos de 4 alumnos. Antes de enviarlas, los alumnos deberán verificar la corrección de sus soluciones con esta misma herramienta.\n",
        "\n",
        "## Representación de problemas de búsqueda\n",
        "Un problema de búsqueda consta de:\n",
        "- un nodo de inicio\n",
        "- una función *neighbors* (vecinos) que, dado un nodo, devuelve una enumeración de los arcos del nodo.\n",
        "- una especificación de una meta en términos de una función booleana que toma un nodo y devuelve verdadero si el nodo es una meta\n",
        "- una función heurística (opcional) que, dado un nodo, devuelve un número real no negativo. La función heurística  por defecto tiene un valor de cero.\n",
        "\n",
        "En lo que respecta al agente de búsqueda, un nodo puede ser cualquier cosa. En los ejemplos simples, es una cadena, pero en ejemplos más complicados puede ser una tupla, un `frozenset` (un tipo muy parecido a los sets excepto que son inmutables, es decir, están congelados y no pueden ser modificados una vez inicializados) o un objeto Python.\n",
        "\n",
        "A continuación se muestra el código para esta representación de problemas de búsqueda cuando se utiliza la distribución `AIPython`. Notar que en dicho código, `raise NotImplementedError()` es una forma de especificar que se trata de un método abstracto que debe anularse para definir un problema de búsqueda real."
      ]
    },
    {
      "cell_type": "code",
      "execution_count": 1,
      "id": "4401f464-78fa-4575-8049-10991cf0a388",
      "metadata": {
        "colab": {
          "base_uri": "https://localhost:8080/",
          "height": 211
        },
        "id": "4401f464-78fa-4575-8049-10991cf0a388",
        "outputId": "ff4ae800-5364-47bd-80ca-abadabdbe45e"
      },
      "outputs": [],
      "source": [
        "# searchProblem.py - representations of search problems\n",
        "# AIFCA Python code Version 0.9.12 Documentation at https://aipython.org\n",
        "# Download the zip file and read aipython.pdf for documentation\n",
        "\n",
        "# Artificial Intelligence: Foundations of Computational Agents https://artint.info\n",
        "# Copyright 2017-2024 David L. Poole and Alan K. Mackworth\n",
        "# This work is licensed under a Creative Commons\n",
        "# Attribution-NonCommercial-ShareAlike 4.0 International License.\n",
        "# See: https://creativecommons.org/licenses/by-nc-sa/4.0/deed.en\n",
        "\n",
        "\n",
        "import matplotlib.pyplot as plt\n",
        "import random\n",
        "from aipython.display import Displayable\n",
        "\n",
        "class Search_problem(Displayable):\n",
        "    \"\"\"A search problem consists of:\n",
        "    * a start node\n",
        "    * a neighbors function that gives the neighbors of a node\n",
        "    * a specification of a goal\n",
        "    * a (optional) heuristic function.\n",
        "    The methods must be overridden to define a search problem.\"\"\"\n",
        "\n",
        "    def start_node(self):\n",
        "        \"\"\"returns start node\"\"\"\n",
        "        raise NotImplementedError(\"start_node\")   # abstract method\n",
        "\n",
        "    def is_goal(self,node):\n",
        "        \"\"\"is True if node is a goal\"\"\"\n",
        "        raise NotImplementedError(\"is_goal\")   # abstract method\n",
        "\n",
        "    def neighbors(self,node):\n",
        "        \"\"\"returns a list (or enumeration) of the arcs for the neighbors of node\"\"\"\n",
        "        raise NotImplementedError(\"neighbors\")   # abstract method\n",
        "\n",
        "    def heuristic(self,n):\n",
        "        \"\"\"Gives the heuristic value of node n.\n",
        "        Returns 0 if not overridden.\"\"\"\n",
        "        return 0\n"
      ]
    },
    {
      "cell_type": "markdown",
      "id": "292d6267-2917-4876-8b4d-2f9d99901548",
      "metadata": {
        "id": "292d6267-2917-4876-8b4d-2f9d99901548"
      },
      "source": [
        "Los `neighbors` (vecinos) son una lista de arcos. Un arco (dirigido) consta de un nodo `from_node` y un nodo `to_node`. El arco es el par `(from_node, to_node)`, pero también puede contener un valor de costo no negativo (que por defecto es 1) y puede etiquetarse con una acción."
      ]
    },
    {
      "cell_type": "code",
      "execution_count": 3,
      "id": "8c32a49d-3fcd-489c-ba57-17b690918656",
      "metadata": {
        "id": "8c32a49d-3fcd-489c-ba57-17b690918656"
      },
      "outputs": [],
      "source": [
        "class Arc(object):\n",
        "    \"\"\"An arc has a from_node and a to_node node and a (non-negative) cost\"\"\"\n",
        "    def __init__(self, from_node, to_node, cost=1, action=None):\n",
        "        self.from_node = from_node\n",
        "        self.to_node = to_node\n",
        "        self.action = action\n",
        "        self.cost = cost\n",
        "        assert cost >= 0, (f\"Cost cannot be negative: {self}, cost={cost}\")\n",
        "\n",
        "    def __repr__(self):\n",
        "        \"\"\"string representation of an arc\"\"\"\n",
        "        if self.action:\n",
        "            return f\"{self.from_node} --{self.action}--> {self.to_node}\"\n",
        "        else:\n",
        "            return f\"{self.from_node} --> {self.to_node}\"\n"
      ]
    },
    {
      "cell_type": "markdown",
      "id": "feeba1a7-75af-4c03-ac07-6dde31e4052b",
      "metadata": {
        "id": "feeba1a7-75af-4c03-ac07-6dde31e4052b"
      },
      "source": [
        "### Representación explícita del grafo de búsqueda\n",
        "La primera representación de un problema de búsqueda es a partir de un grafo explícito (a diferencia de uno en el que se genera según se vaya necesitando).\n",
        "\n",
        "Un **grafo explícito** consta de\n",
        "- una lista o conjunto de nodos\n",
        "- una lista o conjunto de arcos\n",
        "- un nodo de inicio\n",
        "- una lista o conjunto de nodos meta\n",
        "- (opcionalmente) un diccionario que mapea un nodo a un valor heurístico para ese nodo\n",
        "\n",
        "Como sabemos, para definir un problema de búsqueda necesitamos definir el nodo inicial, el predicado de meta, la función `neighbors` (vecinos) y la función heurística."
      ]
    },
    {
      "cell_type": "code",
      "execution_count": 4,
      "id": "bf23c6a6-7947-4398-9482-52826e77ca51",
      "metadata": {
        "colab": {
          "base_uri": "https://localhost:8080/",
          "height": 211
        },
        "id": "bf23c6a6-7947-4398-9482-52826e77ca51",
        "outputId": "2da77934-4800-4b78-eb0e-7448bd2618ed"
      },
      "outputs": [],
      "source": [
        "class Search_problem_from_explicit_graph(Search_problem):\n",
        "    \"\"\"A search problem from an explicit graph.\n",
        "    \"\"\"\n",
        "\n",
        "    def __init__(self, title, nodes, arcs, start=None, goals=set(), hmap={},\n",
        "                     positions=None, show_costs = True):\n",
        "        \"\"\" A search problem consists of:\n",
        "        * list or set of nodes\n",
        "        * list or set of arcs\n",
        "        * start node\n",
        "        * list or set of goal nodes\n",
        "        * hmap: dictionary that maps each node into its heuristic value.\n",
        "        * positions: dictionary that maps each node into its (x,y) position\n",
        "        * show_costs is used for show()\n",
        "        \"\"\"\n",
        "        self.title = title\n",
        "        self.neighs = {}\n",
        "        self.nodes = nodes\n",
        "        for node in nodes:\n",
        "            self.neighs[node]=[]\n",
        "        self.arcs = arcs\n",
        "        for arc in arcs:\n",
        "            self.neighs[arc.from_node].append(arc)\n",
        "        self.start = start\n",
        "        self.goals = goals\n",
        "        self.hmap = hmap\n",
        "        if positions is None:\n",
        "            self.positions = {node:(random.random(),random.random()) for node in nodes}\n",
        "        else:\n",
        "            self.positions = positions\n",
        "        self.show_costs = show_costs\n",
        "\n",
        "\n",
        "    def start_node(self):\n",
        "        \"\"\"returns start node\"\"\"\n",
        "        return self.start\n",
        "\n",
        "    def is_goal(self,node):\n",
        "        \"\"\"is True if node is a goal\"\"\"\n",
        "        return node in self.goals\n",
        "\n",
        "    def neighbors(self,node):\n",
        "        \"\"\"returns the neighbors of node (a list of arcs)\"\"\"\n",
        "        return self.neighs[node]\n",
        "\n",
        "    def heuristic(self,node):\n",
        "        \"\"\"Gives the heuristic value of node n.\n",
        "        Returns 0 if not overridden in the hmap.\"\"\"\n",
        "        if node in self.hmap:\n",
        "            return self.hmap[node]\n",
        "        else:\n",
        "            return 0\n",
        "\n",
        "    def __repr__(self):\n",
        "        \"\"\"returns a string representation of the search problem\"\"\"\n",
        "        res=\"\"\n",
        "        for arc in self.arcs:\n",
        "            res += f\"{arc}.  \"\n",
        "        return res\n",
        "\n"
      ]
    },
    {
      "cell_type": "markdown",
      "id": "0b683c82-ed04-4cb4-8f40-48b87a130532",
      "metadata": {
        "id": "0b683c82-ed04-4cb4-8f40-48b87a130532"
      },
      "source": [
        "### Rutas\n",
        "Un agente de búsqueda devolverá una ruta desde el nodo inicial hasta un nodo meta. Una lista de Python no es una representación adecuada para una ruta, ya que muchos algoritmos de búsqueda consideran varias rutas a la vez y estas rutas deben compartir partes iniciales de la ruta. Si quisiéramos hacer esto con listas de Python, necesitaríamos seguir copiando la lista, lo que puede resultar costoso si la lista es larga. Aquí se utiliza una representación alternativa en términos de una estructura de datos recursiva que puede compartir subpartes.\n",
        "\n",
        "Un camino es:\n",
        "- un nodo (que representa un camino de longitud 0) o\n",
        "- una ruta, `initial` y un arco, donde el `from_node` del arco es el nodo al final de `initial`.\n",
        "\n",
        "Estos casos se distinguen en el siguiente código haciendo `arc=None` si la ruta tiene longitud 0, en cuyo caso `initial` es el nodo de la ruta. Tenga en cuenta que sólo utilizamos la forma más básica de Python `yield` para las enumeraciones (Sección 1.5.4 del manual).\n"
      ]
    },
    {
      "cell_type": "code",
      "execution_count": 5,
      "id": "27ead635-9c68-4207-9218-246f6fa1097e",
      "metadata": {
        "id": "27ead635-9c68-4207-9218-246f6fa1097e"
      },
      "outputs": [],
      "source": [
        "class Path(object):\n",
        "    \"\"\"A path is either a node or a path followed by an arc\"\"\"\n",
        "\n",
        "    def __init__(self,initial,arc=None):\n",
        "        \"\"\"initial is either a node (in which case arc is None) or\n",
        "        a path (in which case arc is an object of type Arc)\"\"\"\n",
        "        self.initial = initial\n",
        "        self.arc=arc\n",
        "        if arc is None:\n",
        "            self.cost=0\n",
        "        else:\n",
        "            self.cost = initial.cost+arc.cost\n",
        "\n",
        "    def end(self):\n",
        "        \"\"\"returns the node at the end of the path\"\"\"\n",
        "        if self.arc is None:\n",
        "            return self.initial\n",
        "        else:\n",
        "            return self.arc.to_node\n",
        "\n",
        "    def nodes(self):\n",
        "        \"\"\"enumerates the nodes for the path.\n",
        "        This enumerates the nodes in the path from the last elements backwards.\n",
        "        \"\"\"\n",
        "        current = self\n",
        "        while current.arc is not None:\n",
        "            yield current.arc.to_node\n",
        "            current = current.initial\n",
        "        yield current.initial\n",
        "\n",
        "    def initial_nodes(self):\n",
        "        \"\"\"enumerates the nodes for the path before the end node.\n",
        "        This calls nodes() for the initial part of the path.\n",
        "        \"\"\"\n",
        "        if self.arc is not None:\n",
        "            yield from self.initial.nodes()\n",
        "\n",
        "    def __repr__(self):\n",
        "        \"\"\"returns a string representation of a path\"\"\"\n",
        "        if self.arc is None:\n",
        "            return str(self.initial)\n",
        "        elif self.arc.action:\n",
        "            return f\"{self.initial}\\n   --{self.arc.action}--> {self.arc.to_node}\"\n",
        "        else:\n",
        "            return f\"{self.initial} --> {self.arc.to_node}\"\n",
        "\n"
      ]
    },
    {
      "cell_type": "markdown",
      "id": "93bb4bc4-d945-44ee-a799-0531297b02b2",
      "metadata": {
        "id": "93bb4bc4-d945-44ee-a799-0531297b02b2"
      },
      "source": [
        "### EJM. Problemas de Búsqueda"
      ]
    },
    {
      "cell_type": "code",
      "execution_count": null,
      "id": "05f8b522",
      "metadata": {
        "colab": {
          "base_uri": "https://localhost:8080/",
          "height": 321
        },
        "id": "05f8b522",
        "outputId": "b45ccc46-a36f-4e1a-fc45-30e57783e9a4",
        "scrolled": true
      },
      "outputs": [],
      "source": [
        "from IPython.display import Image\n",
        "i = Image(filename='D:\\\\Cursos\\\\IA\\\\Busq en Espacio Estado\\\\2024-1\\\\Fig1.jpg')\n",
        "i"
      ]
    },
    {
      "cell_type": "code",
      "execution_count": null,
      "id": "R91XvePjx3oD",
      "metadata": {
        "colab": {
          "base_uri": "https://localhost:8080/",
          "height": 304
        },
        "id": "R91XvePjx3oD",
        "outputId": "ab38cbd6-2dcb-44d7-eb7b-28b5bc034d1e"
      },
      "outputs": [],
      "source": [
        "from google.colab import drive\n",
        "drive.mount('/content/drive')"
      ]
    },
    {
      "cell_type": "markdown",
      "id": "304b726c-644e-446e-876e-b08f759ddb83",
      "metadata": {
        "id": "304b726c-644e-446e-876e-b08f759ddb83"
      },
      "source": [
        "                Figura 1"
      ]
    },
    {
      "cell_type": "markdown",
      "id": "ccbdab98-4c46-4af5-a751-a972de71cfe5",
      "metadata": {
        "id": "ccbdab98-4c46-4af5-a751-a972de71cfe5"
      },
      "source": [
        "El primer problema de búsqueda que analizaremos es uno con 5 nodos donde la ruta de menor costo es aquella con muchos arcos (ver Figura 1)."
      ]
    },
    {
      "cell_type": "code",
      "execution_count": 8,
      "id": "f6cdbde7-c975-404f-9dbc-1cec0885eb8b",
      "metadata": {
        "colab": {
          "base_uri": "https://localhost:8080/",
          "height": 384
        },
        "id": "f6cdbde7-c975-404f-9dbc-1cec0885eb8b",
        "outputId": "c890cdc6-5f44-4f66-a106-f7832389cb90"
      },
      "outputs": [],
      "source": [
        "problem1 = Search_problem_from_explicit_graph('Problem 1', {'A','B','C','D','G'},\n",
        "   [Arc('A','B'), Arc('A','C'), Arc('B','D'), Arc('B','G'), Arc('C','B'), Arc('C','D'), Arc('D','G')],\n",
        "   start = 'A',\n",
        "   goals = {'G'},\n",
        "   positions={'A': (0, 1), 'B': (0.5, 0.5), 'C': (0,0.5), 'D': (0.5,0), 'G': (1,0)})"
      ]
    },
    {
      "cell_type": "markdown",
      "id": "76c3ca29-fc23-4c0e-b77a-c1eca084b486",
      "metadata": {
        "id": "76c3ca29-fc23-4c0e-b77a-c1eca084b486"
      },
      "source": [
        "### Agente de búsqueda\n",
        "A un agente de búsqueda `Searcher` para un problema se le puede preguntar repetidamente cuál es la siguiente ruta. Para resolver un problema, se puede construir un objeto `Searcher` para dicho problema y luego solicitar repetidamente la siguiente ruta mediante  `search`. Si no hay más rutas, se devuelve `None`."
      ]
    },
    {
      "cell_type": "code",
      "execution_count": 9,
      "id": "a3466fb8-1d3b-4bc5-b88e-7536f0587e10",
      "metadata": {
        "colab": {
          "base_uri": "https://localhost:8080/",
          "height": 211
        },
        "id": "a3466fb8-1d3b-4bc5-b88e-7536f0587e10",
        "outputId": "8c86ed41-9499-48e1-c79f-93177ba23d0a"
      },
      "outputs": [],
      "source": [
        "# searchGeneric.py - Generic Searcher, including depth-first and A*\n",
        "# AIFCA Python code Version 0.9.12 Documentation at https://aipython.org\n",
        "# Download the zip file and read aipython.pdf for documentation\n",
        "\n",
        "# Artificial Intelligence: Foundations of Computational Agents https://artint.info\n",
        "# Copyright 2017-2024 David L. Poole and Alan K. Mackworth\n",
        "# This work is licensed under a Creative Commons\n",
        "# Attribution-NonCommercial-ShareAlike 4.0 International License.\n",
        "# See: https://creativecommons.org/licenses/by-nc-sa/4.0/deed.en\n",
        "\n",
        "\n",
        "\n",
        "class Searcher(Displayable):\n",
        "    \"\"\"returns a searcher for a problem.\n",
        "    Paths can be found by repeatedly calling search().\n",
        "    This does depth-first search unless overridden\n",
        "    \"\"\"\n",
        "    def __init__(self, problem):\n",
        "        \"\"\"creates a searcher from a problem\n",
        "        \"\"\"\n",
        "        self.problem = problem\n",
        "        self.initialize_frontier()\n",
        "        self.num_expanded = 0\n",
        "        self.add_to_frontier(Path(problem.start_node()))\n",
        "        super().__init__()\n",
        "\n",
        "    def initialize_frontier(self):\n",
        "        self.frontier = []\n",
        "\n",
        "    def empty_frontier(self):\n",
        "        return self.frontier == []\n",
        "\n",
        "    def add_to_frontier(self,path):\n",
        "        self.frontier.append(path)\n",
        "\n",
        "    def search(self):\n",
        "        \"\"\"returns (next) path from the problem's start node\n",
        "        to a goal node.\n",
        "        Returns None if no path exists.\n",
        "        \"\"\"\n",
        "        while not self.empty_frontier():\n",
        "            self.path = self.frontier.pop()\n",
        "            self.num_expanded += 1\n",
        "            if self.problem.is_goal(self.path.end()):    # solution found\n",
        "                self.solution = self.path   # store the solution found\n",
        "                self.display(1, f\"Solution: {self.path} (cost: {self.path.cost})\\n\",\n",
        "                    self.num_expanded, \"paths have been expanded and\",\n",
        "                            len(self.frontier), \"paths remain in the frontier\")\n",
        "                return self.path\n",
        "            else:\n",
        "                self.display(4,f\"Expanding: {self.path} (cost: {self.path.cost})\")\n",
        "                neighs = self.problem.neighbors(self.path.end())\n",
        "                self.display(2,f\"Expanding: {self.path} with neighbors {neighs}\")\n",
        "                for arc in reversed(list(neighs)):\n",
        "                    self.add_to_frontier(Path(self.path,arc))\n",
        "                self.display(3, f\"New frontier: {[p.end() for p in self.frontier]}\")\n",
        "\n",
        "        self.display(0,\"No (more) solutions. Total of\",\n",
        "                     self.num_expanded,\"paths expanded.\")\n",
        "\n",
        "# Depth-first search for problem1; do the following:\n",
        "# searcher1 = Searcher(searchExample.problem1)\n",
        "# searcher1.search()  # find first solution\n",
        "# searcher1.search()  # find next solution (repeat until no solutions)\n",
        "# searcher_sdg = Searcher(searchExample.simp_delivery_graph)\n",
        "# searcher_sdg.search()  # find first or next solution\n",
        "\n"
      ]
    },
    {
      "cell_type": "markdown",
      "id": "6cb3577c-ece2-47e4-81ba-404b42ee2b78",
      "metadata": {
        "id": "6cb3577c-ece2-47e4-81ba-404b42ee2b78"
      },
      "source": [
        "Notar que esto invierte los neighbors (vecinos) de modo que implementa la búsqueda en profundidad de una manera intuitiva (expandiendo primero el primer vecino). La llamada a  `list` es para el caso en el que se generan los vecinos (y aún no están en una lista). Es posible que no se requiera invertir los neighbors (vecinos) para otros métodos. Las llamadas a `reversed` y a `list` se pueden eliminar, y el algoritmo aún implementa la búsqueda en profundidad.\n",
        "\n",
        "Para utilizar la búsqueda en profundidad para encontrar múltiples rutas para el `problem1`, ejecute el código contenido en la celda que viene a continuación; puede seguir buscando las siguientes soluciones hasta que no haya más:"
      ]
    },
    {
      "cell_type": "code",
      "execution_count": 10,
      "id": "f54e1dc0-6fec-4eab-b975-88be130a2a38",
      "metadata": {
        "colab": {
          "base_uri": "https://localhost:8080/",
          "height": 193
        },
        "id": "f54e1dc0-6fec-4eab-b975-88be130a2a38",
        "outputId": "77023a24-6dd4-4c61-c6f2-3e544957a2a9"
      },
      "outputs": [
        {
          "name": "stdout",
          "output_type": "stream",
          "text": [
            "Solution: A --> B --> D --> G (cost: 3)\n",
            " 4 paths have been expanded and 2 paths remain in the frontier\n"
          ]
        },
        {
          "data": {
            "text/plain": [
              "A --> B --> D --> G"
            ]
          },
          "execution_count": 10,
          "metadata": {},
          "output_type": "execute_result"
        }
      ],
      "source": [
        "# Depth-first search for problem1; do the following:\n",
        "searcher1 = Searcher(problem1)\n",
        "searcher1.search() # find first solution\n",
        "# searcher1.search() # find next solution (repeat until no solutions)"
      ]
    },
    {
      "cell_type": "code",
      "execution_count": 11,
      "id": "9d6cb07e-39d1-4b42-bfc3-4f55f6fac7e5",
      "metadata": {
        "id": "9d6cb07e-39d1-4b42-bfc3-4f55f6fac7e5"
      },
      "outputs": [
        {
          "name": "stdout",
          "output_type": "stream",
          "text": [
            "Solution: A --> B --> G (cost: 2)\n",
            " 5 paths have been expanded and 1 paths remain in the frontier\n"
          ]
        },
        {
          "data": {
            "text/plain": [
              "A --> B --> G"
            ]
          },
          "execution_count": 11,
          "metadata": {},
          "output_type": "execute_result"
        }
      ],
      "source": [
        "searcher1.search()"
      ]
    },
    {
      "cell_type": "markdown",
      "id": "fd942bd4-3548-4b6a-80d0-682ad40af56d",
      "metadata": {
        "id": "fd942bd4-3548-4b6a-80d0-682ad40af56d"
      },
      "source": [
        "### Frontera de caminos\n",
        "Como sabemos, un algoritmo genérico para la búsqueda de una ruta solución en un grafo llama a procedimientos que pueden codificarse para implementar varias estrategias de búsqueda.\n",
        "\n",
        "La idea intuitiva detrás del algoritmo de búsqueda genérico, dado un grafo, un nodo inicial y un predicado de meta, es explorar rutas de forma incremental desde el nodo inicial. Esto se hace manteniendo una `frontera` (o franja) de caminos desde el nodo inicial; contiene todos los caminos que podrían formar segmentos iniciales de caminos desde el nodo inicial hasta un nodo meta (ver figura en celda siguiente, donde la `frontera` es el conjunto de caminos hacia los nodos sombreados en gris). Inicialmente, la `frontera` contiene el camino trivial que contiene sólo el nodo inicial y ningún arco. A medida que avanza la búsqueda, la `frontera` se expande hacia los nodos inexplorados hasta que se encuentra un nodo meta. Mediante una adecuada implementación de la `frontera` se pueden obtener diferentes estrategias de búsqueda."
      ]
    },
    {
      "cell_type": "code",
      "execution_count": null,
      "id": "6faa2c18-5630-4cf3-8b87-46473ff54d6a",
      "metadata": {
        "id": "6faa2c18-5630-4cf3-8b87-46473ff54d6a"
      },
      "outputs": [],
      "source": [
        "from IPython.display import Image\n",
        "i = Image(filename='E:\\\\Curso EPISW\\\\IA 2025-1\\\\BEE\\\\frontera.png')\n",
        "i"
      ]
    },
    {
      "cell_type": "markdown",
      "id": "c56be704-0169-4081-9679-2c4e357915e7",
      "metadata": {
        "id": "c56be704-0169-4081-9679-2c4e357915e7"
      },
      "source": [
        "###  Frontera como cola de prioridad\n",
        "En muchos de los algoritmos de búsqueda, como A* y otros métodos de búsqueda del tipo primero el mejor, la frontera se implementa como una cola de prioridad. El código mostrado a continuación utiliza las implementaciones de cola de prioridad integradas de Python, `heapq`.\n",
        "\n",
        "Siguiendo el ejemplo de la documentación de Python, https://docs.python.org/3/library/heapq.html - o su versión en castellano  [heapq — Algoritmo de colas montículos (heap)](https://docs.python.org/es/3.10/library/heapq.html) - una frontera es una lista de tripletas. El primer elemento de cada tripleta es el valor a minimizar. El segundo elemento es un índice único que especifica el orden en que se agregaron los elementos a la cola y el tercer elemento es la ruta que está en la cola. El uso del índice único garantiza que la implementación de la cola de prioridad no compare rutas; no está definido si una ruta es menor que otra. También nos permite controlar qué tipo de búsqueda (p.ej., primero en profundidad o primero en amplitud) se produce cuando el valor a minimizar no proporciona una siguiente ruta única.\n",
        "\n",
        "La variable `frontier index` es el número total de elementos de la frontera que se han creado. Además de utilizarse como índice único, es útil para las estadísticas, especialmente en relación con el tamaño actual de la frontera."
      ]
    },
    {
      "cell_type": "code",
      "execution_count": 14,
      "id": "e775f03f-2b01-450f-bdea-b0fc189189ad",
      "metadata": {
        "id": "e775f03f-2b01-450f-bdea-b0fc189189ad"
      },
      "outputs": [],
      "source": [
        "import heapq # part of the Python standard library\n",
        "\n",
        "class FrontierPQ(object):\n",
        "    \"\"\"A frontier consists of a priority queue (heap), frontierpq, of\n",
        "       (value, index, path) triples, where\n",
        "    * value is the value we want to minimize (e.g., path cost + h).\n",
        "    * index is a unique index for each element\n",
        "    * path is the path on the queue\n",
        "    Note that the priority queue always returns the smallest element.\n",
        "    \"\"\"\n",
        "\n",
        "    def __init__(self):\n",
        "        \"\"\"constructs the frontier, initially an empty priority queue\n",
        "        \"\"\"\n",
        "        self.frontier_index = 0 # the number of items added to the frontier\n",
        "        self.frontierpq = [] # the frontier priority queue\n",
        "\n",
        "    def empty(self):\n",
        "        \"\"\"is True if the priority queue is empty\"\"\"\n",
        "        return self.frontierpq == []\n",
        "\n",
        "    def add(self, path, value):\n",
        "        \"\"\"add a path to the priority queue\n",
        "        value is the value to be minimized\"\"\"\n",
        "        self.frontier_index += 1 # get a new unique index\n",
        "        heapq.heappush(self.frontierpq,(value, -self.frontier_index, path))\n",
        "\n",
        "    def pop(self):\n",
        "        \"\"\"returns and removes the path of the frontier with minimum value.\n",
        "        \"\"\"\n",
        "        (_,_,path) = heapq.heappop(self.frontierpq)\n",
        "        return path\n"
      ]
    },
    {
      "cell_type": "markdown",
      "id": "d08cf224-194d-447d-a444-55be041cadd6",
      "metadata": {
        "id": "d08cf224-194d-447d-a444-55be041cadd6"
      },
      "source": [
        "Los sgtes métodos se utilizan para buscar e imprimir información sobre la frontera."
      ]
    },
    {
      "cell_type": "code",
      "execution_count": 15,
      "id": "7dea4150-3070-49a1-957d-d4ba3ebabdc2",
      "metadata": {
        "id": "7dea4150-3070-49a1-957d-d4ba3ebabdc2"
      },
      "outputs": [],
      "source": [
        "def count(self,val):\n",
        "       \"\"\"returns the number of elements of the frontier with value=val\"\"\"\n",
        "       return sum(1 for e in self.frontierpq if e[0]==val)\n",
        "\n",
        "def __repr__(self):\n",
        "    \"\"\"string representation of the frontier\"\"\"\n",
        "    return str([(n,c,str(p)) for (n,c,p) in self.frontierpq])\n",
        "def __len__(self):\n",
        "       \"\"\"length of the frontier\"\"\"\n",
        "       return len(self.frontierpq)\n",
        "\n",
        "def __iter__(self):\n",
        "       \"\"\"iterate through the paths in the frontier\"\"\"\n",
        "       for (_,_,path) in self.frontierpq:\n",
        "           yield path"
      ]
    },
    {
      "cell_type": "markdown",
      "id": "50e86d18-bcbe-48cd-9d9b-3a75f579fa8f",
      "metadata": {
        "id": "50e86d18-bcbe-48cd-9d9b-3a75f579fa8f"
      },
      "source": [
        "## Búsqueda A*\n",
        "Para una búsqueda A*, la frontera se implementa utilizando la clase `FrontierPQ` creada en la celda anterior."
      ]
    },
    {
      "cell_type": "code",
      "execution_count": 16,
      "id": "8f3138c3-2e13-41ee-822b-2f07dafcbcc7",
      "metadata": {
        "id": "8f3138c3-2e13-41ee-822b-2f07dafcbcc7"
      },
      "outputs": [],
      "source": [
        "class AStarSearcher(Searcher):\n",
        "    \"\"\"returns a searcher for a problem.\n",
        "    Paths can be found by repeatedly calling search().\n",
        "    \"\"\"\n",
        "\n",
        "    def __init__(self, problem):\n",
        "        super().__init__(problem)\n",
        "\n",
        "    def initialize_frontier(self):\n",
        "        self.frontier = FrontierPQ()\n",
        "\n",
        "    def empty_frontier(self):\n",
        "        return self.frontier.empty()\n",
        "\n",
        "    def add_to_frontier(self,path):\n",
        "        \"\"\"add path to the frontier with the appropriate cost\"\"\"\n",
        "        value = path.cost+self.problem.heuristic(path.end())\n",
        "        self.frontier.add(path, value)\n"
      ]
    },
    {
      "cell_type": "markdown",
      "id": "b8d18bc8",
      "metadata": {
        "id": "b8d18bc8"
      },
      "source": [
        "## Ejercicios\n",
        "### Ejercicio 1\n",
        "- Estudie detenidamente la versión del algoritmo de búsqueda presentada (usa búsqueda en profundidad por defecto) en este documento.\n",
        "- Aplique dicho algoritmo para obtener la ruta solución para el camino s-m en el grafo mostrado en la figura A.\n",
        "- Muestre la visualización gráfica del grafo de búsqueda. Use para tal efecto el código disponible en el manual de la distribución AIPython. Agregue las líneas de código que se requieran."
      ]
    },
    {
      "cell_type": "code",
      "execution_count": null,
      "id": "e7af7c4e-4268-4567-b385-0037a54c032c",
      "metadata": {
        "colab": {
          "base_uri": "https://localhost:8080/",
          "height": 321
        },
        "id": "e7af7c4e-4268-4567-b385-0037a54c032c",
        "outputId": "5af3d3f0-15f5-4e48-bc28-5f55b6532256"
      },
      "outputs": [],
      "source": [
        "from IPython.display import Image\n",
        "i = Image(filename='C:\\\\Users\\\\rolan\\\\Cuads computs\\\\IA 2021-1\\\\arbol1.jpg')\n",
        "i"
      ]
    },
    {
      "cell_type": "markdown",
      "id": "3c6913f1-3b79-48d1-98c6-e65797e3e608",
      "metadata": {
        "id": "3c6913f1-3b79-48d1-98c6-e65797e3e608"
      },
      "source": [
        "          Figura A"
      ]
    },
    {
      "cell_type": "markdown",
      "id": "2f88ec77-5d42-4e82-859e-b6595144eaba",
      "metadata": {
        "id": "2f88ec77-5d42-4e82-859e-b6595144eaba"
      },
      "source": [
        "### Ejercicio 2\n",
        "- A partir de la versión del algoritmo de búsqueda presentada (usa búsqueda en profundidad por defecto), implemente ahora el algoritmo de búsqueda no determinista. Documente su código.\n",
        "- Tomando como referencia el grafo mostrado en la figura 1, aplique dicho algoritmo. Explique razonadamente su respuesta.\n",
        "\n",
        "### Ejercicio 3\n",
        "- Tomando como referencia el problema denominado `El Viaje por Andalucía` (descrito en este mismo documento), aplique el algoritmo A* al problema de determinar una ruta Sevilla-Almería. Use la implementación mostrada en este cuaderno computacional interactivo, efectuando (cuando se requiera) las modificaciones al código requeridas para su adaptación.        (6 puntos)\n",
        "- Enseguida use el código que ha desarrollado para determinar otra ruta, tal como Almería-Huelva.  (1 punto)\n",
        "\n",
        "### Ejercicio 4\n",
        "- Haga lo mismo (estudiar conceptos y el código *original* mostrados en celdas anteriores) para implementar ahora el algoritmo de búsqueda por costo uniforme para resolver el problema de determinar una ruta Sevilla-Almería. (5 puntos)\n",
        "- Enseguida use el código desarrollado por usted para determinar otra ruta, tal como Almería-Huelva. (1 punto)\n",
        "\n",
        "**Nota**: cuando se pide efectuar modificaciones en un código base quiere decir que se pueden definir funciones e insertarlas  adecuadamente en alguna parte del mismo, usando funciones ya definidas, eliminar algunas líneas de código, modificando el código innecesario, entre otras acciones."
      ]
    },
    {
      "cell_type": "markdown",
      "id": "03b178ea-569d-4b53-8140-7ba280166397",
      "metadata": {
        "id": "03b178ea-569d-4b53-8140-7ba280166397"
      },
      "source": [
        "## EL VIAJE POR LAS CIUDADES DE ANDALUCÍA\n",
        "Supongamos nos encontramos en una capital de la región de España denominada Andalucía, p.e. Sevilla y deseamos ir a otra capital andaluza, p.e. AlmerÍa. Se sabe que los autobuses sólo van de cada capital a sus vecinas. Enseguida se muestra un mapa de dicha región y las coordenadas geográficas de las ciudades que pertenecen a ella:"
      ]
    },
    {
      "cell_type": "code",
      "execution_count": null,
      "id": "14b986e9-394b-498a-b080-c9d3d3258a7c",
      "metadata": {
        "colab": {
          "base_uri": "https://localhost:8080/",
          "height": 321
        },
        "id": "14b986e9-394b-498a-b080-c9d3d3258a7c",
        "outputId": "864c6dae-d5f3-4f7d-9b44-0f783bc6ba8c"
      },
      "outputs": [],
      "source": [
        "from IPython.display import Image\n",
        "i = Image(filename='D:\\\\Cursos\\\\IA\\\\Python\\\\2021-1\\\\andalucia-distancias.png')\n",
        "i"
      ]
    },
    {
      "cell_type": "markdown",
      "id": "18ca1099-7fda-415f-995b-15aaee653a88",
      "metadata": {
        "id": "18ca1099-7fda-415f-995b-15aaee653a88"
      },
      "source": [
        "### Almacenamiento de coordenadas de ciudades\n",
        "Usaremos un diccionario para almacenar la información sobre las coordenadas de c/u de las ciudades."
      ]
    },
    {
      "cell_type": "code",
      "execution_count": 18,
      "id": "f20f7e51-699d-4b87-92b2-91ee5a9394c5",
      "metadata": {
        "colab": {
          "base_uri": "https://localhost:8080/"
        },
        "id": "f20f7e51-699d-4b87-92b2-91ee5a9394c5",
        "outputId": "761e0459-9f01-417a-8cd0-1400289ac0e2"
      },
      "outputs": [
        {
          "name": "stdout",
          "output_type": "stream",
          "text": [
            "{'almeria': [409.5, 93], 'granada': [309, 127.5], 'malaga': [232.5, 75], 'cadiz': [63, 57], 'huelva': [3, 139.5], 'sevilla': [90, 153], 'cordoba': [198, 207], 'jaen': [295.5, 192]}\n"
          ]
        }
      ],
      "source": [
        "ciudades = {\"almeria\": [409.5,93], \"granada\":[309,127.5], \"malaga\":[232.5,75], \"cadiz\":[63,57], \"huelva\":[3,139.5], \"sevilla\":[90,153], \"cordoba\":[198,207], \"jaen\":[295.5,192]}\n",
        "print(ciudades)"
      ]
    },
    {
      "cell_type": "markdown",
      "id": "b224abd5-c902-4482-8bbb-fe2d9aa685ad",
      "metadata": {
        "id": "b224abd5-c902-4482-8bbb-fe2d9aa685ad"
      },
      "source": [
        "### Definición de función distancia\n",
        "Definimos una función distancia que, dadas dos ciudades, devuelve la distancia Euclidiana entre ellas. Usa las coordenadas (abcisa,ordenada) de las ciudades en dicho cálculo; las coordenadas se obtienen aplicando el método get(keyN) al diccionario ciudades, donde N={1,2} corresponden a la ciudad 1 ó 2."
      ]
    },
    {
      "cell_type": "code",
      "execution_count": 19,
      "id": "f8333c45-ea76-42d9-8496-e606f2722b61",
      "metadata": {
        "id": "f8333c45-ea76-42d9-8496-e606f2722b61"
      },
      "outputs": [],
      "source": [
        "import math\n",
        "\n",
        "def distancia(key1,key2):\n",
        "    abcisa1,ordenada1 = ciudades.get(key1)\n",
        "    abcisa2,ordenada2 = ciudades.get(key2)\n",
        "    return math.sqrt((abcisa1 - abcisa2)**2 + (ordenada1 - ordenada2)**2)"
      ]
    },
    {
      "cell_type": "markdown",
      "id": "2b32ff2a",
      "metadata": {
        "id": "2b32ff2a"
      },
      "source": [
        "## Instrucciones para el envío de la solución\n",
        "La solución de la \"Práctica de Laboratorio 2 - IA 2025-1 Sección 1 EPISW\" podrá enviarse al correo electrónico rmaguinacursos@gmail.com, hasta las 23:59 h del Sábado 06 de Abril del 2025, en un archivo con extensión .ipynb.\n",
        "\n",
        "El documento deberá tener las sgtes características:\n",
        "\n",
        "- Nombre del archivo:\n",
        "\n",
        "       solPGL2_IA_2025-1_G1_EPISW_nombre-apellidos-alumno1_..._nombre-apellidos-alumno4.ipynb\n",
        "\n",
        "- Todas las preguntas de la Práctica deben responderse en un cuaderno computacional interactivo (**Sugerencia**: obtener una copia de este documento y desarrollar en éllas respectivas soluciones); la solución a cada pregunta debe registrarse en una celda debajo del planteamiento de la misma, mencionando explícitamente como subtítulo: \"Solución del ejercicio n\", donde \"n\" corresponde al número del ejercicio."
      ]
    }
  ],
  "metadata": {
    "colab": {
      "provenance": []
    },
    "kernelspec": {
      "display_name": "venv",
      "language": "python",
      "name": "python3"
    },
    "language_info": {
      "codemirror_mode": {
        "name": "ipython",
        "version": 3
      },
      "file_extension": ".py",
      "mimetype": "text/x-python",
      "name": "python",
      "nbconvert_exporter": "python",
      "pygments_lexer": "ipython3",
      "version": "3.9.21"
    }
  },
  "nbformat": 4,
  "nbformat_minor": 5
}
