{
  "cells": [
    {
      "cell_type": "markdown",
      "metadata": {
        "id": "TZwq2dtPfMd5"
      },
      "source": [
        "# Práctica Guiada de Laboratorio 4: Sistema Experto en CLIPS\n",
        "# Curso \"Inteligencia Artificial\" Semestre 2025-1 - Sección 1 - EPISW\n",
        "\n",
        "### Prof. Rolando A. Maguiña Pérez\n",
        "### Abril 2025"
      ]
    },
    {
      "cell_type": "markdown",
      "metadata": {
        "id": "rkz_M7wofbRZ"
      },
      "source": [
        "## Introducción\n",
        "En la Práctica a desarrollarse el 27 de Abril del presente, se presenta la herramienta llamada `CLIPS` (C Language Integrated Production System) que permite la construcción de sistemas expertos basados en regla. Con esta herramienta se pretende desarrollar un prototipo de sistema experto para el diagnóstico del COVID-19; no pretende ser un sistema totalmente funcional, por lo menos en el estadío actual, sin embargo para los fines que se persiguen en esta Práctica nos será útil.\n",
        "\n",
        "En la parte final del cuaderno se plantean algunos ejercicios que deberán ser resueltos en grupos de 3 alumnos (como máximo).\n",
        "\n",
        "## Objetivos de la Práctica\n",
        "- Que los alumnos puedan conocer la programación en CLIPS a través de los ejms presentados y especialmente mediante la resolución de los ejercicios propuestos.\n",
        "- Se espera que pueda servir de ayuda para el desarrollo del prototipo de sistema experto a ser solicitado probablemente en el Trabajo Computacional del presente curso.\n",
        "  \n",
        "## Preparativos de la Práctica\n",
        "Para instalar CLIPS efectuar los sgts pasos:\n",
        "- a) Descargar el Windows Installer Package “clips_windows_64_bit_executables_640” desde la carpeta compartida del curso a la carpeta C:\\CLIPS.\n",
        "- b) Ejecutar el archivo y seguir las instrucciones que aparecen en pantalla.\n",
        "- c) Crear acceso directo en escritorio para el programa.\n",
        "\n",
        "Los archivos CLIPS utilizan la extensión `.clp` y se pueden crear con cualquier editor de archivos de texto aunque se recomienda usar el editor del propio CLIPS.\n",
        "\n",
        "Con la finalidad de observar el resultado de las acciones a efectuar, abra las ventanas `Agenda` y `Facts`. Para ello, elija `Facts (MAIN)` y `Agenda (MAIN)` de la opción `Window` que aparece en el menú principal.\n",
        "\n",
        "## CLIPS\n",
        "CLIPS es un lenguaje de programación basado en reglas desarrollado por la NASA en 1985. Es uno de los sistemas expertos más potentes y utilizados en el ámbito académico e industrial, especialmente diseñado para modelar conocimiento experto mediante reglas \"si-entonces\". Su motor de inferencia utiliza el algoritmo Rete, optimizado para evaluar eficientemente grandes conjuntos de reglas.\n",
        "\n",
        "CLIPS permite crear sistemas expertos basados en reglas. Las reglas son una forma de representar los conocimientos del experto, constan normalmente de una parte condicional que, si se cumple, tiene como consecuencia la ejecución de una acción asociada. Cada vez que se aplica una de las reglas, los datos guardados en el sistema pueden variar, dando lugar a que se activen otras reglas que en la situación anterior no lo estaban. La resolución del problema planteado pasa por la aplicación sucesiva de reglas hasta que se llega a la condición de finalización. A este proceso se le denomina conducido por los datos o `encadenamiento progresivo`, ya que las acciones sólo se producen cuando hay datos que las justifican.\n",
        "\n",
        "### Caracteres delimitadores\n",
        ";  \tComentario\n",
        "\" \tInicio o final de un string\n",
        "( \tInicio de una expresión\n",
        ") \tFinal de una expresión\n",
        "?\tInicio de una variable comodín\n",
        "$\tInicio de una variable multicampo\n",
        "\n",
        "### Tipos de datos I\n",
        "#### Numéricos\n",
        "- Reales (FLOAT): Ej.: 1.5, -0.7, 3.5e-10\n",
        "- Enteros (INTEGER): Ej.: 1, -1, +3, 65\n",
        "\n",
        "#### Simbólicos\n",
        "- Símbolos (SYMBOL): Cualquier secuencia de caracteres que no siga el formato de un número, excluyendo ciertos caracteres. Ej: casa, arbol, perro\n",
        "- Cadenas (STRING): Cualquier secuencia de caracteres entre comillas. Ej: “Juan Molina”, “Casa del arbol”\n",
        "\n",
        "### Tipos de datos II\n",
        "Tipos de datos propios de CLIPS, permiten almacenar direcciones de los hechos, direcciones externas, instancias de nombres e instancias de direcciones\n",
        "- Fact-address Direcciones de hechos\n",
        "    - Lista de hechos: hechos referenciados por su posición o por un nombre.\n",
        "    - Se imprime como <fact XXX> (XXX: índice del hecho en memoria)\n",
        "- External-address Direcciones externas\n",
        "    - Dirección de una estructura de datos externa devuelta por una función escrita en C o Ada, que ha sido integrada con CLIPS.\n",
        "    - Se imprime como <pointer XXX>\n",
        "\n",
        "### Constructores\n",
        "Constructor: Permite al programador añadir elementos a la base de hechos y a la base de conocimiento (funciones, reglas, hechos, clases).\n",
        "\n",
        "Los más importantes son:\n",
        "- `deffunction`: Para definir funciones\n",
        "- `defglobal`: Para definir variables globales\n",
        "- `deftemplate`: Para definir plantillas\n",
        "- `deffacts`: Para definir hechos\n",
        "- `defrule`: Para definir reglas\n",
        "- `defmodule`: Para definir módulos\n",
        "\n",
        "Hay también constructores para definir objetos.\n",
        "\n",
        "### Comandos\n",
        "Comandos: Realizan acciones con efectos colaterales sin devolver valor alguno y son llamados entre paréntesis.\n",
        "\n",
        "Algunos comandos:\n",
        "- `(exit)`\n",
        "- `(assert ...)`\n",
        "- `(watch ...)`\n",
        "- `(run)`\n",
        "- `(reset)`\n",
        "- `(clear)`\n",
        "\n",
        "\n"
      ]
    },
    {
      "cell_type": "markdown",
      "metadata": {
        "id": "5yNP-VL8kdwg"
      },
      "source": [
        "## Implementación del Sistema Experto en CLIPS\n",
        "### Definición del Problema\n",
        "\n",
        "Una de las aplicaciones más conocidas de los sistemas expertos es diagnóstico médico. En la presente Práctica se va a implementar un sistema de diagnóstico médico que, a partir de los síntomas del paciente, pueda determinar la enfermedad que padece y sugerir algunas recomendaciones.\n",
        "\n",
        "Se va a implementar un sistema de diagnóstico médico que:\n",
        "- Evalúe síntomas ingresados por el usuario.\n",
        "- Infiera enfermedades basadas en reglas predefinidas.\n",
        "- Priorice diagnósticos según gravedad (ej: COVID-19 sobre gripe).\n",
        "- Genere recomendaciones personalizadas.\n"
      ]
    },
    {
      "cell_type": "markdown",
      "metadata": {
        "id": "HkozWoX1qsr3"
      },
      "source": [
        "### Estructura de Datos (Deftemplate)\n"
      ]
    },
    {
      "cell_type": "code",
      "execution_count": null,
      "metadata": {
        "colab": {
          "base_uri": "https://localhost:8080/",
          "height": 106
        },
        "id": "DPYJvqm7kNqI",
        "outputId": "778d14cf-aea4-484a-9874-009933eaab7c"
      },
      "outputs": [],
      "source": [
        "(deftemplate sintoma\n",
        "    (slot nombre (type SYMBOL))\n",
        ")\n",
        "\n",
        "(deftemplate enfermedad\n",
        "    (slot nombre (type SYMBOL))\n",
        "    (slot recomendacion (type STRING))\n",
        ")"
      ]
    },
    {
      "cell_type": "markdown",
      "metadata": {
        "id": "3Qsr6DLlqyzn"
      },
      "source": [
        "- `sintoma`: Define un hecho con un atributo nombre (ej: fiebre).\n",
        "- `enfermedad`: Almacena diagnósticos con:\n",
        "   - `nombre`: Identificador de la enfermedad.\n",
        "   - `recomendacion`: Acción médica sugerida."
      ]
    },
    {
      "cell_type": "markdown",
      "metadata": {
        "id": "6F6CMQySrfEH"
      },
      "source": [
        "### Reglas de Diagnóstico (Defrule)\n",
        "\n",
        "Cada regla sigue la estructura:\n",
        "SI (condiciones) ENTONCES (acciones).\n",
        "\n",
        "**Regla para Dengue**"
      ]
    },
    {
      "cell_type": "code",
      "execution_count": null,
      "metadata": {
        "id": "FSXOIW0pl7lA"
      },
      "outputs": [],
      "source": [
        "(defrule dengue\n",
        "    (sintoma (nombre fiebre))\n",
        "    (sintoma (nombre dolor_cabeza))\n",
        "    (sintoma (nombre dolor_muscular))\n",
        "    =>\n",
        "    (assert (enfermedad (nombre dengue)\n",
        "                        (recomendacion \"Tomar paracetamol, hidratarse y evitar antiinflamatorios.\"))\n",
        "    )\n",
        ")"
      ]
    },
    {
      "cell_type": "markdown",
      "metadata": {
        "id": "wzpA4XJ8sdI_"
      },
      "source": [
        "Condiciones: Presencia de fiebre + dolor de cabeza + dolor muscular.\n",
        "\n",
        "Acción: Crea un hecho enfermedad con recomendaciones."
      ]
    },
    {
      "cell_type": "markdown",
      "metadata": {
        "id": "jg_HNa1VspIX"
      },
      "source": [
        "Regla para COVID-19 (con prioridad)\n",
        "--------------------------------------"
      ]
    },
    {
      "cell_type": "code",
      "execution_count": null,
      "metadata": {
        "id": "PFEFnUavmBR_"
      },
      "outputs": [],
      "source": [
        "(defrule Covid-19\n",
        "    (sintoma (nombre fiebre))\n",
        "    (sintoma (nombre tos))\n",
        "    (sintoma (nombre perdida_olfato))\n",
        "    (sintoma (nombre perdida_gusto))\n",
        "    =>\n",
        "    (assert (enfermedad (nombre COVID-19)\n",
        "                        (recomendacion \"Aislamiento inmediato, prueba PCR y consultar médico.\"))\n",
        "    )\n",
        ")"
      ]
    },
    {
      "cell_type": "markdown",
      "metadata": {
        "id": "0wxRccGcsvpX"
      },
      "source": [
        "**Condición adicional:** `(not (enfermedad (nombre \"COVID-19\"))` en la regla de gripe evita diagnósticos contradictorios."
      ]
    },
    {
      "cell_type": "markdown",
      "metadata": {
        "id": "rONLcPUAswQn"
      },
      "source": [
        "Regla para Alergia (con exclusión)\n",
        "----------------------------------"
      ]
    },
    {
      "cell_type": "code",
      "execution_count": null,
      "metadata": {
        "id": "4zOfDcqZmGmn"
      },
      "outputs": [],
      "source": [
        "(defrule Alergia\n",
        "    (sintoma (nombre estornudos))\n",
        "    (sintoma (nombre ojos_rojos))\n",
        "    (not (sintoma (nombre fiebre)))\n",
        "    =>\n",
        "    (assert (enfermedad (nombre alergia)\n",
        "                        (recomendacion \"Tomar cetirizina, hidratarse y si los sintomas persisten consultar médico.\"))\n",
        "    )\n",
        ")"
      ]
    },
    {
      "cell_type": "markdown",
      "metadata": {
        "id": "YXuzPbuktRLn"
      },
      "source": [
        "`(not ...):` Descarta alergia si hay fiebre (sugiere infección).\n",
        "\n",
        "Regla para Gripe (con exclusión)\n",
        "----------------------------------"
      ]
    },
    {
      "cell_type": "code",
      "execution_count": null,
      "metadata": {
        "id": "Q_BRPfZrkNqK"
      },
      "outputs": [],
      "source": [
        "(defrule Gripe\n",
        "    (sintoma (nombre fiebre))\n",
        "    (sintoma (nombre tos))\n",
        "    (sintoma (nombre congestion_nasal))\n",
        "    (not (sintoma (nombre perdida_olfato))) ; Diferenciador clave del COVID-19\n",
        "    (not (enfermedad (nombre COVID-19)))    ; Prioridad a COVID-19 si está presente\n",
        "    =>\n",
        "    (assert (enfermedad (nombre gripe)\n",
        "                        (recomendacion \"Reposo, líquidos abundantes y antigripales comunes. Consultar si la fiebre persiste más de 3 días.\"))\n",
        "    )\n",
        ")"
      ]
    },
    {
      "cell_type": "markdown",
      "metadata": {
        "id": "kfJgC4AwtVJ_"
      },
      "source": [
        "Interacción con el Usuario\n",
        "----------------------------------------"
      ]
    },
    {
      "cell_type": "code",
      "execution_count": null,
      "metadata": {
        "id": "BGJHycH5mzk3"
      },
      "outputs": [],
      "source": [
        "(deffunction preguntar-sintomas ()\n",
        "    (printout t \"Síntomas disponibles: fiebre, tos, ...\" crlf)\n",
        "    (bind ?sintoma (read))\n",
        "    (while (neq ?sintoma \"fin\")\n",
        "        (assert (sintoma (nombre ?sintoma)))\n",
        "        (bind ?sintoma (read))\n",
        "    )\n",
        ")"
      ]
    },
    {
      "cell_type": "markdown",
      "metadata": {
        "id": "YT1s0bfGtss_"
      },
      "source": [
        "Flujo:\n",
        "\n",
        "Muestra síntomas posibles.\n",
        "\n",
        "Lee entradas hasta que el usuario escriba \"fin\".\n",
        "\n",
        "Crea hechos sintoma para cada entrada."
      ]
    },
    {
      "cell_type": "markdown",
      "metadata": {
        "id": "wvbEIYf-uLNG"
      },
      "source": [
        "Ejecución del Sistema\n",
        "---------------------------"
      ]
    },
    {
      "cell_type": "code",
      "execution_count": null,
      "metadata": {
        "id": "5G5X1Dyvm2TY"
      },
      "outputs": [],
      "source": [
        "(reset)       ; Limpia la memoria de hechos\n",
        "(preguntar-sintomas) ; Captura síntomas\n",
        "(run)         ; Ejecuta las reglas"
      ]
    },
    {
      "cell_type": "markdown",
      "metadata": {
        "id": "zUCLrhOIucCu"
      },
      "source": [
        "`Salida:`\n",
        "\n",
        "Ejemplo para entrada: `\"fiebre\"`, `\"tos\"`, `\"perdida_olfato\"`]:`"
      ]
    },
    {
      "cell_type": "code",
      "execution_count": null,
      "metadata": {
        "id": "9Ar6fg4Qv813"
      },
      "outputs": [],
      "source": [
        "=== SISTEMA EXPERTO MÉDICO ===\n",
        "Síntomas disponibles: fiebre, tos, dolor_cabeza, dolor_muscular, perdida_olfato, congestion_nasal, estornudos, ojos_rojos\n",
        "fiebre\n",
        "tos\n",
        "perdida_olfato\n",
        "perdida_gusto\n",
        "fin"
      ]
    },
    {
      "cell_type": "code",
      "execution_count": null,
      "metadata": {
        "id": "XEtgBEsQv-2n"
      },
      "outputs": [],
      "source": [
        "(run)"
      ]
    },
    {
      "cell_type": "code",
      "execution_count": null,
      "metadata": {
        "id": "Lh2twXZ_m44H"
      },
      "outputs": [],
      "source": [
        "Diagnóstico: COVID-19 (Urgencia Máxima)"
      ]
    },
    {
      "cell_type": "markdown",
      "metadata": {
        "id": "S-1gXfP3vqBu"
      },
      "source": [
        "**Puntos Clave**\n",
        "\n",
        "`Motor de Reglas:` CLIPS evalúa condiciones y ejecuta acciones cuando se cumplen.\n",
        "\n",
        "`Priorización:` COVID-19 tiene precedencia sobre gripe gracias a (not ...).\n",
        "\n",
        "`Extensibilidad:` Para añadir nuevas enfermedades, solo se necesitan nuevas reglas."
      ]
    },
    {
      "cell_type": "markdown",
      "metadata": {
        "id": "x7HiMarzwWQG"
      },
      "source": [
        "## Ejercicios"
      ]
    },
    {
      "cell_type": "markdown",
      "metadata": {},
      "source": [
        "### Ejercicio 1: Añadir Síntomas Compuestos\n",
        "\n",
        "Modificar reglas para requerir **múltiples síntomas simultáneos**:"
      ]
    },
    {
      "cell_type": "code",
      "execution_count": null,
      "metadata": {
        "id": "0kenlSEivu-n"
      },
      "outputs": [],
      "source": [
        "(defrule dengue-grave\n",
        "    (sintoma (nombre \"fiebre\"))\n",
        "    (sintoma (nombre \"dolor_cabeza\"))\n",
        "    (sintoma (nombre \"sangrado_encias\")) ; Nuevo síntoma\n",
        "    =>\n",
        "    (assert (enfermedad (nombre \"dengue_hemorrágico\")))\n",
        ")"
      ]
    },
    {
      "cell_type": "markdown",
      "metadata": {},
      "source": [
        "*Ejercicio desarrollado en archivo EXP-diagnostico.clp*"
      ]
    },
    {
      "cell_type": "markdown",
      "metadata": {
        "id": "zuX48o8kwh7m"
      },
      "source": [
        "### Ejercicio 2: Integrar con Python\n",
        "\n",
        "Usar [pyclips](https://github.com/almostearthling/pyclips)  para ejecutar CLIPS desde Python:"
      ]
    },
    {
      "cell_type": "code",
      "execution_count": null,
      "metadata": {},
      "outputs": [],
      "source": [
        "import clips\n",
        "\n",
        "env = clips.Environment()\n",
        "\n",
        "env.load(\"EXP-diagnostico.clp\")\n",
        "\n",
        "env.reset()\n",
        "\n",
        "env.call(\"iniciar-diagnostico\")"
      ]
    },
    {
      "cell_type": "markdown",
      "metadata": {},
      "source": [
        "*Ejecutar en script iniciar_diagnostico.py*"
      ]
    },
    {
      "cell_type": "markdown",
      "metadata": {
        "id": "sh9gdQw3wnRm"
      },
      "source": [
        "### Ejercicio 3\n",
        "\n",
        "Responder las sgtes preguntas\n"
      ]
    },
    {
      "cell_type": "markdown",
      "metadata": {},
      "source": [
        "- **¿Cómo escalaría el sistema para 100+ enfermedades?**"
      ]
    },
    {
      "cell_type": "markdown",
      "metadata": {},
      "source": [
        "- **¿Qué ventajas tiene CLIPS sobre los sistemas expertos construidos en Python?**"
      ]
    },
    {
      "cell_type": "markdown",
      "metadata": {},
      "source": [
        "- **Si en algunos dominios hay incertidumbre en el conocimiento involucrado, ¿cómo se podría manejar  dicha incertidumbre?**"
      ]
    },
    {
      "cell_type": "markdown",
      "metadata": {},
      "source": [
        "### Capturas de ejecuciones"
      ]
    },
    {
      "cell_type": "markdown",
      "metadata": {},
      "source": [
        "*Captura 1*"
      ]
    },
    {
      "cell_type": "markdown",
      "metadata": {},
      "source": [
        "*Captura 2*"
      ]
    },
    {
      "cell_type": "markdown",
      "metadata": {},
      "source": [
        "*Captura 3*"
      ]
    },
    {
      "cell_type": "markdown",
      "metadata": {
        "id": "0k8Hd6vPyFku"
      },
      "source": [
        "### Instrucciones para el envío de la solución\n",
        "La solución de la \"Práctica Guiada de Laboratorio 4 - IA 2024-1 G1 EPISW\" deberá enviarse al correo electrónico rmaguinacursos@gmail.com, hasta las 23:59 h del Miércoles 30 de Abril del 2025, en un archivo con extensión .ipynb.\n",
        "\n",
        "Entrega Requerida\n",
        "1. Archivo .clp con el sistema experto completo.\n",
        "\n",
        "2. Capturas de pantalla de 3 ejecuciones diferentes (en este mismo cuaderno).\n",
        "\n",
        "3. Respuestas a las preguntas de análisis planteadas en el Ejercicio 3 (en este mismo cuaderno).\n",
        "\n",
        "Los documentos deberá tener las sgtes características:\n",
        "- Nombre del archivo:\n",
        "  solPGL3_Parte1_IA_2024-1_G3_nombre-apellidos-alumno1_...nombre-apellidos-alumno3.ipynb."
      ]
    }
  ],
  "metadata": {
    "colab": {
      "provenance": []
    },
    "kernelspec": {
      "display_name": "clips-env",
      "language": "python",
      "name": "python3"
    },
    "language_info": {
      "codemirror_mode": {
        "name": "ipython",
        "version": 3
      },
      "file_extension": ".py",
      "mimetype": "text/x-python",
      "name": "python",
      "nbconvert_exporter": "python",
      "pygments_lexer": "ipython3",
      "version": "3.13.2"
    }
  },
  "nbformat": 4,
  "nbformat_minor": 0
}
