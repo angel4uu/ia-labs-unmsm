{
  "cells": [
    {
      "cell_type": "markdown",
      "metadata": {
        "id": "hTpoSbMtlPM0"
      },
      "source": [
        "# Práctica de Laboratorio 3 - Implementación del juego inteligente *Michi* en Python (Parte 1)\n",
        "\n",
        "## Curso \"Inteligencia Artificial\" Semestre 2025-1 Grupo 1 - EPISW\n",
        "\n",
        "### Prof. Rolando A. Maguiña Pérez\n",
        "### Abril 2025"
      ]
    },
    {
      "cell_type": "markdown",
      "metadata": {
        "id": "E9Kzz44ClPM5"
      },
      "source": [
        "## Introducción\n",
        "En la Práctica de Laboratorio 3 a realizarse el 10 de Abril del presente, se pretende implementar el juego llamado `Tres en línea` (Michi) con el lenguaje computacional Python y usando la herramienta llamada Jupyter Notebook. En este documento se presenta la construcción con Python de la plataforma del juego en consola; esto implica que el programa a desarrollarse  permitirá efectuar las jugadas al humano mediante una interfaz ad hoc. Asimismo, determinará las jugadas de la máquina mediante una estrategia adecuada y la aplicará. Además, indicará la estrategia usada para efectuar dichos movimientos. En la segunda parte de la Práctica, se implementará el algoritmo de Primero el Mejor para las jugadas de la máquina.\n",
        "\n",
        "En la primera parte de esta Práctica se plantearán algunos ejercicios. Análogamente, en la parte 2 de esta Práctica se plantearán un par de ejercicios. En ambos casos, las soluciones deberán obtener de forma grupal ( hasta 4 alumnos).\n",
        "\n",
        "## Objetivos de la Práctica de Laboratorio 3\n",
        "- Entender a cabalidad la implementación de un juego inteligente, en este caso la del juego llamado Michi.\n",
        "- Servir de base y/o inspiración para la implementación de algún otro juego inteligente.\n",
        "\n",
        "## Plataforma de juego\n",
        "La plataforma básica de un juego inteligente está formada por los sgtes componentes:\n",
        "- Interfaz de juego\n",
        "- Inicio de una partida (estado inicial)\n",
        "- Realización de jugadas (cjto de operadores)\n",
        "- Verificación de la validez de un movimiento\n",
        "- Verificación de condición de parada (test de parada)\n",
        "- Estrategia de juego de la máquina\n",
        "    - Estrategia aleatoria\n",
        "    - Estrategia Primero el Mejor\n",
        "    - Estrategia MiniMax\n",
        "    - Estrategia MiniMax con poda alfa-beta\n",
        "\n",
        "### Interfaz del juego\n",
        "Tal como se anunció, la interfaz de juego se construirá a nivel de consola mediante el lenguaje computacional denominado Python. Los pasos a efectuar son:\n",
        "\n",
        "- Los casilleros del tablero a usar en el Michi serán enumerados de la siguiente manera:"
      ]
    },
    {
      "cell_type": "code",
      "execution_count": 97,
      "metadata": {
        "id": "6z1e5sm-lPM-",
        "outputId": "ef668b54-026e-45b7-86d0-dfb355d6c6e9"
      },
      "outputs": [
        {
          "data": {
            "image/png": "[encoded data removed]",
            "text/plain": [
              "<IPython.core.display.Image object>"
            ]
          },
          "execution_count": 97,
          "metadata": {
            "image/png": {
              "height": 400,
              "width": 400
            }
          },
          "output_type": "execute_result"
        }
      ],
      "source": [
        "from IPython.display import Image\n",
        "i = Image(filename='./assets/posiciones_tablero.png',width=400, height=400)\n",
        "i"
      ]
    },
    {
      "cell_type": "markdown",
      "metadata": {
        "id": "YxsuNB9xlPNC"
      },
      "source": [
        "     Figura 1"
      ]
    },
    {
      "cell_type": "markdown",
      "metadata": {
        "id": "Uym1ioMilPNE"
      },
      "source": [
        "- El tablero se representará como una lista formada por nueve números que describirán el contenido de cada posición. Un valor de 0 significa que la posición está vacía; un 1 significa que hay un círculo 'O', y un valor de 10 significa que hay un aspa 'X'.  Asumiremos que el oponente juega con círculos 'O' y la computadora con aspas 'X'.\n",
        "\n",
        "#### Función *crear_tablero()*\n",
        "- Definimos una función que llamaremos `crear_tablero()` para crear un nuevo tablero."
      ]
    },
    {
      "cell_type": "code",
      "execution_count": 98,
      "metadata": {
        "id": "-uBmR34zlPNG"
      },
      "outputs": [],
      "source": [
        "#crea tablero nuevo\n",
        "def crear_tablero():\n",
        "    tablero=[0,0,0,0,0,0,0,0,0]\n",
        "    return tablero"
      ]
    },
    {
      "cell_type": "markdown",
      "metadata": {
        "id": "ESsignKglPNH"
      },
      "source": [
        "La llamamos para comprobar su funcionamiento:"
      ]
    },
    {
      "cell_type": "code",
      "execution_count": 99,
      "metadata": {
        "id": "ZuAj8sdslPNJ",
        "outputId": "28fc6d91-f3c3-4bc7-9266-205a411d2bff"
      },
      "outputs": [
        {
          "data": {
            "text/plain": [
              "[0, 0, 0, 0, 0, 0, 0, 0, 0]"
            ]
          },
          "execution_count": 99,
          "metadata": {},
          "output_type": "execute_result"
        }
      ],
      "source": [
        "crear_tablero()"
      ]
    },
    {
      "cell_type": "markdown",
      "metadata": {
        "id": "XZXKABNnlPNL"
      },
      "source": [
        "- Para imprimir el tablero definimos las funciones `convertir_a_letras()`, `imprimir_fila()`, e `imprimir_tablero()`.\n",
        "\n",
        "#### Función *convertir_a_letras()*"
      ]
    },
    {
      "cell_type": "code",
      "execution_count": 100,
      "metadata": {
        "id": "ljJ51vAXlPNO"
      },
      "outputs": [],
      "source": [
        "def convertir_a_letras(v):\n",
        "    if (v == 1):\n",
        "        return 'O'\n",
        "    elif (v == 10):\n",
        "        return 'X'\n",
        "    elif (v == 0):\n",
        "        return \" \""
      ]
    },
    {
      "cell_type": "markdown",
      "metadata": {
        "id": "aFfx_mxFlPNQ"
      },
      "source": [
        "Esta función toma como parámetro un número *v*, el cual puede asumir los valores de 1 o 10. Convierte valores de 1 al caracter 'O' y de 10 a 'X'; cuando asume el valor de 0 lo convierte a un espacio vacío.\n",
        "\n",
        "Llamamos a la función para comprobar su funcionamiento:"
      ]
    },
    {
      "cell_type": "code",
      "execution_count": 101,
      "metadata": {
        "id": "6LzhAj8NlPNR",
        "outputId": "9b8be66a-3d34-469b-ceb6-a77b160ad98e"
      },
      "outputs": [
        {
          "data": {
            "text/plain": [
              "'O'"
            ]
          },
          "execution_count": 101,
          "metadata": {},
          "output_type": "execute_result"
        }
      ],
      "source": [
        "convertir_a_letras(1)"
      ]
    },
    {
      "cell_type": "markdown",
      "metadata": {
        "id": "qpPVWCXblPNS"
      },
      "source": [
        "#### Función *imprimir_fila()*"
      ]
    },
    {
      "cell_type": "code",
      "execution_count": 102,
      "metadata": {
        "id": "7nlTYCc1lPNS"
      },
      "outputs": [],
      "source": [
        "def imprimir_fila(x ,y ,z):\n",
        "     print(\"    {0}  |  {1}  |  {2} \".format(convertir_a_letras(x),convertir_a_letras(y),convertir_a_letras(z)))"
      ]
    },
    {
      "cell_type": "markdown",
      "metadata": {
        "id": "fVbeVJezlPNT"
      },
      "source": [
        "- En `imprimir-fila()` se llama tres veces a la función `convertir-a-letras()`, pasándosele como parámetros `x`, `y` y `z`, c/u de las cuales puede asumir el valor de {\" \", 1, 10}.\n",
        "Se vale de `print()` y de `format()` para imprimir el resultado.\n",
        "\n",
        "Llamamos a la función para comprobar su funcionamiento:"
      ]
    },
    {
      "cell_type": "code",
      "execution_count": 103,
      "metadata": {
        "id": "JHQ99P2SlPNU",
        "outputId": "2dca6319-cbf7-44ed-e42c-0b2616afb14f"
      },
      "outputs": [
        {
          "name": "stdout",
          "output_type": "stream",
          "text": [
            "       |  O  |  X \n"
          ]
        }
      ],
      "source": [
        "imprimir_fila(0, 1, 10)"
      ]
    },
    {
      "cell_type": "markdown",
      "metadata": {
        "id": "8C5-TmAAlPNV"
      },
      "source": [
        "#### Función *imprimir_tablero()*\n",
        "Definimos la función para imprimir el tablero:"
      ]
    },
    {
      "cell_type": "code",
      "execution_count": 104,
      "metadata": {
        "id": "pHHwEFGTlPNW"
      },
      "outputs": [],
      "source": [
        "def imprimir_tablero(tablero):\n",
        "    print(\"\\n\")\n",
        "    imprimir_fila(tablero[0],tablero[1],tablero[2])\n",
        "    print('   ----------------')\n",
        "    imprimir_fila(tablero[3],tablero[4],tablero[5])\n",
        "    print('   ----------------')\n",
        "    imprimir_fila(tablero[6],tablero[7],tablero[8])\n",
        "    print(\"\\n\")"
      ]
    },
    {
      "cell_type": "markdown",
      "metadata": {
        "id": "TQ2qtSyQlPNW"
      },
      "source": [
        "Llamamos a la función para comprobar su funcionamiento:"
      ]
    },
    {
      "cell_type": "code",
      "execution_count": 105,
      "metadata": {
        "id": "jpUVSZeAlPNX",
        "outputId": "8b3e8dc8-952d-4d9c-a2fd-7b6addcdbf6a"
      },
      "outputs": [
        {
          "name": "stdout",
          "output_type": "stream",
          "text": [
            "\n",
            "\n",
            "       |     |    \n",
            "   ----------------\n",
            "       |  O  |    \n",
            "   ----------------\n",
            "       |  X  |    \n",
            "\n",
            "\n"
          ]
        }
      ],
      "source": [
        "imprimir_tablero([0, 0, 0, 0, 1, 0, 0, 10, 0])"
      ]
    },
    {
      "cell_type": "markdown",
      "metadata": {
        "id": "hDLqTxzGlPNY"
      },
      "source": [
        "En `imprimir-tablero()` se llama tres veces a la función `imprimir-fila()`, pasándosele como parámetros `tablero[i]` donde `i=[0,8]`. Se manda imprimir también líneas punteadas y en blanco.\n",
        "\n",
        "### Realización de jugadas\n",
        "- Definimos `efectuar_movimiento()` para marcar un aspa 'X' o un círculo 'O' en el tablero, según sea el caso. Recibe como parámetros `jugador`, la posición `pos` en la que se efectuará el movimiento y un tablero.\n"
      ]
    },
    {
      "cell_type": "code",
      "execution_count": 106,
      "metadata": {
        "id": "T7FTEooClPNZ"
      },
      "outputs": [],
      "source": [
        "def efectuar_movimiento(jugador, pos, tablero):\n",
        "    pos = pos\n",
        "    tablero[pos] = jugador\n",
        "    return tablero"
      ]
    },
    {
      "cell_type": "markdown",
      "metadata": {
        "id": "vK00AFN0lPNa"
      },
      "source": [
        "Antes configuramos:"
      ]
    },
    {
      "cell_type": "code",
      "execution_count": 107,
      "metadata": {
        "id": "fazETIIrlPNb"
      },
      "outputs": [],
      "source": [
        "pc = 10  # el jugador 'computadora' juega con las aspas\n",
        "oponente = 1  # el jugador humano juega con los circulos"
      ]
    },
    {
      "cell_type": "markdown",
      "metadata": {
        "id": "9UYsQMhtlPNb"
      },
      "source": [
        "Llamamos la función para comprobar su funcionamiento:"
      ]
    },
    {
      "cell_type": "code",
      "execution_count": 108,
      "metadata": {
        "id": "bDKKiUBxlPNc",
        "outputId": "acb9cfae-3e98-4ea6-c03f-cb0164781ead"
      },
      "outputs": [
        {
          "data": {
            "text/plain": [
              "[0, 0, 10, 0, 1, 0, 0, 10, 0]"
            ]
          },
          "execution_count": 108,
          "metadata": {},
          "output_type": "execute_result"
        }
      ],
      "source": [
        "efectuar_movimiento(10, 7, [0, 0, 10, 0, 1, 0, 0, 0, 0])"
      ]
    },
    {
      "cell_type": "markdown",
      "metadata": {
        "id": "xlMsGr7olPNd"
      },
      "source": [
        "En esta jugada ejm, se llama esta función pasándole los argumentos: 10 (`jugador` es en este caso *computadora*), posición 7 del tablero y el tablero actual. En otras palabras, con ello se ha simulado que el jugador *computadora* ha 'marcado' un aspa  en dicha posición.\n"
      ]
    },
    {
      "cell_type": "markdown",
      "metadata": {
        "id": "Aml2B6wSlPNe"
      },
      "source": [
        "### Análisis de la configuración del juego\n",
        "Hay 8 maneras de completar una línea: 3 posibles líneas usando las filas del tablero (dirección horizontal), 3 posibles líneas usando las columnas (dirección vertical), y 2 usando las diagonales del tablero; a c/u de esas combinaciones la llamaremos *tripleta*.  Todas esa combinaciones serán almacenadas en la variable global `tripletas`.\n",
        "\n",
        "#### Variable *Tripletas*\n",
        "Guardamos en `tripletas` todas las posibles tripletas (formación de líneas)."
      ]
    },
    {
      "cell_type": "code",
      "execution_count": 109,
      "metadata": {
        "id": "DvhXRscklPNe"
      },
      "outputs": [
        {
          "name": "stdout",
          "output_type": "stream",
          "text": [
            "[[0, 1, 2], [3, 4, 5], [6, 7, 8], [0, 3, 6], [1, 4, 7], [2, 5, 8], [0, 4, 8], [2, 4, 6]]\n"
          ]
        }
      ],
      "source": [
        "tripletas = [[0, 1, 2], [3, 4, 5], [6, 7, 8], [0, 3, 6], [1, 4, 7], [2, 5, 8], [0, 4, 8], [2, 4, 6]]\n",
        "print(tripletas)"
      ]
    },
    {
      "cell_type": "markdown",
      "metadata": {
        "id": "WfY2mjLVlPNf"
      },
      "source": [
        "Definimos ahora la función `suma_tripleta()` cuyo propósito es devolver la suma de los valores de las posiciones consideradas en una tripleta. También definimos `calcula_sumas()` la cual aplica la función anterior a las tripletas contenidas en la variable del mismo nombre.\n",
        "\n",
        "#### Función *suma_tripleta()*"
      ]
    },
    {
      "cell_type": "code",
      "execution_count": 110,
      "metadata": {
        "id": "7w4HgZhflPNf"
      },
      "outputs": [],
      "source": [
        "def suma_tripleta(tablero, tripleta):\n",
        "    a, b, c = tripleta[0], tripleta[1], tripleta[2]\n",
        "    return tablero[a] + tablero[b] + tablero[c]"
      ]
    },
    {
      "cell_type": "markdown",
      "metadata": {
        "id": "MQmzc42dlPNg"
      },
      "source": [
        "En el ejm, suma los valores correspondientes a las posiciones 1, 2 y 3 contenidas en la tripleta; devuelve valor 1.\n",
        "\n",
        "#### Función *calcula_sumas()*"
      ]
    },
    {
      "cell_type": "code",
      "execution_count": 111,
      "metadata": {
        "id": "dPp6RvbclPNg"
      },
      "outputs": [],
      "source": [
        "def calcula_sumas(tablero):\n",
        "    sumas = []\n",
        "    for x in tripletas:\n",
        "        z = suma_tripleta(tablero, x)\n",
        "        sumas.append(z)\n",
        "    return sumas"
      ]
    },
    {
      "cell_type": "markdown",
      "metadata": {
        "id": "aDJug9GLlPNh"
      },
      "source": [
        "Verificando el comportamiento de `calcula_sumas()` al llamarla con argumento `tablero` para varios casos:"
      ]
    },
    {
      "cell_type": "code",
      "execution_count": 112,
      "metadata": {
        "id": "1wg9nIOOlPNi",
        "outputId": "acad5701-7fbf-4527-da2f-955524cdde28"
      },
      "outputs": [
        {
          "data": {
            "text/plain": [
              "[20, 1, 10, 0, 11, 20, 11, 11]"
            ]
          },
          "execution_count": 112,
          "metadata": {},
          "output_type": "execute_result"
        }
      ],
      "source": [
        "calcula_sumas([0, 10, 10, 0, 1, 0, 0, 0, 10])"
      ]
    },
    {
      "cell_type": "code",
      "execution_count": 113,
      "metadata": {
        "id": "VFpEs1tglPNi",
        "outputId": "90ad1872-ceb4-468a-faff-232d9b469d15"
      },
      "outputs": [
        {
          "data": {
            "text/plain": [
              "[1, 1, 10, 0, 2, 10, 11, 1]"
            ]
          },
          "execution_count": 113,
          "metadata": {},
          "output_type": "execute_result"
        }
      ],
      "source": [
        "calcula_sumas([0, 1, 0, 0, 1, 0, 0, 0, 10])"
      ]
    },
    {
      "cell_type": "code",
      "execution_count": 114,
      "metadata": {
        "id": "RlfJjBAtlPNj",
        "outputId": "f744cc13-47ff-407a-a1f1-187f6eea796d"
      },
      "outputs": [
        {
          "data": {
            "text/plain": [
              "[10, 1, 3, 1, 12, 1, 2, 2]"
            ]
          },
          "execution_count": 114,
          "metadata": {},
          "output_type": "execute_result"
        }
      ],
      "source": [
        "calcula_sumas([0, 10, 0, 0, 1, 0, 1, 1, 1])"
      ]
    },
    {
      "cell_type": "markdown",
      "metadata": {
        "id": "9dwqV4xblPNk"
      },
      "source": [
        "### Condición de parada\n",
        "#### Función *ganador_p()*\n",
        "Definimos el predicado `ganador_p()` para verificar si uno de los jugadores completó una línea."
      ]
    },
    {
      "cell_type": "code",
      "execution_count": 115,
      "metadata": {
        "id": "zGnvHfGClPNk"
      },
      "outputs": [],
      "source": [
        "def ganador_p(tablero):\n",
        "    sumas = calcula_sumas(tablero)\n",
        "    gana_op=False\n",
        "    gana_pc=False\n",
        "\n",
        "\n",
        "    if 3 in sumas:\n",
        "        gana_op=True\n",
        "\n",
        "    if 30 in sumas:\n",
        "        gana_pc=True\n",
        "\n",
        "    if gana_op==True and gana_pc==False:\n",
        "        ganador=gana_op\n",
        "    elif gana_op==False and gana_pc==True:\n",
        "        ganador=gana_pc\n",
        "    else:\n",
        "        ganador=False\n",
        "    return ganador"
      ]
    },
    {
      "cell_type": "markdown",
      "metadata": {
        "id": "V-8vr3hSlPNl"
      },
      "source": [
        "En esta función a la variable `sumas` se le asigna el resultado del llamado de `calcula_sumas()`. En su cuerpo, verifica si ha ganado el jugador máquina o el jugador oponente.\n",
        "\n",
        "Verificando el comportamiento de la función `ganador_p()` al llamarla con argumento *tablero* (para varios casos, como es mostrado en las celdas sgtes):"
      ]
    },
    {
      "cell_type": "code",
      "execution_count": 116,
      "metadata": {
        "id": "5CegcOr0lPNm",
        "outputId": "1f464ec1-d24e-4c78-8101-df11da3350a4"
      },
      "outputs": [
        {
          "data": {
            "text/plain": [
              "False"
            ]
          },
          "execution_count": 116,
          "metadata": {},
          "output_type": "execute_result"
        }
      ],
      "source": [
        "ganador_p([0, 10, 10, 0, 1, 0, 10, 0, 0])"
      ]
    },
    {
      "cell_type": "code",
      "execution_count": 117,
      "metadata": {
        "id": "9TyE-OY4lPNm",
        "outputId": "999cfda6-91b8-4975-cb8e-01073ffa66aa"
      },
      "outputs": [
        {
          "data": {
            "text/plain": [
              "False"
            ]
          },
          "execution_count": 117,
          "metadata": {},
          "output_type": "execute_result"
        }
      ],
      "source": [
        "ganador_p([0, 10, 1, 0, 1, 0, 10, 0, 0])"
      ]
    },
    {
      "cell_type": "code",
      "execution_count": 118,
      "metadata": {
        "id": "m_DhtBqslPNn",
        "outputId": "927567d5-3cc1-4527-ef98-49c4b0612534"
      },
      "outputs": [
        {
          "data": {
            "text/plain": [
              "True"
            ]
          },
          "execution_count": 118,
          "metadata": {},
          "output_type": "execute_result"
        }
      ],
      "source": [
        "ganador_p([10, 10, 10, 0, 1, 0, 10, 0, 0])"
      ]
    },
    {
      "cell_type": "code",
      "execution_count": 119,
      "metadata": {
        "id": "3BW0hhPtlPNo",
        "outputId": "3c0fea00-52d3-449d-cb48-32a8366178f4"
      },
      "outputs": [
        {
          "data": {
            "text/plain": [
              "True"
            ]
          },
          "execution_count": 119,
          "metadata": {},
          "output_type": "execute_result"
        }
      ],
      "source": [
        "ganador_p([0, 10, 10, 0, 1, 0, 1, 1, 1])"
      ]
    },
    {
      "cell_type": "markdown",
      "metadata": {
        "id": "gUzGTocllPNp"
      },
      "source": [
        "###  Inicio del juego   \n",
        "#### Función *inicio()*\n",
        "\n",
        "Definimos la función `inicio()` que pregunta al usuario si desea comenzar el juego, y llama luego a `movimiento_pc()` o a `movimiento_oponente()`, según sea la decisión tomada."
      ]
    },
    {
      "cell_type": "code",
      "execution_count": 120,
      "metadata": {
        "id": "7AjZUcyllPNq"
      },
      "outputs": [],
      "source": [
        "def inicio():\n",
        "\n",
        "    print(\"\"\"\\n\n",
        "          ------ JUEGO DEL MICHI -----\n",
        "          Le gustaria comenzar el juego?\n",
        "          [1] Si\n",
        "          [2] NO\n",
        "          [3] Salir\n",
        "    \"\"\")\n",
        "    opcion=int(input(\"Seleccione la opcion: \\n\"))\n",
        "\n",
        "    if opcion == 1:\n",
        "        print('oponente inicia juego')\n",
        "        movimiento_oponente(crear_tablero())\n",
        "    elif opcion ==2:\n",
        "        #print ('maquina inicia juego')\n",
        "        movimiento_pc(crear_tablero())\n",
        "    elif opcion==3:\n",
        "        print(\"\\n\")\n",
        "        print(\"Saliendo ...\")"
      ]
    },
    {
      "cell_type": "markdown",
      "metadata": {
        "id": "HaLwvH6tlPNr"
      },
      "source": [
        "### Realización de jugadas\n",
        "#### Jugadas del jugador humano\n",
        "\n",
        "Definimos ahora la función `movimiento_oponente()` la cual toma como parámetro el tablero actual y permite efectuar los movimientos del jugador humano. Además, verifica con `validar_movimiento()` si el movimiento es válido, actualiza el tablero y llama a la función `movimiento_pc()`, excepto que haya un ganador o un empate. También se comprueba mediante  `tablero_lleno_p()` si el tablero está lleno."
      ]
    },
    {
      "cell_type": "code",
      "execution_count": 121,
      "metadata": {
        "id": "UDOUUkUIlPNs"
      },
      "outputs": [],
      "source": [
        "def validar_movimiento(tablero):\n",
        "    global cent\n",
        "    print(tablero)\n",
        "    pos=int(input(\"Ingrese tu movimiento: \"))\n",
        "    if(tablero[pos]==0 ):\n",
        "        pos=pos\n",
        "        cent = pos\n",
        "    else:\n",
        "        #pos=int(input(\"Ingrese un movimiento valido: \"))\n",
        "        print(\"casilla ocupada\")\n",
        "        validar_movimiento(tablero)\n",
        "\n",
        "    return pos"
      ]
    },
    {
      "cell_type": "code",
      "execution_count": 122,
      "metadata": {
        "id": "-OH_Jd6alPNs"
      },
      "outputs": [],
      "source": [
        "def tablero_lleno_p(tablero): #Retorna True si no hay celdas vacias\n",
        "\n",
        "    for i in tablero:\n",
        "        if tablero[i] == 0:\n",
        "            print(tablero[i])\n",
        "            return False\n",
        "        else:\n",
        "            return True"
      ]
    },
    {
      "cell_type": "code",
      "execution_count": 123,
      "metadata": {
        "id": "lNYXBcOllPNu"
      },
      "outputs": [],
      "source": [
        "def movimiento_oponente(tablero):\n",
        "\n",
        "    posi=(validar_movimiento(tablero))\n",
        "\n",
        "    nuevo_tablero=(efectuar_movimiento(oponente,cent,tablero))\n",
        "\n",
        "    print(\"Mi movimiento: \",posi)\n",
        "    imprimir_tablero(nuevo_tablero)\n",
        "\n",
        "    if ganador_p(nuevo_tablero) == True:\n",
        "        print(\"    Gana Oponente\")\n",
        "        inicio()\n",
        "    elif tablero_lleno_p == True:\n",
        "        print(\"    Empate\")\n",
        "    else:\n",
        "        movimiento_pc(nuevo_tablero)"
      ]
    },
    {
      "cell_type": "markdown",
      "metadata": {
        "id": "cQLaZnwqlPNv"
      },
      "source": [
        "#### Jugadas de la computadora\n",
        "Como sabemos, las jugadas de la máquina (computadora) se obtienen aplicando alguna estrategia de búsqueda; se disponen de las sgtes estrategias:\n",
        "- Estrategia Aleatoria (nivel básico)\n",
        "    - No usa función de evaluación.\n",
        "- Estrategia Primero el Mejor (nivel intermedio)\n",
        "    - Usa función de evaluación.\n",
        "- MiniMax (nivel experto)\n",
        "    - Usa función de evaluación\n",
        "    - Aplica algoritmo\n",
        "        - Sin poda alfa-beta  \n",
        "        - Con poda alfa-beta\n",
        "\n",
        "Definimos ahora `movimiento_pc()` para efectuar los movimientos del jugador computadora. Esta función llama a `escoger_estrategia_pc()` para seleccionar la estrategia a usar en las jugadas de la máquina; llama también `movimiento_oponente()`, excepto que haya un ganador o un empate."
      ]
    },
    {
      "cell_type": "code",
      "execution_count": 124,
      "metadata": {
        "id": "kQQ0w-9AlPNw"
      },
      "outputs": [],
      "source": [
        "def movimiento_pc(tablero):\n",
        "    print(\"ahora le toca jugar a la PC\")\n",
        "    mejor_movimiento = escoger_estrategia_pc(tablero)\n",
        "    pos = mejor_movimiento[0]\n",
        "    estrategia = mejor_movimiento[1]\n",
        "\n",
        "    nuevo_tablero = (efectuar_movimiento(pc, pos, tablero))\n",
        "\n",
        "    print(\"movimientos: \" , pos)\n",
        "    print(\"Estrategia: \", estrategia)\n",
        "\n",
        "    imprimir_tablero(nuevo_tablero)\n",
        "\n",
        "    if ganador_p(nuevo_tablero) == True:\n",
        "        print(\"    Gana PC\")\n",
        "        inicio()\n",
        "    elif tablero_lleno_p == True:\n",
        "        print(\"    Empate\")\n",
        "    else:\n",
        "        movimiento_oponente(nuevo_tablero)\n",
        "\n",
        "    #return tablero"
      ]
    },
    {
      "cell_type": "markdown",
      "metadata": {
        "id": "ZZTd3DC0lPNx"
      },
      "source": [
        "##### Implementando la estrategia aleatoria\n",
        "Mediante la función `escoger_estrategia_pc()` se determinará la estrategia de juego para las jugadas de la máquina. Inicialmente se implementará la estrategia aleatoria para la máquina."
      ]
    },
    {
      "cell_type": "code",
      "execution_count": 125,
      "metadata": {
        "id": "Bo6cgBjRlPNy"
      },
      "outputs": [],
      "source": [
        "def escoger_estrategia_pc(tablero):\n",
        "    return estrategia_aleatoria(tablero)"
      ]
    },
    {
      "cell_type": "markdown",
      "metadata": {
        "id": "uwYPrwLklPNy"
      },
      "source": [
        "Usaremos como estrategia de búsqueda para la máquina la **estrategia aleatoria**: escoge al azar un movimiento válido mediante la función `estrategia_aleatoria`, la cual, a su vez, usa `seleccion_aleatoria_casillero_vacio()` para tomar un número aleatorio."
      ]
    },
    {
      "cell_type": "code",
      "execution_count": 126,
      "metadata": {
        "id": "no6JHP7UlPN0"
      },
      "outputs": [],
      "source": [
        "def estrategia_aleatoria(tablero):\n",
        "\n",
        "    valor=seleccion_aleatoria_casillero_vacio(tablero).pop()\n",
        "\n",
        "    tupla= valor,\"Movimiento Aleatorio\"\n",
        "\n",
        "    return tupla"
      ]
    },
    {
      "cell_type": "code",
      "execution_count": 127,
      "metadata": {
        "id": "blQk_ULplPN1"
      },
      "outputs": [],
      "source": [
        "import random\n",
        "\n",
        "def seleccion_aleatoria_casillero_vacio(tablero):\n",
        "    pos=random.randint(0,8)\n",
        "    #print(pos)\n",
        "\n",
        "    if (tablero[pos]!= 0):\n",
        "        return seleccion_aleatoria_casillero_vacio(tablero)\n",
        "    else:\n",
        "        pos=pos\n",
        "        return pos\n",
        "\n",
        "    return pos"
      ]
    },
    {
      "cell_type": "markdown",
      "metadata": {
        "id": "MsciKwDSlPN2"
      },
      "source": [
        "Verificando el comportamiento de la función al llamarla con un tablero ejm como argumento:"
      ]
    },
    {
      "cell_type": "code",
      "execution_count": 128,
      "metadata": {
        "id": "99-CBXKmlPN3",
        "outputId": "3e6afafb-e49b-4306-a42d-3292d01245a3"
      },
      "outputs": [
        {
          "data": {
            "text/plain": [
              "5"
            ]
          },
          "execution_count": 128,
          "metadata": {},
          "output_type": "execute_result"
        }
      ],
      "source": [
        "seleccion_aleatoria_casillero_vacio([10, 10, 1, 0, 10, 0, 10, 10, 1])"
      ]
    },
    {
      "cell_type": "markdown",
      "metadata": {
        "id": "Ce1TqfPalPN4"
      },
      "source": [
        "### CÓDIGO COMPLETO\n",
        "A continuación, se presenta el código completo del juego inteligente llamado  Michi en la computadora. El programa no solamente permite jugar al jugador humano sino que implementa la estrategia de búsqueda llamada estrategia aleatoria de modo que la máquina pueda realizar sus jugadas.\n",
        "\n",
        "Dado que el nivel de inteligencia implementado para la máquina es bajo,  se asume que la computadora no jugará bien y la mayoría de las veces perderá las partidas."
      ]
    },
    {
      "cell_type": "code",
      "execution_count": 129,
      "metadata": {
        "colab": {
          "base_uri": "https://localhost:8080/"
        },
        "id": "49VZBOWFlPN4",
        "outputId": "f0c9edb0-e472-49dc-b6d7-b4a61e8c3a95"
      },
      "outputs": [
        {
          "name": "stdout",
          "output_type": "stream",
          "text": [
            "\n",
            "\n",
            "          ------ JUEGO DEL MICHI -----\n",
            "          Le gustaria comenzar el juego?\n",
            "          [1] Si\n",
            "          [2] NO\n",
            "          [3] Salir\n",
            "    \n"
          ]
        },
        {
          "ename": "ValueError",
          "evalue": "invalid literal for int() with base 10: ''",
          "output_type": "error",
          "traceback": [
            "\u001b[1;31m---------------------------------------------------------------------------\u001b[0m",
            "\u001b[1;31mValueError\u001b[0m                                Traceback (most recent call last)",
            "Cell \u001b[1;32mIn[129], line 194\u001b[0m\n\u001b[0;32m    191\u001b[0m     \u001b[38;5;28;01mreturn\u001b[39;00m pos\n\u001b[0;32m    192\u001b[0m         \u001b[38;5;66;03m#print(pos)\u001b[39;00m\n\u001b[1;32m--> 194\u001b[0m inicio()\n",
            "Cell \u001b[1;32mIn[129], line 93\u001b[0m, in \u001b[0;36minicio\u001b[1;34m()\u001b[0m\n\u001b[0;32m     84\u001b[0m \u001b[38;5;28;01mdef\u001b[39;00m \u001b[38;5;21minicio\u001b[39m():\n\u001b[0;32m     86\u001b[0m     \u001b[38;5;28mprint\u001b[39m(\u001b[38;5;124m\"\"\"\u001b[39m\u001b[38;5;130;01m\\n\u001b[39;00m\n\u001b[0;32m     87\u001b[0m \u001b[38;5;124m          ------ JUEGO DEL MICHI -----\u001b[39m\n\u001b[0;32m     88\u001b[0m \u001b[38;5;124m          Le gustaria comenzar el juego?\u001b[39m\n\u001b[1;32m   (...)\u001b[0m\n\u001b[0;32m     91\u001b[0m \u001b[38;5;124m          [3] Salir\u001b[39m\n\u001b[0;32m     92\u001b[0m \u001b[38;5;124m    \u001b[39m\u001b[38;5;124m\"\"\"\u001b[39m)\n\u001b[1;32m---> 93\u001b[0m     opcion\u001b[38;5;241m=\u001b[39m\u001b[38;5;28mint\u001b[39m(\u001b[38;5;28minput\u001b[39m(\u001b[38;5;124m\"\u001b[39m\u001b[38;5;124mSeleccione la opcion: \u001b[39m\u001b[38;5;130;01m\\n\u001b[39;00m\u001b[38;5;124m\"\u001b[39m))\n\u001b[0;32m     95\u001b[0m     \u001b[38;5;28;01mif\u001b[39;00m opcion \u001b[38;5;241m==\u001b[39m \u001b[38;5;241m1\u001b[39m:\n\u001b[0;32m     96\u001b[0m         \u001b[38;5;28mprint\u001b[39m(\u001b[38;5;124m'\u001b[39m\u001b[38;5;124moponente inicia juego\u001b[39m\u001b[38;5;124m'\u001b[39m)\n",
            "\u001b[1;31mValueError\u001b[0m: invalid literal for int() with base 10: ''"
          ]
        }
      ],
      "source": [
        "import random\n",
        "\n",
        "#variables para PC y Oponente\n",
        "pc=10\n",
        "oponente=1\n",
        "\n",
        "#tablero=[0,1,1,0,10,0,0,10,1]\n",
        "#crea tablero nuevo\n",
        "def crear_tablero():\n",
        "    tablero=[0,0,0,0,0,0,0,0,0]\n",
        "    #print(tablero)\n",
        "    return tablero\n",
        "\n",
        "#Convierte valores de 1 -> O e 10 -> X\n",
        "def convertir_a_letras(v):\n",
        "    if (v == 1):\n",
        "        return 'O'\n",
        "    elif (v == 10):\n",
        "        return 'X'\n",
        "    elif (v == 0):\n",
        "        return \" \"\n",
        "\n",
        "def imprimir_fila(x ,y ,z):\n",
        "     print(\"    {0}  |  {1}  |  {2} \".format(convertir_a_letras(x),convertir_a_letras(y),convertir_a_letras(z)))\n",
        "\n",
        "def imprimir_tablero(tablero):\n",
        "    print(\"\\n\")\n",
        "    imprimir_fila(tablero[0],tablero[1],tablero[2])\n",
        "    print('   ----------------')\n",
        "    imprimir_fila(tablero[3],tablero[4],tablero[5])\n",
        "    print('   ----------------')\n",
        "    imprimir_fila(tablero[6],tablero[7],tablero[8])\n",
        "    print(\"\\n\")\n",
        "\n",
        "def efectuar_movimiento(jugador, pos, tablero):\n",
        "    pos=pos\n",
        "    tablero[pos]=jugador\n",
        "    return tablero\n",
        "\n",
        "#tripletas = [[1, 2, 3], [4, 5, 6], [7, 8, 9], [1, 4, 7], [2, 5, 8], [3, 6, 9], [1, 5, 9], [3, 5, 7]]\n",
        "#tripleta1, tripleta2, tripleta3, tripleta4, tripleta5, tripleta6, tripleta7, tripleta8 = [1, 2, 3], [4, 5, 6], [7, 8, 9], [1, 4, 7], [2, 5, 8], [3, 6, 9], [1, 5, 9], [3, 5, 7]\n",
        "#tripletas = [tripleta1, tripleta2, tripleta3, tripleta4, tripleta5, tripleta6, tripleta7, tripleta8]\n",
        "tripletas = [[0, 1, 2], [3, 4, 5], [6, 7, 8], [0, 3, 6], [1, 4, 7], [2, 5, 8], [0, 4, 8], [2, 4, 6]]\n",
        "\n",
        "# Suma los valores asociados a las posiciones de *tripleta*\n",
        "def suma_tripleta(tablero, tripleta):\n",
        "    a, b, c = tripleta[0], tripleta[1], tripleta[2]\n",
        "    # print(a,b,c); se mando imprimir para verificacion\n",
        "    return tablero[a] + tablero[b] + tablero[c]\n",
        "\n",
        "\n",
        "# Fc iterativa que obtiene las sumas de las *tripletas* de un tablero\n",
        "def calcula_sumas(tablero):\n",
        "    # global sumas\n",
        "    sumas = []\n",
        "    for x in tripletas:\n",
        "        z = suma_tripleta(tablero, x)\n",
        "        sumas.append(z)\n",
        "    return sumas\n",
        "\n",
        "# Determina si hay un ganador en la partida\n",
        "def ganador_p(tablero):\n",
        "    sumas = calcula_sumas(tablero)\n",
        "    gana_op=False\n",
        "    gana_pc=False\n",
        "\n",
        "\n",
        "    if 3 in sumas:\n",
        "        gana_op=True\n",
        "            #print(ganador)\n",
        "\n",
        "    if 30 in sumas:\n",
        "        gana_pc=True\n",
        "            #print(ganador)\n",
        "\n",
        "    if gana_op==True and gana_pc==False:\n",
        "        ganador=gana_op\n",
        "    elif gana_op==False and gana_pc==True:\n",
        "        ganador=gana_pc\n",
        "    else:\n",
        "        ganador=False\n",
        "    return ganador\n",
        "\n",
        "def inicio():\n",
        "\n",
        "    print(\"\"\"\\n\n",
        "          ------ JUEGO DEL MICHI -----\n",
        "          Le gustaria comenzar el juego?\n",
        "          [1] Si\n",
        "          [2] NO\n",
        "          [3] Salir\n",
        "    \"\"\")\n",
        "    opcion=int(input(\"Seleccione la opcion: \\n\"))\n",
        "\n",
        "    if opcion == 1:\n",
        "        print('oponente inicia juego')\n",
        "        movimiento_oponente(crear_tablero())\n",
        "    elif opcion ==2:\n",
        "        #print ('maquina inicia juego')\n",
        "        movimiento_pc(crear_tablero())\n",
        "    elif opcion==3:\n",
        "        print(\"\\n\")\n",
        "        print(\"Saliendo ...\")\n",
        "\n",
        "def validar_movimiento(tablero):\n",
        "    global cent\n",
        "    print(tablero)\n",
        "    pos=int(input(\"Ingrese su movimiento: \"))\n",
        "    if(tablero[pos]==0 ):\n",
        "        pos=pos\n",
        "        cent = pos\n",
        "    else:\n",
        "        #pos=int(input(\"Ingrese un movimiento valido: \"))\n",
        "        print(\"casilla ocupada\")\n",
        "        validar_movimiento(tablero)\n",
        "\n",
        "    return pos\n",
        "\n",
        "def movimiento_oponente(tablero):\n",
        "\n",
        "    posi=(validar_movimiento(tablero))\n",
        "\n",
        "    nuevo_tablero=(efectuar_movimiento(oponente,cent,tablero))\n",
        "\n",
        "    print(\"Mi movimiento: \",posi)\n",
        "    imprimir_tablero(nuevo_tablero)\n",
        "\n",
        "    if ganador_p(nuevo_tablero) == True:\n",
        "        print(\"    Gana Oponente\")\n",
        "        inicio()\n",
        "    elif tablero_lleno_p == True:\n",
        "        print(\"    Empate\")\n",
        "    else:\n",
        "        movimiento_pc(nuevo_tablero)\n",
        "\n",
        "def tablero_lleno_p(tablero): #Retorna True si no hay celdas vacias\n",
        "\n",
        "    for i in tablero:\n",
        "        #print(len(tablero))\n",
        "        #print(tablero[i])\n",
        "        if tablero[i] == 0:\n",
        "            print(tablero[i])\n",
        "            return False\n",
        "        else:\n",
        "            return True\n",
        "\n",
        "def movimiento_pc(tablero):\n",
        "    print(\"Ahora le toca jugar a la PC\")\n",
        "    mejor_movimiento = escoger_estrategia_pc(tablero)\n",
        "    pos = mejor_movimiento[0]\n",
        "    estrategia = mejor_movimiento[1]\n",
        "\n",
        "    nuevo_tablero = (efectuar_movimiento(pc, pos, tablero))\n",
        "\n",
        "    print(\"Movimiento: \" ,pos )\n",
        "    print(\"Estrategia: \", estrategia)\n",
        "\n",
        "    imprimir_tablero(nuevo_tablero)\n",
        "\n",
        "    if ganador_p(nuevo_tablero) == True:\n",
        "        print(\"    Gana PC\")\n",
        "        inicio()\n",
        "    elif tablero_lleno_p == True:\n",
        "        print(\"    Empate\")\n",
        "    else:\n",
        "        movimiento_oponente(nuevo_tablero)\n",
        "\n",
        "def escoger_estrategia_pc(tablero):\n",
        "    return estrategia_aleatoria(tablero)\n",
        "\n",
        "def estrategia_aleatoria(tablero):\n",
        "\n",
        "    valor=seleccion_aleatoria_casillero_vacio(tablero)\n",
        "\n",
        "    tupla=valor,\"Movimiento Aleatorio\"\n",
        "\n",
        "    return tupla\n",
        "\n",
        "\n",
        "def seleccion_aleatoria_casillero_vacio(tablero):\n",
        "    pos=random.randint(0,8)\n",
        "    #print(pos)\n",
        "\n",
        "    if (tablero[pos]!= 0):\n",
        "        return seleccion_aleatoria_casillero_vacio(tablero)\n",
        "        #return pos\n",
        "    else:\n",
        "        pos=pos\n",
        "        return pos\n",
        "\n",
        "    return pos\n",
        "        #print(pos)\n",
        "\n",
        "inicio()"
      ]
    },
    {
      "cell_type": "markdown",
      "metadata": {
        "id": "gD5V-waFlPN6"
      },
      "source": [
        "## Ejercicios\n",
        "### Ejercicio 1\n",
        "Verifique nuevamente las funciones definidas en la implementación. Con esa finalidad, llámelas con diferentes argumentos y, enseguida, interprételas. Comente sus resultados.\n",
        "\n",
        "### Ejercicio 2\n",
        "Interprete varias veces la celda que contiene el código completo del programa y juegue contra la  máquina. Comente y analice sus resultados.\n",
        "\n",
        "### Ejercicio 3\n",
        "Optimizar el código presentado. Realizar las modificaciones que considere conveniente a fin de mejorar el código presentado y se pueda jugar con el oponente humano.\n"
      ]
    },
    {
      "cell_type": "markdown",
      "metadata": {
        "id": "5ikXuYZ2lPN7"
      },
      "source": [
        "## Instrucciones para el envío de la solución\n",
        "La solución de la \"Práctica Guiada de Laboratorio 3 (Parte 1) - IA 2024-1 G1 EPIS\" deberá enviarse al correo electrónico rmaguinacursos@gmail.com, hasta las 23:59 h del Domingo 13 de Abril del 2025, en un archivo con extensión .ipynb.\n",
        "\n",
        "El documento deberá tener las sgtes características:\n",
        "- Nombre del archivo:\n",
        "  solPGL3_Parte1_IA_2024-1_G3_nombre-apellidos-alumno1_...nombre-apellidos-alumno4.ipynb.\n",
        "- Todas las preguntas de la Práctica deben responderse en este mismo cuaderno computacional interactivo (**Sugerencia**: obtener una copia de este documento y desarrollar en ellas las respectivas soluciones); la solución a cada pregunta debe registrarse en una celda debajo del plnteamiento de la misma, mencionando explícitamente como subtítulo: \"Solución del ejercicio n\", donde \"n\" corresponde al número del ejercicio."
      ]
    }
  ],
  "metadata": {
    "colab": {
      "provenance": []
    },
    "kernelspec": {
      "display_name": "base",
      "language": "python",
      "name": "python3"
    },
    "language_info": {
      "codemirror_mode": {
        "name": "ipython",
        "version": 3
      },
      "file_extension": ".py",
      "mimetype": "text/x-python",
      "name": "python",
      "nbconvert_exporter": "python",
      "pygments_lexer": "ipython3",
      "version": "3.12.7"
    }
  },
  "nbformat": 4,
  "nbformat_minor": 0
}
