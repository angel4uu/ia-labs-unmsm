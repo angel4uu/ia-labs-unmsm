{
  "cells": [
    {
      "cell_type": "markdown",
      "metadata": {
        "id": "1V8R7Cdnfd3C"
      },
      "source": [
        "# Práctica Guiada de Laboratorio 3: Implementación del juego inteligente *Michi* en Python - Parte 2\n",
        "\n",
        "# Curso \"Inteligencia Artificial\" Semestre 2025-1 - Sección 1 - EPISW\n",
        "\n",
        "### Prof. Rolando A. Maguiña Pérez\n",
        "### Abril 2025"
      ]
    },
    {
      "cell_type": "markdown",
      "metadata": {
        "id": "qi2hhuVLfd3D"
      },
      "source": [
        "## Introducción\n",
        "En la primera parte de la Práctica Guiada  se presentó la construcción en Python de la plataforma de juego para el ampliamente conocido y popular **Tres en raya** o **Michi**; no solamente se construyó la interfaz del juego sino que, también, el programa permitía efectuar las jugadas del humano. Dicha implementación se hizo a nivel de consola únicamente. Asimismo, en dicha primera parte, se  implementó una estrategia de juego para la máquina que determinaba sus jugadas en dicho juego inteligente; en ese caso, se trató de la estrategia aleatoria.\n",
        "\n",
        "En esta segunda parte de la Práctica Guiada de Laboratorio 3, se presenta la implementación de la estrategia de búsqueda denominada **Primero el Mejor** que determinará las jugadas de la máquina. Con esa finalidad, se usará como base el programa  construido en la segunda parte de la Práctica Guiada anterior y se insertarán en el código respectivo, las funciones adecuadas que implementen la estrategia mencionada. Asimismo, el programa indicará la estrategia usada para efectuar dichos movimientos."
      ]
    },
    {
      "cell_type": "markdown",
      "metadata": {
        "id": "9S4za2Gcfd3D"
      },
      "source": [
        "## Estrategia Primero el Mejor\n",
        "## Implementación de la estrategia Primero el Mejor\n",
        "La implementación de esta estrategia de búsqueda para las jugadas de la máquina, requiere básicamente de tres pasos:\n",
        "- Generar los sucesores de un nodo.\n",
        "- Definir una función de evaluación ad hoc y aplicarla a los sucesores de dicho nodo.\n",
        "- Seleccionar el sucesor con mejor valor de evaluación.\n",
        "\n",
        "### Generación de sucesores\n",
        "Definiremos una función para la generación de los sucesores que llamaremos `genmov(.)`. Antes,  debemos modificar la denominada `efectuar_movimiento(.)`; en la nueva versión de esta función, se crea previamente una copia del tablero, luego se efectúa el movimiento (coloca en la posición *pos* un aspa 'X' si es el jugador computadora o un círculo 'O' si es el jugador oponente).\n",
        "\n",
        "La nueva versión es:\n",
        "\n",
        "#### Función *efectuar_movimiento(.)*"
      ]
    },
    {
      "cell_type": "code",
      "execution_count": 31,
      "metadata": {
        "id": "EW6Sc-g9fd3E"
      },
      "outputs": [],
      "source": [
        "def efectuar_movimiento(jugador, pos, tablero):\n",
        "    tablero=tablero.copy()\n",
        "    pos=pos\n",
        "    tablero[pos]=jugador\n",
        "    return tablero"
      ]
    },
    {
      "cell_type": "markdown",
      "metadata": {
        "id": "J0-867pUfd3E"
      },
      "source": [
        "Para comprobar el comportamiento de la función así definida,  luego de interpretarla la llamamos para marcar un aspa en la posición 3 del tablero:"
      ]
    },
    {
      "cell_type": "code",
      "execution_count": 32,
      "metadata": {
        "id": "X1MN6cX4fd3E",
        "outputId": "00c2dcc6-15ea-4123-a1c9-9d80ea1d7bf1"
      },
      "outputs": [
        {
          "data": {
            "text/plain": [
              "[0, 0, 0, 0, 0, 0, 0, 0, 1]"
            ]
          },
          "execution_count": 32,
          "metadata": {},
          "output_type": "execute_result"
        }
      ],
      "source": [
        "efectuar_movimiento(1, 8, [0,0,0,0,0,0,0,0,0])"
      ]
    },
    {
      "cell_type": "markdown",
      "metadata": {
        "id": "-HkhwpHbfd3F"
      },
      "source": [
        "#### Función *genmov(.)*\n",
        "\n",
        "La función `genmov(.)` toma un tablero y un jugador, y genera sus sucesores, es decir, todos los posibles movimientos que un jugador podría realizar. Lo hace mediante el llamado de la función `efectuar_movimiento()`, pero verificando antes si la posición del movimiento corresponde a un casillero vacío; si corresponde, se efectúa el movimiento."
      ]
    },
    {
      "cell_type": "code",
      "execution_count": 33,
      "metadata": {
        "id": "04kJFyUxfd3F"
      },
      "outputs": [],
      "source": [
        "def genmov(tablero, jugador):\n",
        "    lista=[]\n",
        "    for i in range(0,9):\n",
        "        if (tablero[i]==0):\n",
        "            sucesor=efectuar_movimiento(jugador,i,tablero)\n",
        "            lista.append(sucesor)\n",
        "        else:\n",
        "            tablero[i]=tablero[i]\n",
        "    return lista"
      ]
    },
    {
      "cell_type": "markdown",
      "metadata": {
        "id": "7HgBjWCtfd3F"
      },
      "source": [
        "Verificando la función con un tablero sin jugada alguna, para el jugador humano."
      ]
    },
    {
      "cell_type": "code",
      "execution_count": 34,
      "metadata": {
        "id": "yLRgTitYfd3F",
        "outputId": "68596e09-9e4e-4eed-fbd6-6792c1d01f20"
      },
      "outputs": [
        {
          "data": {
            "text/plain": [
              "[[1, 0, 0, 0, 0, 0, 0, 0, 0],\n",
              " [0, 1, 0, 0, 0, 0, 0, 0, 0],\n",
              " [0, 0, 1, 0, 0, 0, 0, 0, 0],\n",
              " [0, 0, 0, 1, 0, 0, 0, 0, 0],\n",
              " [0, 0, 0, 0, 1, 0, 0, 0, 0],\n",
              " [0, 0, 0, 0, 0, 1, 0, 0, 0],\n",
              " [0, 0, 0, 0, 0, 0, 1, 0, 0],\n",
              " [0, 0, 0, 0, 0, 0, 0, 1, 0],\n",
              " [0, 0, 0, 0, 0, 0, 0, 0, 1]]"
            ]
          },
          "execution_count": 34,
          "metadata": {},
          "output_type": "execute_result"
        }
      ],
      "source": [
        "genmov([0,0,0,0,0,0,0,0,0],1)"
      ]
    },
    {
      "cell_type": "markdown",
      "metadata": {
        "id": "kMdRwv3Yfd3F"
      },
      "source": [
        "Verificando ahora la función con un tablero en el que se han realizado varias jugadas, para el jugador humano:"
      ]
    },
    {
      "cell_type": "code",
      "execution_count": 35,
      "metadata": {
        "id": "W6VfUQbdfd3G",
        "outputId": "f4b624d0-c5a5-48ca-eda3-3884469720ae"
      },
      "outputs": [
        {
          "data": {
            "text/plain": [
              "[[1, 1, 0, 10, 0, 10, 10, 1, 0],\n",
              " [0, 1, 1, 10, 0, 10, 10, 1, 0],\n",
              " [0, 1, 0, 10, 1, 10, 10, 1, 0],\n",
              " [0, 1, 0, 10, 0, 10, 10, 1, 1]]"
            ]
          },
          "execution_count": 35,
          "metadata": {},
          "output_type": "execute_result"
        }
      ],
      "source": [
        "genmov([0,1,0,10,0,10,10,1,0],1)"
      ]
    },
    {
      "cell_type": "markdown",
      "metadata": {
        "id": "vTJFYgYxfd3G"
      },
      "source": [
        "Se observa que al llamársela con un tablero con varias jugadas realizadas y jugando el humano, la función generó los sucesores posibles: posiciones 0, 2, 4 y 8.\n",
        "\n",
        "### Función de evaluación\n",
        "Se usará la FUNCIÓN DE EVALUACIÓN ESTATICA que  plantean Nilsson/Norvig en su libro  y que se presentó en clase de teoría:\n",
        "\n",
        "- Si *p* no es una posición ganadora para ningún jugador:\n",
        "\n",
        "       f(p) = (Nº filas, columnas y diagonales completas aun libres para MAX) - (Nº filas, columnas y diagonales completas aun libres para MIN)\n",
        "- Si *p* es una posición ganadora para MAX:\n",
        "\n",
        "       f(p) = +inf (donde +inf indica un número positivo muy grande)\n",
        "- Si *p* es una posición ganadora para MAX:\n",
        "\n",
        "       f(p) = -inf (donde -inf indica un número negativo muy grande)\n",
        "       \n",
        "#### Función *feval(.)*\n",
        "En este programa se implementará mediante la función `feval(.)`. Esta, a su vez,  se vale de las funciones `ganador_pc(.)` y `ganador_oponente(.)`, que calculan f(p) cuando *p*  corresponde a una posición ganadora de uno de los jugadores. Usa también la función denominada `lineas-abiertas(.)` que calcula f(p) cuando *p* no corresponde a una posición ganadora para jugador alguno; en ese caso, calcula la diferencia entre líneas abiertas para MAX menos líneas abiertas para MIN."
      ]
    },
    {
      "cell_type": "code",
      "execution_count": 36,
      "metadata": {
        "id": "EawvGwTCfd3G"
      },
      "outputs": [],
      "source": [
        "# Fc de evaluacion;\n",
        "def feval(tablero):\n",
        "    if(ganador_pc(tablero)==True):\n",
        "        res = 10000\n",
        "        return res\n",
        "    elif(ganador_oponente(tablero)==True):\n",
        "        res = -10000\n",
        "        return res\n",
        "    else:\n",
        "        return lineas_abiertas(tablero)"
      ]
    },
    {
      "cell_type": "markdown",
      "metadata": {
        "id": "pyU4XIkxfd3G"
      },
      "source": [
        "Definiremos ahora las funciones `ganador_pc(.)`, `ganador_oponente(.)` y `lineas_abiertas(.)`, para poder usar `feval(.)`.\n",
        "\n",
        "#### Función *ganador_pc(.)*\n",
        "- La función `ganador_pc(.)` recibe como parámetro un tablero y devuelve True si ha ganado la máquina; la definimos así:"
      ]
    },
    {
      "cell_type": "code",
      "execution_count": 37,
      "metadata": {
        "id": "tIDlnIsAfd3G"
      },
      "outputs": [],
      "source": [
        "def ganador_pc(tablero):\n",
        "    sumas = calcula_sumas(tablero)\n",
        "    if 30 in sumas:\n",
        "        return True\n",
        "    else:\n",
        "        return False"
      ]
    },
    {
      "cell_type": "markdown",
      "metadata": {
        "id": "c62ojQQhfd3G"
      },
      "source": [
        "Llamamos a la función para comprobar su funcionamiento; previamente, recordamos las definiciones de las funciones `suma_tripleta(.)` y `calcula_sumas(.)`, y las interpretamos:"
      ]
    },
    {
      "cell_type": "code",
      "execution_count": 38,
      "metadata": {
        "id": "fbopymCGfd3H"
      },
      "outputs": [],
      "source": [
        "tripletas = [[0, 1, 2], [3, 4, 5], [6, 7, 8], [0, 3, 6], [1, 4, 7], [2, 5, 8], [0, 4, 8], [2, 4, 6]]\n",
        "\n",
        "def suma_tripleta(tablero, tripleta):\n",
        "    a, b, c = tripleta[0], tripleta[1], tripleta[2]\n",
        "    return tablero[a] + tablero[b] + tablero[c]\n",
        "\n",
        "def calcula_sumas(tablero):\n",
        "    sumas = []\n",
        "    for x in tripletas:\n",
        "        z = suma_tripleta(tablero, x)\n",
        "        sumas.append(z)\n",
        "    return sumas"
      ]
    },
    {
      "cell_type": "code",
      "execution_count": 39,
      "metadata": {
        "id": "FJltxycofd3H",
        "outputId": "2a7b4838-cd14-40d7-9d28-be54c52dd3b0"
      },
      "outputs": [
        {
          "data": {
            "text/plain": [
              "True"
            ]
          },
          "execution_count": 39,
          "metadata": {},
          "output_type": "execute_result"
        }
      ],
      "source": [
        "ganador_pc([10,10,10,1,0,0,1,0,1])"
      ]
    },
    {
      "cell_type": "code",
      "execution_count": 40,
      "metadata": {
        "id": "EmAw-JB_fd3H",
        "outputId": "b865d7a4-3ccd-4696-8a9f-dfb5459e5043"
      },
      "outputs": [
        {
          "data": {
            "text/plain": [
              "False"
            ]
          },
          "execution_count": 40,
          "metadata": {},
          "output_type": "execute_result"
        }
      ],
      "source": [
        "ganador_pc([1,1,10,10,0,0,10,0,1])"
      ]
    },
    {
      "cell_type": "markdown",
      "metadata": {
        "id": "OZygcQbJfd3H"
      },
      "source": [
        "#### Función *ganador_oponente()*\n",
        "- Definimos la función `ganador_oponente(.)` que recibe como parámetro un tablero y devuelve True si ha ganado el jugador humano."
      ]
    },
    {
      "cell_type": "code",
      "execution_count": 41,
      "metadata": {
        "id": "Zi8PJy1Jfd3H"
      },
      "outputs": [],
      "source": [
        "def ganador_oponente(tablero):\n",
        "    sumas = calcula_sumas(tablero)\n",
        "    if 3 in sumas:\n",
        "        return True\n",
        "    else:\n",
        "        return False"
      ]
    },
    {
      "cell_type": "markdown",
      "metadata": {
        "id": "s1E8eqvHfd3I"
      },
      "source": [
        "Llamamos a la función para comprobar su funcionamiento:"
      ]
    },
    {
      "cell_type": "code",
      "execution_count": 42,
      "metadata": {
        "id": "Oe2IE4HGfd3I",
        "outputId": "a6773ac4-7847-4e58-c231-a911a35a71fa"
      },
      "outputs": [
        {
          "data": {
            "text/plain": [
              "False"
            ]
          },
          "execution_count": 42,
          "metadata": {},
          "output_type": "execute_result"
        }
      ],
      "source": [
        "ganador_oponente([10,10,10,1,0,0,1,0,1])"
      ]
    },
    {
      "cell_type": "code",
      "execution_count": 43,
      "metadata": {
        "id": "EOqmqE5cfd3I",
        "outputId": "bd581610-d8ed-4660-8050-4812524aad9d"
      },
      "outputs": [
        {
          "data": {
            "text/plain": [
              "True"
            ]
          },
          "execution_count": 43,
          "metadata": {},
          "output_type": "execute_result"
        }
      ],
      "source": [
        "ganador_oponente([1,1,1,10,0,0,10,0,10])"
      ]
    },
    {
      "cell_type": "markdown",
      "metadata": {
        "id": "VQPzFjfQfd3I"
      },
      "source": [
        "#### Función *lineas_abiertas(.)*\n",
        "\n",
        "Para las posiciones que no corresponden a la victoria de uno de los jugadores, esta función hace lo sgte::\n",
        "- Para cada elemento de *sumas*  (recordar que *sumas* contiene una lista con los valores de la suma de los elementos de las 8 tripletas)\n",
        "    - La condicional IF verifica los valores de c/u de ellos:\n",
        "        - Si es 0: suma 1 a abiertasX y a abiertasO\n",
        "        - Si es 1: suma 1 a abiertasO\n",
        "        - Si es 2: suma 1 a abiertasO\n",
        "        - Si es 10: suma 1 a abiertasX\n",
        "        - Si es 20: suma 1 a abiertasX\n",
        "- Devuelve (abiertasX – abiertasO)"
      ]
    },
    {
      "cell_type": "code",
      "execution_count": 44,
      "metadata": {
        "id": "CbsoDmrMfd3I"
      },
      "outputs": [],
      "source": [
        "def lineas_abiertas(tab):\n",
        "    sumas = calcula_sumas(tab)\n",
        "    abiertasX = 0\n",
        "    abiertasO = 0\n",
        "    for s in sumas:\n",
        "        if(s==0):\n",
        "            abiertasX = abiertasX + 1\n",
        "            abiertasO = abiertasO + 1\n",
        "        elif(s==1):\n",
        "            abiertasO = abiertasO + 1\n",
        "        elif(s==2):\n",
        "            abiertasO = abiertasO + 1\n",
        "        elif(s==10):\n",
        "            abiertasX = abiertasX + 1\n",
        "        elif(s==20):\n",
        "            abiertasX = abiertasX + 1\n",
        "\n",
        "    res = abiertasX - abiertasO\n",
        "    return res"
      ]
    },
    {
      "cell_type": "markdown",
      "metadata": {
        "id": "7enxdKhRfd3J"
      },
      "source": [
        "Llamamos a la función para comprobar su funcionamiento:"
      ]
    },
    {
      "cell_type": "code",
      "execution_count": 45,
      "metadata": {
        "id": "fo67G2Flfd3J",
        "outputId": "b4d81eec-43e8-471a-c914-04479fdda60e"
      },
      "outputs": [
        {
          "data": {
            "text/plain": [
              "2"
            ]
          },
          "execution_count": 45,
          "metadata": {},
          "output_type": "execute_result"
        }
      ],
      "source": [
        "lineas_abiertas([0,1,0,0,10,0,0,0,0])"
      ]
    },
    {
      "cell_type": "code",
      "execution_count": 46,
      "metadata": {
        "id": "kqE9BXVyfd3J",
        "outputId": "9c96cbed-9df3-470b-a0f4-c635214655b5"
      },
      "outputs": [
        {
          "data": {
            "text/plain": [
              "1"
            ]
          },
          "execution_count": 46,
          "metadata": {},
          "output_type": "execute_result"
        }
      ],
      "source": [
        "lineas_abiertas([10,1,0,1,0,10,0,0,0])"
      ]
    },
    {
      "cell_type": "code",
      "execution_count": 47,
      "metadata": {
        "id": "Cw0ip704fd3J",
        "outputId": "2337647b-f9e6-48f8-bef8-39cae148dda0"
      },
      "outputs": [
        {
          "data": {
            "text/plain": [
              "0"
            ]
          },
          "execution_count": 47,
          "metadata": {},
          "output_type": "execute_result"
        }
      ],
      "source": [
        "lineas_abiertas([0,1,0,0,0,0,0,10,0])"
      ]
    },
    {
      "cell_type": "markdown",
      "metadata": {
        "id": "3zuQNsvcfd3J"
      },
      "source": [
        "- En  las tres veces que se llamó a la función `lineas_abiertas(.)`, pasándosele como parámetro un tablero, devolvió el valor correcto.\n",
        "\n",
        "Ahora que se han definido las funciones `ganador_pc()`, `ganador_oponente()` y `lineas_abiertas()`, llamamos a `feval()` para comprobar su funcionamiento:"
      ]
    },
    {
      "cell_type": "code",
      "execution_count": 48,
      "metadata": {
        "id": "LJYGkVPDfd3J",
        "outputId": "f1f0cabb-e55c-401a-d13a-6d74831bdf48"
      },
      "outputs": [
        {
          "data": {
            "text/plain": [
              "-10000"
            ]
          },
          "execution_count": 48,
          "metadata": {},
          "output_type": "execute_result"
        }
      ],
      "source": [
        "feval([1,1,1,10,10,0,0,0,10])"
      ]
    },
    {
      "cell_type": "code",
      "execution_count": 49,
      "metadata": {
        "id": "7D57I31Kfd3K",
        "outputId": "81903b81-3bd1-4c14-d22f-2c90cd17a643"
      },
      "outputs": [
        {
          "data": {
            "text/plain": [
              "10000"
            ]
          },
          "execution_count": 49,
          "metadata": {},
          "output_type": "execute_result"
        }
      ],
      "source": [
        "feval([1,1,0,0,1,0,10,10,10])"
      ]
    },
    {
      "cell_type": "markdown",
      "metadata": {
        "id": "MSd7JZylfd3K"
      },
      "source": [
        "Para comprobar que llama correctamente a `lineas_abiertas(.)`, llamamos nuevamente a la función `feval(.)` pasándole como argumento un tablero en el que no hay un ganador."
      ]
    },
    {
      "cell_type": "code",
      "execution_count": 50,
      "metadata": {
        "id": "mvs-Hpgdfd3K",
        "outputId": "cdb2be61-1e11-486c-81e1-aaed8c08ed9e"
      },
      "outputs": [
        {
          "data": {
            "text/plain": [
              "2"
            ]
          },
          "execution_count": 50,
          "metadata": {},
          "output_type": "execute_result"
        }
      ],
      "source": [
        "feval([1,1,0,0,10,0,0,0,10])"
      ]
    },
    {
      "cell_type": "code",
      "execution_count": 51,
      "metadata": {
        "id": "yY6ATfX2fd3K",
        "outputId": "72dca848-c829-4424-945b-4fb9eca967b6"
      },
      "outputs": [
        {
          "data": {
            "text/plain": [
              "2"
            ]
          },
          "execution_count": 51,
          "metadata": {},
          "output_type": "execute_result"
        }
      ],
      "source": [
        "feval([0,1,0,0,10,0,0,0,0])"
      ]
    },
    {
      "cell_type": "markdown",
      "metadata": {
        "id": "EVSF4Rn-fd3L"
      },
      "source": [
        "Se comprobó que se está comportando correctamente.\n",
        "\n",
        "### Selección de estrategia a usar por la máquina\n",
        "A la función `escoger_estrategia_pc()`, definida en la parte 2 de la Práctica anterior, sólo se le cambiará la estrategia para las jugadas de la máquina; ahora se usará la `estrategia_primero_el_mejor()` en lugar de `estrategia_aleatoria()`. Enseguida, se presenta su definición.\n",
        "\n",
        "#### Función *escoger_estrategia_pc(.)*"
      ]
    },
    {
      "cell_type": "code",
      "execution_count": 52,
      "metadata": {
        "id": "jlF4UVyQfd3L"
      },
      "outputs": [],
      "source": [
        "def escoger_estrategia_pc(tablero):\n",
        "    mejor_movimiento = estrategia_primero_el_mejor(tablero)\n",
        "    return mejor_movimiento"
      ]
    },
    {
      "cell_type": "markdown",
      "metadata": {
        "id": "kL_hn3jQfd3L"
      },
      "source": [
        "#### Función *estrategia_primero_el_mejor(.)*\n",
        "Esta función llama a `seleccion-primero-el-mejor()` con dos argumentos, *tablero* y  *pc*. Devuelve una lista con la posición elegida para marcar un aspa  y un texto descriptivo."
      ]
    },
    {
      "cell_type": "code",
      "execution_count": 53,
      "metadata": {
        "id": "54pwVCwIfd3L"
      },
      "outputs": [],
      "source": [
        "def estrategia_primero_el_mejor(tablero):\n",
        "\n",
        "    valor=seleccion_primero_el_mejor(tablero,pc)\n",
        "\n",
        "    tupla= valor,\"Movimiento por Primero el Mejor\"\n",
        "\n",
        "    return tupla"
      ]
    },
    {
      "cell_type": "markdown",
      "metadata": {
        "id": "lh6iiWJZfd3L"
      },
      "source": [
        "#### Selección del mejor sucesor\n",
        "Se implementará mediante las funciones `sucesores_con_evaluacion(.)` y `seleccion_primero_el_mejor(.)`. La primera devuelve una lista de sucesores con su respectivo valor de evaluación, y la segunda, selecciona el mejor sucesor.\n",
        "\n",
        "####  Función *sucesores_con_evaluacion(.)*\n",
        "Esta función recibe como parámetros un tablero y una lista  *sucesores*  conteniendo justamente los tableros sucesores. Para calcular el valor de evaluación de los sucesores aplica `feval(.)` a cada uno de ellos, luego junta en una nueva lista cada sucesor con el valor obtenido de esa manera."
      ]
    },
    {
      "cell_type": "code",
      "execution_count": 54,
      "metadata": {
        "id": "scxc8OQ8fd3M"
      },
      "outputs": [],
      "source": [
        "def sucesores_con_evaluacion(tablero, sucesores):\n",
        "    sucesores_peso = []\n",
        "    for n in sucesores:\n",
        "        a = feval(n)\n",
        "        lista = [n,a]\n",
        "        sucesores_peso.append(lista)\n",
        "    return sucesores_peso"
      ]
    },
    {
      "cell_type": "markdown",
      "metadata": {
        "id": "xlP0fhfQfd3M"
      },
      "source": [
        "Llamamos a la función para comprobar su funcionamiento; antes, definimos un tablero para enseguida generar sus sucesores."
      ]
    },
    {
      "cell_type": "code",
      "execution_count": 55,
      "metadata": {
        "id": "B9N7igLCfd3M",
        "outputId": "78685a6d-642c-4d66-e4c9-d273ce2adbe5"
      },
      "outputs": [
        {
          "data": {
            "text/plain": [
              "[[[1, 1, 0, 0, 0, 0, 0, 10, 0], -2],\n",
              " [[0, 1, 1, 0, 0, 0, 0, 10, 0], -2],\n",
              " [[0, 1, 0, 1, 0, 0, 0, 10, 0], -2],\n",
              " [[0, 1, 0, 0, 1, 0, 0, 10, 0], -3],\n",
              " [[0, 1, 0, 0, 0, 1, 0, 10, 0], -2],\n",
              " [[0, 1, 0, 0, 0, 0, 1, 10, 0], -3],\n",
              " [[0, 1, 0, 0, 0, 0, 0, 10, 1], -3]]"
            ]
          },
          "execution_count": 55,
          "metadata": {},
          "output_type": "execute_result"
        }
      ],
      "source": [
        "tablero = [0,1,0,0,0,0,0,10,0]\n",
        "sucesores = genmov(tablero,1)\n",
        "#sucesores\n",
        "d = sucesores_con_evaluacion(tablero,sucesores)\n",
        "d"
      ]
    },
    {
      "cell_type": "markdown",
      "metadata": {
        "id": "rfcOY2Xqfd3M"
      },
      "source": [
        "#### Función *selección_primero_el_mejor()*\n",
        "En esta función se genera la lista de sucesores con sus respectivos valores de evaluación y luego de haberlos ordenado, se obtiene la posición donde se marcó el aspa 'X' en el mejor tablero; busca mediante el bucle *while* dicha posición *i* en el tablero."
      ]
    },
    {
      "cell_type": "code",
      "execution_count": 56,
      "metadata": {
        "id": "adEGKMk1fd3M"
      },
      "outputs": [],
      "source": [
        "from operator import itemgetter\n",
        "\n",
        "def seleccion_primero_el_mejor(tablero,jugador):\n",
        "    sucesores = genmov(tablero,jugador)\n",
        "    sucesores_peso = sucesores_con_evaluacion(tablero,sucesores)\n",
        "    sucesores_ordenados = sorted(sucesores_peso, key=itemgetter(1)).pop()\n",
        "    z = sucesores_ordenados[0]\n",
        "    # Obtiene el índice donde se marco el aspa\n",
        "    i = 0\n",
        "    while (z[i]==tablero[i]):\n",
        "        i = i + 1\n",
        "    return i"
      ]
    },
    {
      "cell_type": "markdown",
      "metadata": {
        "id": "uAFybHstfd3M"
      },
      "source": [
        "Llamamos a la función para comprobar su funcionamiento:"
      ]
    },
    {
      "cell_type": "code",
      "execution_count": 57,
      "metadata": {
        "id": "cLpwi5mSfd3N",
        "outputId": "2f649eed-53bb-4a68-d6c8-f749c44d1daa"
      },
      "outputs": [
        {
          "data": {
            "text/plain": [
              "4"
            ]
          },
          "execution_count": 57,
          "metadata": {},
          "output_type": "execute_result"
        }
      ],
      "source": [
        "seleccion_primero_el_mejor([0,0,0,0,0,0,0,0,0],10)"
      ]
    },
    {
      "cell_type": "code",
      "execution_count": 58,
      "metadata": {
        "id": "JE09b7PHfd3N",
        "outputId": "a49e9fff-61df-4c7e-d41e-778800260b5d"
      },
      "outputs": [
        {
          "data": {
            "text/plain": [
              "5"
            ]
          },
          "execution_count": 58,
          "metadata": {},
          "output_type": "execute_result"
        }
      ],
      "source": [
        "seleccion_primero_el_mejor([0,1,0,0,0,0,0,10,0],1)"
      ]
    },
    {
      "cell_type": "code",
      "execution_count": 59,
      "metadata": {
        "id": "Gq7QGIM2fd3O",
        "outputId": "d8f3907e-b028-4f0e-c481-edb785a5daa5"
      },
      "outputs": [
        {
          "name": "stdout",
          "output_type": "stream",
          "text": [
            "\n",
            "\n",
            "          ------ JUEGO DEL MICHI -----\n",
            "          Le gustaria comenzar el juego?\n",
            "          [1] Si\n",
            "          [2] NO\n",
            "          [3] Salir\n",
            "    \n"
          ]
        },
        {
          "ename": "ValueError",
          "evalue": "invalid literal for int() with base 10: ''",
          "output_type": "error",
          "traceback": [
            "\u001b[1;31m---------------------------------------------------------------------------\u001b[0m",
            "\u001b[1;31mValueError\u001b[0m                                Traceback (most recent call last)",
            "Cell \u001b[1;32mIn[59], line 276\u001b[0m\n\u001b[0;32m    272\u001b[0m         i \u001b[38;5;241m=\u001b[39m i \u001b[38;5;241m+\u001b[39m \u001b[38;5;241m1\u001b[39m\n\u001b[0;32m    273\u001b[0m     \u001b[38;5;28;01mreturn\u001b[39;00m i\n\u001b[1;32m--> 276\u001b[0m inicio()\n",
            "Cell \u001b[1;32mIn[59], line 99\u001b[0m, in \u001b[0;36minicio\u001b[1;34m()\u001b[0m\n\u001b[0;32m     90\u001b[0m \u001b[38;5;28;01mdef\u001b[39;00m \u001b[38;5;21minicio\u001b[39m():\n\u001b[0;32m     92\u001b[0m     \u001b[38;5;28mprint\u001b[39m(\u001b[38;5;124m\"\"\"\u001b[39m\u001b[38;5;130;01m\\n\u001b[39;00m\n\u001b[0;32m     93\u001b[0m \u001b[38;5;124m          ------ JUEGO DEL MICHI -----\u001b[39m\n\u001b[0;32m     94\u001b[0m \u001b[38;5;124m          Le gustaria comenzar el juego?\u001b[39m\n\u001b[1;32m   (...)\u001b[0m\n\u001b[0;32m     97\u001b[0m \u001b[38;5;124m          [3] Salir\u001b[39m\n\u001b[0;32m     98\u001b[0m \u001b[38;5;124m    \u001b[39m\u001b[38;5;124m\"\"\"\u001b[39m)\n\u001b[1;32m---> 99\u001b[0m     opcion\u001b[38;5;241m=\u001b[39m\u001b[38;5;28mint\u001b[39m(\u001b[38;5;28minput\u001b[39m(\u001b[38;5;124m\"\u001b[39m\u001b[38;5;124mSeleccione la opcion: \u001b[39m\u001b[38;5;130;01m\\n\u001b[39;00m\u001b[38;5;124m\"\u001b[39m))\n\u001b[0;32m    101\u001b[0m     \u001b[38;5;28;01mif\u001b[39;00m opcion \u001b[38;5;241m==\u001b[39m \u001b[38;5;241m1\u001b[39m:\n\u001b[0;32m    102\u001b[0m         \u001b[38;5;28mprint\u001b[39m(\u001b[38;5;124m'\u001b[39m\u001b[38;5;124moponente inicia el juego\u001b[39m\u001b[38;5;124m'\u001b[39m)\n",
            "\u001b[1;31mValueError\u001b[0m: invalid literal for int() with base 10: ''"
          ]
        }
      ],
      "source": [
        "import random\n",
        "\n",
        "#variables para PC y Oponente\n",
        "pc=10\n",
        "oponente=1\n",
        "\n",
        "#tablero=[0,1,1,0,10,0,0,10,1]\n",
        "#crea tablero nuevo\n",
        "def crear_tablero():\n",
        "    tablero=[0,0,0,0,0,0,0,0,0]\n",
        "    #print(tablero)\n",
        "    return tablero\n",
        "\n",
        "\n",
        "#Convierte valores de 1 -> O e 10 -> X\n",
        "def convertir_a_letras(v):\n",
        "    if (v == 1):\n",
        "        return 'O'\n",
        "    elif (v == 10):\n",
        "        return 'X'\n",
        "    elif (v == 0):\n",
        "        return \" \"\n",
        "\n",
        "def imprimir_fila(x ,y ,z):\n",
        "     print(\"    {0}  |  {1}  |  {2} \".format(convertir_a_letras(x),convertir_a_letras(y),convertir_a_letras(z)))\n",
        "\n",
        "\n",
        "\n",
        "\n",
        "def imprimir_tablero(tablero):\n",
        "    print(\"\\n\")\n",
        "    imprimir_fila(tablero[0],tablero[1],tablero[2])\n",
        "    print('   ----------------')\n",
        "    imprimir_fila(tablero[3],tablero[4],tablero[5])\n",
        "    print('   ----------------')\n",
        "    imprimir_fila(tablero[6],tablero[7],tablero[8])\n",
        "    print(\"\\n\")\n",
        "\n",
        "\n",
        "def efectuar_movimiento(jugador, pos, tablero):\n",
        "    tablero=tablero.copy()\n",
        "    pos=pos\n",
        "    tablero[pos]=jugador\n",
        "    return tablero\n",
        "\n",
        "#tripletas = [[1, 2, 3], [4, 5, 6], [7, 8, 9], [1, 4, 7], [2, 5, 8], [3, 6, 9], [1, 5, 9], [3, 5, 7]]\n",
        "#tripleta1, tripleta2, tripleta3, tripleta4, tripleta5, tripleta6, tripleta7, tripleta8 = [1, 2, 3], [4, 5, 6], [7, 8, 9], [1, 4, 7], [2, 5, 8], [3, 6, 9], [1, 5, 9], [3, 5, 7]\n",
        "#tripletas = [tripleta1, tripleta2, tripleta3, tripleta4, tripleta5, tripleta6, tripleta7, tripleta8]\n",
        "tripletas = [[0, 1, 2], [3, 4, 5], [6, 7, 8], [0, 3, 6], [1, 4, 7], [2, 5, 8], [0, 4, 8], [2, 4, 6]]\n",
        "\n",
        "# Suma los valores asociados a las posiciones de *tripleta*\n",
        "def suma_tripleta(tablero, tripleta):\n",
        "    a, b, c = tripleta[0], tripleta[1], tripleta[2]\n",
        "    # print(a,b,c); se mando imprimir para verificacion\n",
        "    return tablero[a] + tablero[b] + tablero[c]\n",
        "\n",
        "\n",
        "# Fc iterativa que obtiene las sumas de las *tripletas* de un tablero\n",
        "def calcula_sumas(tablero):\n",
        "    # global sumas\n",
        "    sumas = []\n",
        "    for x in tripletas:\n",
        "        z = suma_tripleta(tablero, x)\n",
        "        sumas.append(z)\n",
        "    return sumas\n",
        "\n",
        "# Determina si hay un ganador en la partida\n",
        "def ganador_p(tablero):\n",
        "    sumas = calcula_sumas(tablero)\n",
        "    gana_op=False\n",
        "    gana_pc=False\n",
        "\n",
        "\n",
        "    if 3 in sumas:\n",
        "        gana_op=True\n",
        "            #print(ganador)\n",
        "\n",
        "    if 30 in sumas:\n",
        "        gana_pc=True\n",
        "            #print(ganador)\n",
        "\n",
        "    if gana_op==True and gana_pc==False:\n",
        "        ganador=gana_op\n",
        "    elif gana_op==False and gana_pc==True:\n",
        "        ganador=gana_pc\n",
        "    else:\n",
        "        ganador=False\n",
        "    return ganador\n",
        "\n",
        "def inicio():\n",
        "\n",
        "    print(\"\"\"\\n\n",
        "          ------ JUEGO DEL MICHI -----\n",
        "          Le gustaria comenzar el juego?\n",
        "          [1] Si\n",
        "          [2] NO\n",
        "          [3] Salir\n",
        "    \"\"\")\n",
        "    opcion=int(input(\"Seleccione la opcion: \\n\"))\n",
        "\n",
        "    if opcion == 1:\n",
        "        print('oponente inicia el juego')\n",
        "        movimiento_oponente(crear_tablero())\n",
        "    elif opcion ==2:\n",
        "        #print ('maquina inicia juego')\n",
        "        movimiento_pc(crear_tablero())\n",
        "    elif opcion==3:\n",
        "        print(\"\\n\")\n",
        "        print(\"Saliendo ...\")\n",
        "\n",
        "\n",
        "def validar_movimiento(tablero):\n",
        "    global cent\n",
        "    print(tablero)\n",
        "    pos=int(input(\"Ingrese tu movimiento: \"))\n",
        "    if(tablero[pos]==0 ):\n",
        "        pos=pos\n",
        "        cent = pos\n",
        "    else:\n",
        "        #pos=int(input(\"Ingrese un movimiento valido: \"))\n",
        "        print(\"casilla ocupada\")\n",
        "        validar_movimiento(tablero)\n",
        "\n",
        "    return pos\n",
        "\n",
        "\n",
        "def movimiento_oponente(tablero):\n",
        "\n",
        "    posi=(validar_movimiento(tablero))\n",
        "\n",
        "    nuevo_tablero=(efectuar_movimiento(oponente,cent,tablero))\n",
        "\n",
        "    print(\"Mi movimiento: \",posi)\n",
        "    imprimir_tablero(nuevo_tablero)\n",
        "\n",
        "    if ganador_p(nuevo_tablero) == True:\n",
        "        print(\"    Gana Oponente\")\n",
        "        inicio()\n",
        "    elif tablero_lleno_p == True:\n",
        "        print(\"    Empate\")\n",
        "    else:\n",
        "        movimiento_pc(nuevo_tablero)\n",
        "\n",
        "\n",
        "def tablero_lleno_p(tablero): #Retorna True si no hay celdas vacias\n",
        "\n",
        "    for i in tablero:\n",
        "        #print(len(tablero))\n",
        "        #print(tablero[i])\n",
        "        if tablero[i] == 0:\n",
        "            print(tablero[i])\n",
        "            return False\n",
        "        else:\n",
        "            return True\n",
        "\n",
        "\n",
        "\n",
        "def movimiento_pc(tablero):\n",
        "    print(\"ahora le toca jugar a la PC\")\n",
        "    mejor_movimiento = escoger_estrategia_pc(tablero)\n",
        "    pos = mejor_movimiento[0]\n",
        "    estrategia = mejor_movimiento[1]\n",
        "\n",
        "    nuevo_tablero = (efectuar_movimiento(pc, pos, tablero))\n",
        "\n",
        "    print(\"Movimiento: \" ,pos )\n",
        "    print(\"Estrategia: \", estrategia)\n",
        "\n",
        "    imprimir_tablero(nuevo_tablero)\n",
        "\n",
        "    if ganador_p(nuevo_tablero) == True:\n",
        "        print(\"    Gana PC\")\n",
        "        inicio()\n",
        "    elif tablero_lleno_p == True:\n",
        "        print(\"    Empate\")\n",
        "    else:\n",
        "        movimiento_oponente(nuevo_tablero)\n",
        "\n",
        "    #return tablero\n",
        "\n",
        "\n",
        "def genmov(tablero,jugador):\n",
        "    lista=[]\n",
        "    for i in range(0,9):\n",
        "        if (tablero[i]==0):\n",
        "            sucesor=efectuar_movimiento(jugador,i,tablero)\n",
        "            lista.append(sucesor)\n",
        "        else:\n",
        "            tablero[i]=tablero[i]\n",
        "    return lista\n",
        "\n",
        "\n",
        "# Fc de evaluacion;\n",
        "def feval(tablero):\n",
        "    if(ganador_pc(tablero)==True):\n",
        "        res = 10000\n",
        "        return res\n",
        "    elif(ganador_oponente(tablero)==True):\n",
        "        res = -10000\n",
        "        return res\n",
        "    else:\n",
        "        return lineas_abiertas(tablero)\n",
        "\n",
        "\n",
        "\n",
        "def ganador_pc(tablero):\n",
        "    sumas = calcula_sumas(tablero)\n",
        "    if 30 in sumas:\n",
        "        return True\n",
        "    else:\n",
        "        return False\n",
        "\n",
        "\n",
        "def ganador_oponente(tablero):\n",
        "    sumas = calcula_sumas(tablero)\n",
        "    if 3 in sumas:\n",
        "        return True\n",
        "    else:\n",
        "        return False\n",
        "\n",
        "def lineas_abiertas(pos):\n",
        "    sumas = calcula_sumas(pos)\n",
        "    abiertasX = 0\n",
        "    abiertasO = 0\n",
        "    for s in sumas:\n",
        "        if(s==0):\n",
        "            abiertasX = abiertasX + 1\n",
        "            abiertasO = abiertasO + 1\n",
        "        elif(s==1):\n",
        "            abiertasO = abiertasO + 1\n",
        "        elif(s==2):\n",
        "            abiertasO = abiertasO + 1\n",
        "        elif(s==10):\n",
        "            abiertasX = abiertasX + 1\n",
        "        elif(s==20):\n",
        "            abiertasX = abiertasX + 1\n",
        "\n",
        "    res = abiertasX - abiertasO\n",
        "    return res\n",
        "\n",
        "\n",
        "def escoger_estrategia_pc(tablero):\n",
        "    mejor_movimiento = estrategia_primero_el_mejor(tablero)\n",
        "    return mejor_movimiento\n",
        "\n",
        "def estrategia_primero_el_mejor(tablero):\n",
        "\n",
        "    valor=seleccion_primero_el_mejor(tablero,pc)\n",
        "\n",
        "    tupla= valor,\"Movimiento por Primero el Mejor\"\n",
        "\n",
        "    return tupla\n",
        "\n",
        "\n",
        "def sucesores_con_evaluacion(tablero, sucesores):\n",
        "    sucesores_peso = []\n",
        "    for n in sucesores:\n",
        "        a = feval(n)\n",
        "        lista = [n,a]\n",
        "        sucesores_peso.append(lista)\n",
        "    return sucesores_peso\n",
        "\n",
        "from operator import itemgetter\n",
        "\n",
        "def seleccion_primero_el_mejor(tablero,jugador):\n",
        "    sucesores = genmov(tablero,jugador)\n",
        "    sucesores_peso = sucesores_con_evaluacion(tablero,sucesores)\n",
        "    sucesores_ordenados = sorted(sucesores_peso, key=itemgetter(1)).pop()\n",
        "    z = sucesores_ordenados[0]\n",
        "    i = 0\n",
        "    while (z[i]==tablero[i]):\n",
        "        i = i + 1\n",
        "    return i\n",
        "\n",
        "\n",
        "inicio()\n",
        "\n"
      ]
    },
    {
      "cell_type": "markdown",
      "metadata": {
        "id": "J7Mh7wqZfd3O"
      },
      "source": [
        "## Ejercicios\n",
        "Respecto de las funciones definidas en la implementación de la estrategia primero el mejor para las jugadas de la máquina, hacer:\n",
        "\n",
        "### Ejercicio 1\n",
        "- Optimizar el código presentado.\n",
        "\n",
        "### Ejercicio 2\n",
        "- Implementar la estrategia de búsqueda minimax para las jugadas de la máquina. Presentar el código que permite dicha implementación y las instrucciones para jugar."
      ]
    },
    {
      "cell_type": "markdown",
      "metadata": {},
      "source": [
        "Solución del ejercicio 2"
      ]
    },
    {
      "cell_type": "markdown",
      "metadata": {},
      "source": [
        "- Se define la función estrategia_minimax como la función a ejecutar en escoger_estrategia_pc."
      ]
    },
    {
      "cell_type": "code",
      "execution_count": null,
      "metadata": {},
      "outputs": [],
      "source": [
        "def escoger_estrategia_pc(tablero):\n",
        "    mejor_movimiento = estrategia_minimax(tablero)\n",
        "    return mejor_movimiento\n",
        "\n",
        "def estrategia_minimax(tablero):\n",
        "    pos = mejor_movimiento_minimax(tablero)\n",
        "    return pos, \"Movimiento por Minimax\""
      ]
    },
    {
      "cell_type": "markdown",
      "metadata": {},
      "source": [
        "- mejor_movimiento_minimax retorna la posición con la mayor evaluación desde la perspectiva del PC(MAX) aplicando el algoritmo Minmax."
      ]
    },
    {
      "cell_type": "code",
      "execution_count": null,
      "metadata": {},
      "outputs": [],
      "source": [
        "def mejor_movimiento_minimax(tablero):\n",
        "    valor,pos=max_minimax(tablero)\n",
        "    return pos"
      ]
    },
    {
      "cell_type": "markdown",
      "metadata": {},
      "source": [
        "- max_minimax simula el turno del PC, que busca maximizar su ganancia. Explora todas las jugadas disponibles y elige la de mayor valor evaluado."
      ]
    },
    {
      "cell_type": "code",
      "execution_count": null,
      "metadata": {},
      "outputs": [],
      "source": [
        "def max_minimax(tablero):\n",
        "  if es_tablero_terminal(tablero):    \n",
        "        return feval_minmax(tablero)\n",
        "  \n",
        "  mejor_valor = float('-inf')\n",
        "  mejor_pos = None\n",
        "  for i in range(9):\n",
        "      if tablero[i] == 0:\n",
        "          valor,pos = min_minimax(efectuar_movimiento(pc, i, tablero))\n",
        "          if valor > mejor_valor:\n",
        "              mejor_valor = valor\n",
        "              mejor_pos = i\n",
        "\n",
        "  return mejor_valor,mejor_pos"
      ]
    },
    {
      "cell_type": "markdown",
      "metadata": {},
      "source": [
        "- min_minimax simula el turno del oponente, que busca minimizar la ganancia del PC. Evalúa posibles respuestas y selecciona la jugada de menor valor."
      ]
    },
    {
      "cell_type": "code",
      "execution_count": null,
      "metadata": {},
      "outputs": [],
      "source": [
        "def min_minimax(tablero):\n",
        "  if es_tablero_terminal(tablero):    \n",
        "        return feval_minmax(tablero)\n",
        "  \n",
        "  mejor_valor = float('+inf')\n",
        "  mejor_pos = None\n",
        "  for i in range(9):\n",
        "      if tablero[i] == 0:\n",
        "          valor,pos = max_minimax(efectuar_movimiento(oponente, i, tablero))\n",
        "          if valor < mejor_valor:\n",
        "              mejor_valor = valor\n",
        "              mejor_pos = i\n",
        "\n",
        "  return mejor_valor,mejor_pos"
      ]
    },
    {
      "cell_type": "markdown",
      "metadata": {},
      "source": [
        "- Verifica si el juego ha llegado a un estado terminal. Retorna True si hay un ganador o el tablero está lleno."
      ]
    },
    {
      "cell_type": "code",
      "execution_count": null,
      "metadata": {},
      "outputs": [],
      "source": [
        "def es_tablero_terminal(tablero):\n",
        "    return ganador_pc(tablero) or ganador_oponente(tablero) or tablero_lleno_p(tablero)"
      ]
    },
    {
      "cell_type": "markdown",
      "metadata": {},
      "source": [
        "- Función de evaluación aplicada a los nodos o estados finales de los tableros. Devuelve 1 si gana el PC, -1 si gana el oponente, o 0 en caso de empate."
      ]
    },
    {
      "cell_type": "code",
      "execution_count": null,
      "metadata": {},
      "outputs": [],
      "source": [
        "def feval_minmax(tablero):\n",
        "  if ganador_pc(tablero):\n",
        "    return 1\n",
        "  elif ganador_oponente(tablero):\n",
        "    return -1\n",
        "  elif(tablero_lleno_p(tablero)): \n",
        "    return 0 "
      ]
    },
    {
      "cell_type": "markdown",
      "metadata": {},
      "source": [
        "Código completo"
      ]
    },
    {
      "cell_type": "code",
      "execution_count": 5,
      "metadata": {},
      "outputs": [
        {
          "name": "stdout",
          "output_type": "stream",
          "text": [
            "\n",
            "\n",
            "          ------ JUEGO DEL MICHI -----\n",
            "          Le gustaria comenzar el juego?\n",
            "          [1] Si\n",
            "          [2] NO\n",
            "          [3] Salir\n",
            "    \n"
          ]
        },
        {
          "name": "stdout",
          "output_type": "stream",
          "text": [
            "ahora le toca jugar a la PC\n",
            "Movimiento:  0\n",
            "Estrategia:  Movimiento por Minimax\n",
            "\n",
            "\n",
            "    X  |     |    \n",
            "   ----------------\n",
            "       |     |    \n",
            "   ----------------\n",
            "       |     |    \n",
            "\n",
            "\n",
            "[10, 0, 0, 0, 0, 0, 0, 0, 0]\n",
            "Mi movimiento:  1\n",
            "\n",
            "\n",
            "    X  |  O  |    \n",
            "   ----------------\n",
            "       |     |    \n",
            "   ----------------\n",
            "       |     |    \n",
            "\n",
            "\n",
            "ahora le toca jugar a la PC\n",
            "Movimiento:  3\n",
            "Estrategia:  Movimiento por Minimax\n",
            "\n",
            "\n",
            "    X  |  O  |    \n",
            "   ----------------\n",
            "    X  |     |    \n",
            "   ----------------\n",
            "       |     |    \n",
            "\n",
            "\n",
            "[10, 1, 0, 10, 0, 0, 0, 0, 0]\n",
            "Mi movimiento:  6\n",
            "\n",
            "\n",
            "    X  |  O  |    \n",
            "   ----------------\n",
            "    X  |     |    \n",
            "   ----------------\n",
            "    O  |     |    \n",
            "\n",
            "\n",
            "ahora le toca jugar a la PC\n",
            "Movimiento:  4\n",
            "Estrategia:  Movimiento por Minimax\n",
            "\n",
            "\n",
            "    X  |  O  |    \n",
            "   ----------------\n",
            "    X  |  X  |    \n",
            "   ----------------\n",
            "    O  |     |    \n",
            "\n",
            "\n",
            "[10, 1, 0, 10, 10, 0, 1, 0, 0]\n",
            "Mi movimiento:  2\n",
            "\n",
            "\n",
            "    X  |  O  |  O \n",
            "   ----------------\n",
            "    X  |  X  |    \n",
            "   ----------------\n",
            "    O  |     |    \n",
            "\n",
            "\n",
            "ahora le toca jugar a la PC\n",
            "Movimiento:  5\n",
            "Estrategia:  Movimiento por Minimax\n",
            "\n",
            "\n",
            "    X  |  O  |  O \n",
            "   ----------------\n",
            "    X  |  X  |  X \n",
            "   ----------------\n",
            "    O  |     |    \n",
            "\n",
            "\n",
            "    Gana PC\n",
            "\n",
            "\n",
            "          ------ JUEGO DEL MICHI -----\n",
            "          Le gustaria comenzar el juego?\n",
            "          [1] Si\n",
            "          [2] NO\n",
            "          [3] Salir\n",
            "    \n",
            "oponente inicia el juego\n",
            "[0, 0, 0, 0, 0, 0, 0, 0, 0]\n",
            "Mi movimiento:  0\n",
            "\n",
            "\n",
            "    O  |     |    \n",
            "   ----------------\n",
            "       |     |    \n",
            "   ----------------\n",
            "       |     |    \n",
            "\n",
            "\n",
            "ahora le toca jugar a la PC\n",
            "Movimiento:  4\n",
            "Estrategia:  Movimiento por Minimax\n",
            "\n",
            "\n",
            "    O  |     |    \n",
            "   ----------------\n",
            "       |  X  |    \n",
            "   ----------------\n",
            "       |     |    \n",
            "\n",
            "\n",
            "[1, 0, 0, 0, 10, 0, 0, 0, 0]\n",
            "Mi movimiento:  1\n",
            "\n",
            "\n",
            "    O  |  O  |    \n",
            "   ----------------\n",
            "       |  X  |    \n",
            "   ----------------\n",
            "       |     |    \n",
            "\n",
            "\n",
            "ahora le toca jugar a la PC\n",
            "Movimiento:  2\n",
            "Estrategia:  Movimiento por Minimax\n",
            "\n",
            "\n",
            "    O  |  O  |  X \n",
            "   ----------------\n",
            "       |  X  |    \n",
            "   ----------------\n",
            "       |     |    \n",
            "\n",
            "\n",
            "[1, 1, 10, 0, 10, 0, 0, 0, 0]\n",
            "Mi movimiento:  6\n",
            "\n",
            "\n",
            "    O  |  O  |  X \n",
            "   ----------------\n",
            "       |  X  |    \n",
            "   ----------------\n",
            "    O  |     |    \n",
            "\n",
            "\n",
            "ahora le toca jugar a la PC\n",
            "Movimiento:  3\n",
            "Estrategia:  Movimiento por Minimax\n",
            "\n",
            "\n",
            "    O  |  O  |  X \n",
            "   ----------------\n",
            "    X  |  X  |    \n",
            "   ----------------\n",
            "    O  |     |    \n",
            "\n",
            "\n",
            "[1, 1, 10, 10, 10, 0, 1, 0, 0]\n",
            "Mi movimiento:  5\n",
            "\n",
            "\n",
            "    O  |  O  |  X \n",
            "   ----------------\n",
            "    X  |  X  |  O \n",
            "   ----------------\n",
            "    O  |     |    \n",
            "\n",
            "\n",
            "ahora le toca jugar a la PC\n",
            "Movimiento:  7\n",
            "Estrategia:  Movimiento por Minimax\n",
            "\n",
            "\n",
            "    O  |  O  |  X \n",
            "   ----------------\n",
            "    X  |  X  |  O \n",
            "   ----------------\n",
            "    O  |  X  |    \n",
            "\n",
            "\n",
            "[1, 1, 10, 10, 10, 1, 1, 10, 0]\n",
            "casilla ocupada\n",
            "[1, 1, 10, 10, 10, 1, 1, 10, 0]\n",
            "Mi movimiento:  5\n",
            "\n",
            "\n",
            "    O  |  O  |  X \n",
            "   ----------------\n",
            "    X  |  X  |  O \n",
            "   ----------------\n",
            "    O  |  X  |  O \n",
            "\n",
            "\n",
            "    Empate\n"
          ]
        }
      ],
      "source": [
        "import random\n",
        "\n",
        "#variables para PC y Oponente\n",
        "pc=10\n",
        "oponente=1\n",
        "\n",
        "#tablero=[0,1,1,0,10,0,0,10,1]\n",
        "#crea tablero nuevo\n",
        "def crear_tablero():\n",
        "    tablero=[0,0,0,0,0,0,0,0,0]\n",
        "    #print(tablero)\n",
        "    return tablero\n",
        "\n",
        "\n",
        "#Convierte valores de 1 -> O e 10 -> X\n",
        "def convertir_a_letras(v):\n",
        "    if (v == 1):\n",
        "        return 'O'\n",
        "    elif (v == 10):\n",
        "        return 'X'\n",
        "    elif (v == 0):\n",
        "        return \" \"\n",
        "\n",
        "def imprimir_fila(x ,y ,z):\n",
        "     print(\"    {0}  |  {1}  |  {2} \".format(convertir_a_letras(x),convertir_a_letras(y),convertir_a_letras(z)))\n",
        "\n",
        "\n",
        "def imprimir_tablero(tablero):\n",
        "    print(\"\\n\")\n",
        "    imprimir_fila(tablero[0],tablero[1],tablero[2])\n",
        "    print('   ----------------')\n",
        "    imprimir_fila(tablero[3],tablero[4],tablero[5])\n",
        "    print('   ----------------')\n",
        "    imprimir_fila(tablero[6],tablero[7],tablero[8])\n",
        "    print(\"\\n\")\n",
        "\n",
        "\n",
        "def efectuar_movimiento(jugador, pos, tablero):\n",
        "    tablero=tablero.copy()\n",
        "    pos=pos\n",
        "    tablero[pos]=jugador\n",
        "    return tablero\n",
        "\n",
        "#tripletas = [[1, 2, 3], [4, 5, 6], [7, 8, 9], [1, 4, 7], [2, 5, 8], [3, 6, 9], [1, 5, 9], [3, 5, 7]]\n",
        "#tripleta1, tripleta2, tripleta3, tripleta4, tripleta5, tripleta6, tripleta7, tripleta8 = [1, 2, 3], [4, 5, 6], [7, 8, 9], [1, 4, 7], [2, 5, 8], [3, 6, 9], [1, 5, 9], [3, 5, 7]\n",
        "#tripletas = [tripleta1, tripleta2, tripleta3, tripleta4, tripleta5, tripleta6, tripleta7, tripleta8]\n",
        "tripletas = [[0, 1, 2], [3, 4, 5], [6, 7, 8], [0, 3, 6], [1, 4, 7], [2, 5, 8], [0, 4, 8], [2, 4, 6]]\n",
        "\n",
        "# Suma los valores asociados a las posiciones de *tripleta*\n",
        "def suma_tripleta(tablero, tripleta):\n",
        "    a, b, c = tripleta[0], tripleta[1], tripleta[2]\n",
        "    # print(a,b,c); se mando imprimir para verificacion\n",
        "    return tablero[a] + tablero[b] + tablero[c]\n",
        "\n",
        "\n",
        "# Fc iterativa que obtiene las sumas de las *tripletas* de un tablero\n",
        "def calcula_sumas(tablero):\n",
        "    # global sumas\n",
        "    sumas = []\n",
        "    for x in tripletas:\n",
        "        z = suma_tripleta(tablero, x)\n",
        "        sumas.append(z)\n",
        "    return sumas\n",
        "\n",
        "# Determina si hay un ganador en la partida\n",
        "def ganador_p(tablero):\n",
        "    sumas = calcula_sumas(tablero)\n",
        "    gana_op=False\n",
        "    gana_pc=False\n",
        "\n",
        "\n",
        "    if 3 in sumas:\n",
        "        gana_op=True\n",
        "            #print(ganador)\n",
        "\n",
        "    if 30 in sumas:\n",
        "        gana_pc=True\n",
        "            #print(ganador)\n",
        "\n",
        "    if gana_op==True and gana_pc==False:\n",
        "        ganador=gana_op\n",
        "    elif gana_op==False and gana_pc==True:\n",
        "        ganador=gana_pc\n",
        "    else:\n",
        "        ganador=False\n",
        "    return ganador\n",
        "\n",
        "def inicio():\n",
        "\n",
        "    print(\"\"\"\\n\n",
        "          ------ JUEGO DEL MICHI -----\n",
        "          Le gustaria comenzar el juego?\n",
        "          [1] Si\n",
        "          [2] NO\n",
        "          [3] Salir\n",
        "    \"\"\")\n",
        "    opcion=int(input(\"Seleccione la opcion: \\n\"))\n",
        "\n",
        "    if opcion == 1:\n",
        "        print('oponente inicia el juego')\n",
        "        movimiento_oponente(crear_tablero())\n",
        "    elif opcion ==2:\n",
        "        #print ('maquina inicia juego')\n",
        "        movimiento_pc(crear_tablero())\n",
        "    elif opcion==3:\n",
        "        print(\"\\n\")\n",
        "        print(\"Saliendo ...\")\n",
        "\n",
        "\n",
        "def validar_movimiento(tablero):\n",
        "    global cent\n",
        "    print(tablero)\n",
        "    pos=int(input(\"Ingrese tu movimiento: \"))\n",
        "    if(tablero[pos]==0 ):\n",
        "        pos=pos\n",
        "        cent = pos\n",
        "    else:\n",
        "        #pos=int(input(\"Ingrese un movimiento valido: \"))\n",
        "        print(\"casilla ocupada\")\n",
        "        validar_movimiento(tablero)\n",
        "\n",
        "    return pos\n",
        "\n",
        "\n",
        "def movimiento_oponente(tablero):\n",
        "\n",
        "    posi=(validar_movimiento(tablero))\n",
        "\n",
        "    nuevo_tablero=(efectuar_movimiento(oponente,cent,tablero))\n",
        "\n",
        "    print(\"Mi movimiento: \",posi)\n",
        "    imprimir_tablero(nuevo_tablero)\n",
        "\n",
        "    if ganador_p(nuevo_tablero) == True:\n",
        "        print(\"    Gana Oponente\")\n",
        "        inicio()\n",
        "    elif tablero_lleno_p(nuevo_tablero) == True:\n",
        "        print(\"    Empate\")\n",
        "    else:\n",
        "        movimiento_pc(nuevo_tablero)\n",
        "\n",
        "\n",
        "def tablero_lleno_p(tablero):\n",
        "    for i in tablero:\n",
        "        if i == 0:\n",
        "            return False\n",
        "    return True\n",
        "\n",
        "def movimiento_pc(tablero):\n",
        "    print(\"ahora le toca jugar a la PC\")\n",
        "    mejor_movimiento = escoger_estrategia_pc(tablero)\n",
        "    pos = mejor_movimiento[0]\n",
        "    estrategia = mejor_movimiento[1]\n",
        "\n",
        "    nuevo_tablero = (efectuar_movimiento(pc, pos, tablero))\n",
        "\n",
        "    print(\"Movimiento: \" ,pos )\n",
        "    print(\"Estrategia: \", estrategia)\n",
        "\n",
        "    imprimir_tablero(nuevo_tablero)\n",
        "\n",
        "    if ganador_p(nuevo_tablero) == True:\n",
        "        print(\"    Gana PC\")\n",
        "        inicio()\n",
        "    elif tablero_lleno_p(nuevo_tablero) == True:\n",
        "        print(\"    Empate\")\n",
        "    else:\n",
        "        movimiento_oponente(nuevo_tablero)\n",
        "\n",
        "    #return tablero\n",
        "\n",
        "def ganador_pc(tablero):\n",
        "    sumas = calcula_sumas(tablero)\n",
        "    if 30 in sumas:\n",
        "        return True\n",
        "    else:\n",
        "        return False\n",
        "\n",
        "\n",
        "def ganador_oponente(tablero):\n",
        "    sumas = calcula_sumas(tablero)\n",
        "    if 3 in sumas:\n",
        "        return True\n",
        "    else:\n",
        "        return False\n",
        "    \n",
        "def feval_minmax(tablero):\n",
        "  if ganador_pc(tablero):\n",
        "    return 1\n",
        "  elif ganador_oponente(tablero):\n",
        "    return -1\n",
        "  elif(tablero_lleno_p(tablero)): \n",
        "    return 0 \n",
        "    \n",
        "def es_tablero_terminal(tablero):\n",
        "    return ganador_pc(tablero) or ganador_oponente(tablero) or tablero_lleno_p(tablero)\n",
        "\n",
        "def min_minimax(tablero):\n",
        "  if es_tablero_terminal(tablero):    \n",
        "        return feval_minmax(tablero), None\n",
        "  \n",
        "  mejor_valor = float('+inf')\n",
        "  mejor_pos = None\n",
        "  for i in range(9):\n",
        "      if tablero[i] == 0:\n",
        "          valor,pos = max_minimax(efectuar_movimiento(oponente, i, tablero))\n",
        "          if valor < mejor_valor:\n",
        "              mejor_valor = valor\n",
        "              mejor_pos = i\n",
        "\n",
        "  return mejor_valor,mejor_pos\n",
        "\n",
        "def max_minimax(tablero):\n",
        "  if es_tablero_terminal(tablero):    \n",
        "        return feval_minmax(tablero), None\n",
        "  \n",
        "  mejor_valor = float('-inf')\n",
        "  mejor_pos = None\n",
        "  for i in range(9):\n",
        "      if tablero[i] == 0:\n",
        "          valor,pos = min_minimax(efectuar_movimiento(pc, i, tablero))\n",
        "          if valor > mejor_valor:\n",
        "              mejor_valor = valor\n",
        "              mejor_pos = i\n",
        "\n",
        "  return mejor_valor,mejor_pos\n",
        "    \n",
        "def mejor_movimiento_minimax(tablero):\n",
        "    valor,pos=max_minimax(tablero)\n",
        "    return pos\n",
        "    \n",
        "def estrategia_minimax(tablero):\n",
        "    pos = mejor_movimiento_minimax(tablero)\n",
        "    return pos, \"Movimiento por Minimax\"\n",
        "\n",
        "def escoger_estrategia_pc(tablero):\n",
        "    mejor_movimiento = estrategia_minimax(tablero)\n",
        "    return mejor_movimiento\n",
        "\n",
        "inicio()"
      ]
    },
    {
      "cell_type": "markdown",
      "metadata": {
        "id": "7JkhK7CYfd3P"
      },
      "source": [
        "# Instrucciones para el envío de la solución\n",
        "- La solución de la \"Práctica de Laboratorio 3 Parte 2 - IA 2024-1 G1 EPISW\" deberá enviarse al correo electrónico rmaguinacursos@gmail.com, hasta las 23:59 h del Miércoles 17 de Abril del 2025, en un archivo con extensión .ipynb.\n",
        "\n",
        "El documento deberá tener las sgtes características:\n",
        "- Nombre del archivo:\n",
        "  solPGL3_Parte2_IA_2024-1_G3_nombre-apellidos-alumno1_...nombre-apellidos-alumno4.ipynb.\n",
        "- Todas las preguntas de la Práctica deben responderse en este mismo cuaderno computacional interactivo (**Sugerencia**: obtener una copia de este documento y desarrollar en ellas las respectivas soluciones); la solución a cada pregunta debe registrarse en una celda debajo del plnteamiento de la misma, mencionando explícitamente como subtítulo: \"Solución del ejercicio n\", donde \"n\" corresponde al número del ejercicio."
      ]
    }
  ],
  "metadata": {
    "colab": {
      "provenance": []
    },
    "kernelspec": {
      "display_name": "base",
      "language": "python",
      "name": "python3"
    },
    "language_info": {
      "codemirror_mode": {
        "name": "ipython",
        "version": 3
      },
      "file_extension": ".py",
      "mimetype": "text/x-python",
      "name": "python",
      "nbconvert_exporter": "python",
      "pygments_lexer": "ipython3",
      "version": "3.12.7"
    }
  },
  "nbformat": 4,
  "nbformat_minor": 0
}
