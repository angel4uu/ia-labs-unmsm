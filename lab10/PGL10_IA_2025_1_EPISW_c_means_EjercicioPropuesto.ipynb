{
  "cells": [
    {
      "cell_type": "markdown",
      "metadata": {
        "id": "siuIc7KTQjAd"
      },
      "source": [
        "# Práctica Guiada de Laboratorio 10 - Curso IA 2025-1 Grupo 1 EPISW\n",
        "# Ejercicio propuesto - c-means\n",
        "### Prof. Rolando A. Maguiña Pérez"
      ]
    },
    {
      "cell_type": "markdown",
      "metadata": {
        "id": "uYmP0Oy7QjAj"
      },
      "source": [
        "# Introducción\n",
        "En la presente práctica, a realizarse el 19 de Junio del 2025, se abordará el problema denominado `Segmentación de clientes` mediante la técnica  del  `Machine Learning` denominada `c-means`. Luego de la presentación del problema, se plantearán algunas preguntas que los alumnos deberán resolver.\n",
        "\n",
        "En esas actividades se usará la biblioteca de aprendizaje automático para el lenguaje de programación Python llamada  [scikit-learn](https://scikit-learn.org/stable/).\n",
        "\n",
        "**Nota: esta Práctica podrá desarrollarse en grupos de tres alumnos.**"
      ]
    },
    {
      "cell_type": "markdown",
      "metadata": {
        "id": "JQ51FeHmQjAl"
      },
      "source": [
        "# Segmentación de clientes\n",
        "## Planteamiento del problema\n",
        "El objetivo de este problema es segmentar a los clientes de un distribuidor mayorista en función de su gasto anual en diversas categorías de productos, como leche, comestibles, región, etc.\n",
        "\n",
        "Los datos están alojados en el repositorio de aprendizaje automático de la Universidad de Irving y consta de 440 muestras. Cada registro de la base de datos tiene ocho atributos numéricos.\n",
        "\n",
        "1. Channel\n",
        "2. Region\n",
        "3. Fresh\n",
        "4. Milk\n",
        "5. Grocery\n",
        "6. Frozen\n",
        "7. Detergents_Paper\n",
        "8. Delicassen\n",
        "\n",
        "El archivo con el dataset es `Wholesale customers data.csv`"
      ]
    },
    {
      "cell_type": "markdown",
      "metadata": {
        "id": "6TZ96SXSQjAm"
      },
      "source": [
        "### Carga de los módulos/bibliotecas y la data\n",
        "**Importe las librerias que generalmente usa para el análisis de datos.**"
      ]
    },
    {
      "cell_type": "code",
      "execution_count": null,
      "metadata": {
        "id": "6rD4rKcFQjAn"
      },
      "outputs": [],
      "source": []
    },
    {
      "cell_type": "markdown",
      "metadata": {
        "id": "zOztaryeQjAo"
      },
      "source": [
        "### Obtener los datos\n"
      ]
    },
    {
      "cell_type": "code",
      "execution_count": null,
      "metadata": {
        "id": "nJ-ZHCdOQjAp"
      },
      "outputs": [],
      "source": []
    },
    {
      "cell_type": "markdown",
      "metadata": {
        "id": "_jWrLhtLQjAq"
      },
      "source": [
        "**Lea el archivo `Wholesale customers data.csv`.**"
      ]
    },
    {
      "cell_type": "code",
      "execution_count": null,
      "metadata": {
        "id": "3COufGmpQjAs"
      },
      "outputs": [],
      "source": []
    },
    {
      "cell_type": "markdown",
      "metadata": {
        "id": "6k13jPp7QjAt"
      },
      "source": [
        "**Revise los primeros registros de los datos**"
      ]
    },
    {
      "cell_type": "code",
      "execution_count": null,
      "metadata": {
        "id": "BIEHHpKCQjAt"
      },
      "outputs": [],
      "source": []
    },
    {
      "cell_type": "markdown",
      "metadata": {
        "id": "dhEp3WRWQjAu"
      },
      "source": [
        "Tenemos los detalles de gasto de los clientes en diferentes productos, como leche, comestibles, congelados, detergentes, etc. Ahora, debemos segmentar a los clientes según la información proporcionada. Antes de hacerlo, extraigamos algunas estadísticas relacionadas con los datos:"
      ]
    },
    {
      "cell_type": "markdown",
      "metadata": {
        "id": "f3zxc9aHQjAu"
      },
      "source": [
        "**Aplique los métodos info() y describe() en los datos.**"
      ]
    },
    {
      "cell_type": "code",
      "execution_count": null,
      "metadata": {
        "id": "dnj9pE1QQjAv"
      },
      "outputs": [],
      "source": []
    },
    {
      "cell_type": "code",
      "execution_count": null,
      "metadata": {
        "id": "5nAtf5c3QjAv"
      },
      "outputs": [],
      "source": []
    },
    {
      "cell_type": "markdown",
      "metadata": {
        "id": "3qswt8hHQjAv"
      },
      "source": [
        "Aquí, observamos que hay mucha variación en la magnitud de los datos. Variables como Channel y Region tienen una magnitud baja, mientras que variables como Fresh, Milk, Groceries, etc. tienen una magnitud mayor.\n",
        "\n",
        "Dado que c-means es un algoritmo basado en la distancia, esta diferencia de magnitud puede crear un problema. Por lo tanto, primero igualemos la magnitud de todas las variables. Escriba el código que permita hacer esto."
      ]
    },
    {
      "cell_type": "code",
      "execution_count": null,
      "metadata": {
        "id": "xK3GY9QjQjAv"
      },
      "outputs": [],
      "source": []
    },
    {
      "cell_type": "markdown",
      "metadata": {
        "id": "z2A-FfnvQjAv"
      },
      "source": [
        "## Creación del clúster K Means\n",
        "\n",
        "¡Ahora es el momento de crear las etiquetas del Cluster!\n",
        "\n",
        "**Importar KMeans de SciKit Learn.**"
      ]
    },
    {
      "cell_type": "code",
      "execution_count": null,
      "metadata": {
        "id": "gno3ug1VQjAw"
      },
      "outputs": [],
      "source": []
    },
    {
      "cell_type": "markdown",
      "metadata": {
        "id": "SvGTI1ImQjAw"
      },
      "source": [
        "**Crea una instancia de un modelo de c-means con 2 clústeres.**\n",
        "Use el algoritmo de inicialización denominado `k-means++`"
      ]
    },
    {
      "cell_type": "code",
      "execution_count": null,
      "metadata": {
        "id": "7en_HboSQjAw"
      },
      "outputs": [],
      "source": []
    },
    {
      "cell_type": "markdown",
      "metadata": {
        "id": "ZBHFeWH5QjAw"
      },
      "source": [
        "Se han inicializado dos clústeres y notar que la inicialización no ha sido aleatoria. Se ha utilizado la inicialización `k-means++`, que generalmente produce mejores resultados."
      ]
    },
    {
      "cell_type": "markdown",
      "metadata": {
        "id": "g156qALhQjAw"
      },
      "source": [
        "**Ajuste el modelo a todos los datos sin excepción alguna.**"
      ]
    },
    {
      "cell_type": "code",
      "execution_count": null,
      "metadata": {
        "id": "aKkPTfF3QjAw"
      },
      "outputs": [],
      "source": []
    },
    {
      "cell_type": "markdown",
      "metadata": {
        "id": "Q2leOwKbQjAx"
      },
      "source": [
        "**¿Cuáles son los centros del grupo de los vectores?**"
      ]
    },
    {
      "cell_type": "code",
      "execution_count": null,
      "metadata": {
        "id": "DgA6-BXbQjAx"
      },
      "outputs": [],
      "source": []
    },
    {
      "cell_type": "markdown",
      "metadata": {
        "id": "vQBq0_sCQjAx"
      },
      "source": [
        "**Estudiar e implementar un procedimiento para determinar el número óptimo de clústeres. Sugerencia: use el denominado método del codo.**"
      ]
    },
    {
      "cell_type": "code",
      "execution_count": null,
      "metadata": {
        "id": "8JcTsZsEQjAx"
      },
      "outputs": [],
      "source": []
    },
    {
      "cell_type": "markdown",
      "metadata": {
        "id": "HfgOgQQvQjAy"
      },
      "source": [
        "**Aplique ahora el algoritmo usado para el problema de la predicción de préstamo (notebook PGL10_IA_2025-1_EPISW_c-means_OK.ipynb) al caso de segmentación de clientes. Compare los resultados que obtiene con los que obtuvo con sklearn**"
      ]
    },
    {
      "cell_type": "code",
      "execution_count": null,
      "metadata": {
        "id": "gcXyJHSvQjAy"
      },
      "outputs": [],
      "source": []
    },
    {
      "cell_type": "code",
      "execution_count": null,
      "metadata": {
        "id": "BTfUJwHEQjAy"
      },
      "outputs": [],
      "source": []
    },
    {
      "cell_type": "markdown",
      "metadata": {
        "id": "EAPBHqBkQjAy"
      },
      "source": [
        "## Instrucciones para el envío de la solución\n",
        "\n",
        "La solución de la \"Práctica Guiada de Laboratorio 10 - IA 2025-1 G1 EPISW\" podrá enviarse al correo electrónico rmaguinacursos@gmail.com, hasta las 23:59 h del Domingo 22 de Junio del 2025, en un archivo con extensión .ipynb.\n",
        "\n",
        "El documento deberá tener las sgtes características:\n",
        "\n",
        "- Nombre del archivo: solPGL10_IA_2025-1_G1_EPISW_nombre-apellidos_alumno1_..._nombre-apellidos_alumno3.ipynb.\n",
        "\n",
        "- Todas las preguntas de la Práctica deben responderse en un cuaderno computacional interactivo (**Sugerencia**: obtener una copia de este documento y desarrollar en éllas las respectivas soluciones); la solución a cada pregunta debe registrarse en una celda debajo del planteamiento de la misma, mencionando explícitamente como subtítulo: \"Solución del ejercicio n\", donde \"n\" corresponde al número del ejercicio."
      ]
    }
  ],
  "metadata": {
    "colab": {
      "provenance": []
    },
    "kernelspec": {
      "display_name": "Python 3 (ipykernel)",
      "language": "python",
      "name": "python3"
    },
    "language_info": {
      "codemirror_mode": {
        "name": "ipython",
        "version": 3
      },
      "file_extension": ".py",
      "mimetype": "text/x-python",
      "name": "python",
      "nbconvert_exporter": "python",
      "pygments_lexer": "ipython3",
      "version": "3.12.7"
    }
  },
  "nbformat": 4,
  "nbformat_minor": 0
}
