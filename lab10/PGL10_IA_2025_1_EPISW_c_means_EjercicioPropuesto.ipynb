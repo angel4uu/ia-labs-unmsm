{
  "cells": [
    {
      "cell_type": "markdown",
      "metadata": {
        "id": "siuIc7KTQjAd"
      },
      "source": [
        "# Práctica Guiada de Laboratorio 10 - Curso IA 2025-1 Grupo 1 EPISW\n",
        "# Ejercicio propuesto - c-means\n",
        "### Prof. Rolando A. Maguiña Pérez"
      ]
    },
    {
      "cell_type": "markdown",
      "metadata": {
        "id": "uYmP0Oy7QjAj"
      },
      "source": [
        "# Introducción\n",
        "En la presente práctica, a realizarse el 19 de Junio del 2025, se abordará el problema denominado `Segmentación de clientes` mediante la técnica  del  `Machine Learning` denominada `c-means`. Luego de la presentación del problema, se plantearán algunas preguntas que los alumnos deberán resolver.\n",
        "\n",
        "En esas actividades se usará la biblioteca de aprendizaje automático para el lenguaje de programación Python llamada  [scikit-learn](https://scikit-learn.org/stable/).\n",
        "\n",
        "**Nota: esta Práctica podrá desarrollarse en grupos de tres alumnos.**"
      ]
    },
    {
      "cell_type": "markdown",
      "metadata": {
        "id": "JQ51FeHmQjAl"
      },
      "source": [
        "# Segmentación de clientes\n",
        "## Planteamiento del problema\n",
        "El objetivo de este problema es segmentar a los clientes de un distribuidor mayorista en función de su gasto anual en diversas categorías de productos, como leche, comestibles, región, etc.\n",
        "\n",
        "Los datos están alojados en el repositorio de aprendizaje automático de la Universidad de Irving y consta de 440 muestras. Cada registro de la base de datos tiene ocho atributos numéricos.\n",
        "\n",
        "1. Channel\n",
        "2. Region\n",
        "3. Fresh\n",
        "4. Milk\n",
        "5. Grocery\n",
        "6. Frozen\n",
        "7. Detergents_Paper\n",
        "8. Delicassen\n",
        "\n",
        "El archivo con el dataset es `Wholesale customers data.csv`"
      ]
    },
    {
      "cell_type": "markdown",
      "metadata": {
        "id": "6TZ96SXSQjAm"
      },
      "source": [
        "### Carga de los módulos/bibliotecas y la data\n",
        "**Importe las librerias que generalmente usa para el análisis de datos.**"
      ]
    },
    {
      "cell_type": "code",
      "execution_count": 2,
      "metadata": {
        "id": "6rD4rKcFQjAn"
      },
      "outputs": [],
      "source": [
        "import pandas as pd\n",
        "import numpy as np\n",
        "import matplotlib.pyplot as pl\n",
        "import seaborn as sns"
      ]
    },
    {
      "cell_type": "markdown",
      "metadata": {
        "id": "zOztaryeQjAo"
      },
      "source": [
        "### Obtener los datos\n"
      ]
    },
    {
      "cell_type": "markdown",
      "metadata": {
        "id": "_jWrLhtLQjAq"
      },
      "source": [
        "**Lea el archivo `Wholesale customers data.csv`.**"
      ]
    },
    {
      "cell_type": "code",
      "execution_count": 6,
      "metadata": {
        "id": "nJ-ZHCdOQjAp"
      },
      "outputs": [],
      "source": [
        "data= pd.read_csv('Wholesale customers data.csv')"
      ]
    },
    {
      "cell_type": "markdown",
      "metadata": {
        "id": "6k13jPp7QjAt"
      },
      "source": [
        "**Revise los primeros registros de los datos**"
      ]
    },
    {
      "cell_type": "code",
      "execution_count": 7,
      "metadata": {
        "id": "BIEHHpKCQjAt"
      },
      "outputs": [
        {
          "data": {
            "text/html": [
              "<div>\n",
              "<style scoped>\n",
              "    .dataframe tbody tr th:only-of-type {\n",
              "        vertical-align: middle;\n",
              "    }\n",
              "\n",
              "    .dataframe tbody tr th {\n",
              "        vertical-align: top;\n",
              "    }\n",
              "\n",
              "    .dataframe thead th {\n",
              "        text-align: right;\n",
              "    }\n",
              "</style>\n",
              "<table border=\"1\" class=\"dataframe\">\n",
              "  <thead>\n",
              "    <tr style=\"text-align: right;\">\n",
              "      <th></th>\n",
              "      <th>Channel</th>\n",
              "      <th>Region</th>\n",
              "      <th>Fresh</th>\n",
              "      <th>Milk</th>\n",
              "      <th>Grocery</th>\n",
              "      <th>Frozen</th>\n",
              "      <th>Detergents_Paper</th>\n",
              "      <th>Delicassen</th>\n",
              "    </tr>\n",
              "  </thead>\n",
              "  <tbody>\n",
              "    <tr>\n",
              "      <th>0</th>\n",
              "      <td>2</td>\n",
              "      <td>3</td>\n",
              "      <td>12669</td>\n",
              "      <td>9656</td>\n",
              "      <td>7561</td>\n",
              "      <td>214</td>\n",
              "      <td>2674</td>\n",
              "      <td>1338</td>\n",
              "    </tr>\n",
              "    <tr>\n",
              "      <th>1</th>\n",
              "      <td>2</td>\n",
              "      <td>3</td>\n",
              "      <td>7057</td>\n",
              "      <td>9810</td>\n",
              "      <td>9568</td>\n",
              "      <td>1762</td>\n",
              "      <td>3293</td>\n",
              "      <td>1776</td>\n",
              "    </tr>\n",
              "    <tr>\n",
              "      <th>2</th>\n",
              "      <td>2</td>\n",
              "      <td>3</td>\n",
              "      <td>6353</td>\n",
              "      <td>8808</td>\n",
              "      <td>7684</td>\n",
              "      <td>2405</td>\n",
              "      <td>3516</td>\n",
              "      <td>7844</td>\n",
              "    </tr>\n",
              "    <tr>\n",
              "      <th>3</th>\n",
              "      <td>1</td>\n",
              "      <td>3</td>\n",
              "      <td>13265</td>\n",
              "      <td>1196</td>\n",
              "      <td>4221</td>\n",
              "      <td>6404</td>\n",
              "      <td>507</td>\n",
              "      <td>1788</td>\n",
              "    </tr>\n",
              "    <tr>\n",
              "      <th>4</th>\n",
              "      <td>2</td>\n",
              "      <td>3</td>\n",
              "      <td>22615</td>\n",
              "      <td>5410</td>\n",
              "      <td>7198</td>\n",
              "      <td>3915</td>\n",
              "      <td>1777</td>\n",
              "      <td>5185</td>\n",
              "    </tr>\n",
              "  </tbody>\n",
              "</table>\n",
              "</div>"
            ],
            "text/plain": [
              "   Channel  Region  Fresh  Milk  Grocery  Frozen  Detergents_Paper  Delicassen\n",
              "0        2       3  12669  9656     7561     214              2674        1338\n",
              "1        2       3   7057  9810     9568    1762              3293        1776\n",
              "2        2       3   6353  8808     7684    2405              3516        7844\n",
              "3        1       3  13265  1196     4221    6404               507        1788\n",
              "4        2       3  22615  5410     7198    3915              1777        5185"
            ]
          },
          "execution_count": 7,
          "metadata": {},
          "output_type": "execute_result"
        }
      ],
      "source": [
        "data.head()"
      ]
    },
    {
      "cell_type": "markdown",
      "metadata": {
        "id": "dhEp3WRWQjAu"
      },
      "source": [
        "Tenemos los detalles de gasto de los clientes en diferentes productos, como leche, comestibles, congelados, detergentes, etc. Ahora, debemos segmentar a los clientes según la información proporcionada. Antes de hacerlo, extraigamos algunas estadísticas relacionadas con los datos:"
      ]
    },
    {
      "cell_type": "markdown",
      "metadata": {
        "id": "f3zxc9aHQjAu"
      },
      "source": [
        "**Aplique los métodos info() y describe() en los datos.**"
      ]
    },
    {
      "cell_type": "code",
      "execution_count": 9,
      "metadata": {
        "id": "dnj9pE1QQjAv"
      },
      "outputs": [
        {
          "name": "stdout",
          "output_type": "stream",
          "text": [
            "<class 'pandas.core.frame.DataFrame'>\n",
            "RangeIndex: 440 entries, 0 to 439\n",
            "Data columns (total 8 columns):\n",
            " #   Column            Non-Null Count  Dtype\n",
            "---  ------            --------------  -----\n",
            " 0   Channel           440 non-null    int64\n",
            " 1   Region            440 non-null    int64\n",
            " 2   Fresh             440 non-null    int64\n",
            " 3   Milk              440 non-null    int64\n",
            " 4   Grocery           440 non-null    int64\n",
            " 5   Frozen            440 non-null    int64\n",
            " 6   Detergents_Paper  440 non-null    int64\n",
            " 7   Delicassen        440 non-null    int64\n",
            "dtypes: int64(8)\n",
            "memory usage: 27.6 KB\n"
          ]
        }
      ],
      "source": [
        "data.info()"
      ]
    },
    {
      "cell_type": "code",
      "execution_count": 10,
      "metadata": {
        "id": "5nAtf5c3QjAv"
      },
      "outputs": [
        {
          "data": {
            "text/html": [
              "<div>\n",
              "<style scoped>\n",
              "    .dataframe tbody tr th:only-of-type {\n",
              "        vertical-align: middle;\n",
              "    }\n",
              "\n",
              "    .dataframe tbody tr th {\n",
              "        vertical-align: top;\n",
              "    }\n",
              "\n",
              "    .dataframe thead th {\n",
              "        text-align: right;\n",
              "    }\n",
              "</style>\n",
              "<table border=\"1\" class=\"dataframe\">\n",
              "  <thead>\n",
              "    <tr style=\"text-align: right;\">\n",
              "      <th></th>\n",
              "      <th>Channel</th>\n",
              "      <th>Region</th>\n",
              "      <th>Fresh</th>\n",
              "      <th>Milk</th>\n",
              "      <th>Grocery</th>\n",
              "      <th>Frozen</th>\n",
              "      <th>Detergents_Paper</th>\n",
              "      <th>Delicassen</th>\n",
              "    </tr>\n",
              "  </thead>\n",
              "  <tbody>\n",
              "    <tr>\n",
              "      <th>count</th>\n",
              "      <td>440.000000</td>\n",
              "      <td>440.000000</td>\n",
              "      <td>440.000000</td>\n",
              "      <td>440.000000</td>\n",
              "      <td>440.000000</td>\n",
              "      <td>440.000000</td>\n",
              "      <td>440.000000</td>\n",
              "      <td>440.000000</td>\n",
              "    </tr>\n",
              "    <tr>\n",
              "      <th>mean</th>\n",
              "      <td>1.322727</td>\n",
              "      <td>2.543182</td>\n",
              "      <td>12000.297727</td>\n",
              "      <td>5796.265909</td>\n",
              "      <td>7951.277273</td>\n",
              "      <td>3071.931818</td>\n",
              "      <td>2881.493182</td>\n",
              "      <td>1524.870455</td>\n",
              "    </tr>\n",
              "    <tr>\n",
              "      <th>std</th>\n",
              "      <td>0.468052</td>\n",
              "      <td>0.774272</td>\n",
              "      <td>12647.328865</td>\n",
              "      <td>7380.377175</td>\n",
              "      <td>9503.162829</td>\n",
              "      <td>4854.673333</td>\n",
              "      <td>4767.854448</td>\n",
              "      <td>2820.105937</td>\n",
              "    </tr>\n",
              "    <tr>\n",
              "      <th>min</th>\n",
              "      <td>1.000000</td>\n",
              "      <td>1.000000</td>\n",
              "      <td>3.000000</td>\n",
              "      <td>55.000000</td>\n",
              "      <td>3.000000</td>\n",
              "      <td>25.000000</td>\n",
              "      <td>3.000000</td>\n",
              "      <td>3.000000</td>\n",
              "    </tr>\n",
              "    <tr>\n",
              "      <th>25%</th>\n",
              "      <td>1.000000</td>\n",
              "      <td>2.000000</td>\n",
              "      <td>3127.750000</td>\n",
              "      <td>1533.000000</td>\n",
              "      <td>2153.000000</td>\n",
              "      <td>742.250000</td>\n",
              "      <td>256.750000</td>\n",
              "      <td>408.250000</td>\n",
              "    </tr>\n",
              "    <tr>\n",
              "      <th>50%</th>\n",
              "      <td>1.000000</td>\n",
              "      <td>3.000000</td>\n",
              "      <td>8504.000000</td>\n",
              "      <td>3627.000000</td>\n",
              "      <td>4755.500000</td>\n",
              "      <td>1526.000000</td>\n",
              "      <td>816.500000</td>\n",
              "      <td>965.500000</td>\n",
              "    </tr>\n",
              "    <tr>\n",
              "      <th>75%</th>\n",
              "      <td>2.000000</td>\n",
              "      <td>3.000000</td>\n",
              "      <td>16933.750000</td>\n",
              "      <td>7190.250000</td>\n",
              "      <td>10655.750000</td>\n",
              "      <td>3554.250000</td>\n",
              "      <td>3922.000000</td>\n",
              "      <td>1820.250000</td>\n",
              "    </tr>\n",
              "    <tr>\n",
              "      <th>max</th>\n",
              "      <td>2.000000</td>\n",
              "      <td>3.000000</td>\n",
              "      <td>112151.000000</td>\n",
              "      <td>73498.000000</td>\n",
              "      <td>92780.000000</td>\n",
              "      <td>60869.000000</td>\n",
              "      <td>40827.000000</td>\n",
              "      <td>47943.000000</td>\n",
              "    </tr>\n",
              "  </tbody>\n",
              "</table>\n",
              "</div>"
            ],
            "text/plain": [
              "          Channel      Region          Fresh          Milk       Grocery  \\\n",
              "count  440.000000  440.000000     440.000000    440.000000    440.000000   \n",
              "mean     1.322727    2.543182   12000.297727   5796.265909   7951.277273   \n",
              "std      0.468052    0.774272   12647.328865   7380.377175   9503.162829   \n",
              "min      1.000000    1.000000       3.000000     55.000000      3.000000   \n",
              "25%      1.000000    2.000000    3127.750000   1533.000000   2153.000000   \n",
              "50%      1.000000    3.000000    8504.000000   3627.000000   4755.500000   \n",
              "75%      2.000000    3.000000   16933.750000   7190.250000  10655.750000   \n",
              "max      2.000000    3.000000  112151.000000  73498.000000  92780.000000   \n",
              "\n",
              "             Frozen  Detergents_Paper    Delicassen  \n",
              "count    440.000000        440.000000    440.000000  \n",
              "mean    3071.931818       2881.493182   1524.870455  \n",
              "std     4854.673333       4767.854448   2820.105937  \n",
              "min       25.000000          3.000000      3.000000  \n",
              "25%      742.250000        256.750000    408.250000  \n",
              "50%     1526.000000        816.500000    965.500000  \n",
              "75%     3554.250000       3922.000000   1820.250000  \n",
              "max    60869.000000      40827.000000  47943.000000  "
            ]
          },
          "execution_count": 10,
          "metadata": {},
          "output_type": "execute_result"
        }
      ],
      "source": [
        "data.describe()"
      ]
    },
    {
      "cell_type": "markdown",
      "metadata": {
        "id": "3qswt8hHQjAv"
      },
      "source": [
        "Aquí, observamos que hay mucha variación en la magnitud de los datos. Variables como Channel y Region tienen una magnitud baja, mientras que variables como Fresh, Milk, Groceries, etc. tienen una magnitud mayor.\n",
        "\n",
        "Dado que c-means es un algoritmo basado en la distancia, esta diferencia de magnitud puede crear un problema. Por lo tanto, primero igualemos la magnitud de todas las variables. Escriba el código que permita hacer esto."
      ]
    },
    {
      "cell_type": "code",
      "execution_count": null,
      "metadata": {
        "id": "xK3GY9QjQjAv"
      },
      "outputs": [
        {
          "data": {
            "text/html": [
              "<div>\n",
              "<style scoped>\n",
              "    .dataframe tbody tr th:only-of-type {\n",
              "        vertical-align: middle;\n",
              "    }\n",
              "\n",
              "    .dataframe tbody tr th {\n",
              "        vertical-align: top;\n",
              "    }\n",
              "\n",
              "    .dataframe thead th {\n",
              "        text-align: right;\n",
              "    }\n",
              "</style>\n",
              "<table border=\"1\" class=\"dataframe\">\n",
              "  <thead>\n",
              "    <tr style=\"text-align: right;\">\n",
              "      <th></th>\n",
              "      <th>Channel</th>\n",
              "      <th>Region</th>\n",
              "      <th>Fresh</th>\n",
              "      <th>Milk</th>\n",
              "      <th>Grocery</th>\n",
              "      <th>Frozen</th>\n",
              "      <th>Detergents_Paper</th>\n",
              "      <th>Delicassen</th>\n",
              "    </tr>\n",
              "  </thead>\n",
              "  <tbody>\n",
              "    <tr>\n",
              "      <th>count</th>\n",
              "      <td>4.400000e+02</td>\n",
              "      <td>4.400000e+02</td>\n",
              "      <td>4.400000e+02</td>\n",
              "      <td>440.000000</td>\n",
              "      <td>4.400000e+02</td>\n",
              "      <td>4.400000e+02</td>\n",
              "      <td>4.400000e+02</td>\n",
              "      <td>4.400000e+02</td>\n",
              "    </tr>\n",
              "    <tr>\n",
              "      <th>mean</th>\n",
              "      <td>1.614870e-17</td>\n",
              "      <td>3.552714e-16</td>\n",
              "      <td>-3.431598e-17</td>\n",
              "      <td>0.000000</td>\n",
              "      <td>-4.037175e-17</td>\n",
              "      <td>3.633457e-17</td>\n",
              "      <td>2.422305e-17</td>\n",
              "      <td>-8.074349e-18</td>\n",
              "    </tr>\n",
              "    <tr>\n",
              "      <th>std</th>\n",
              "      <td>1.001138e+00</td>\n",
              "      <td>1.001138e+00</td>\n",
              "      <td>1.001138e+00</td>\n",
              "      <td>1.001138</td>\n",
              "      <td>1.001138e+00</td>\n",
              "      <td>1.001138e+00</td>\n",
              "      <td>1.001138e+00</td>\n",
              "      <td>1.001138e+00</td>\n",
              "    </tr>\n",
              "    <tr>\n",
              "      <th>min</th>\n",
              "      <td>-6.902971e-01</td>\n",
              "      <td>-1.995342e+00</td>\n",
              "      <td>-9.496831e-01</td>\n",
              "      <td>-0.778795</td>\n",
              "      <td>-8.373344e-01</td>\n",
              "      <td>-6.283430e-01</td>\n",
              "      <td>-6.044165e-01</td>\n",
              "      <td>-5.402644e-01</td>\n",
              "    </tr>\n",
              "    <tr>\n",
              "      <th>25%</th>\n",
              "      <td>-6.902971e-01</td>\n",
              "      <td>-7.023369e-01</td>\n",
              "      <td>-7.023339e-01</td>\n",
              "      <td>-0.578306</td>\n",
              "      <td>-6.108364e-01</td>\n",
              "      <td>-4.804306e-01</td>\n",
              "      <td>-5.511349e-01</td>\n",
              "      <td>-3.964005e-01</td>\n",
              "    </tr>\n",
              "    <tr>\n",
              "      <th>50%</th>\n",
              "      <td>-6.902971e-01</td>\n",
              "      <td>5.906683e-01</td>\n",
              "      <td>-2.767602e-01</td>\n",
              "      <td>-0.294258</td>\n",
              "      <td>-3.366684e-01</td>\n",
              "      <td>-3.188045e-01</td>\n",
              "      <td>-4.336004e-01</td>\n",
              "      <td>-1.985766e-01</td>\n",
              "    </tr>\n",
              "    <tr>\n",
              "      <th>75%</th>\n",
              "      <td>1.448652e+00</td>\n",
              "      <td>5.906683e-01</td>\n",
              "      <td>3.905226e-01</td>\n",
              "      <td>0.189092</td>\n",
              "      <td>2.849105e-01</td>\n",
              "      <td>9.946441e-02</td>\n",
              "      <td>2.184822e-01</td>\n",
              "      <td>1.048598e-01</td>\n",
              "    </tr>\n",
              "    <tr>\n",
              "      <th>max</th>\n",
              "      <td>1.448652e+00</td>\n",
              "      <td>5.906683e-01</td>\n",
              "      <td>7.927738e+00</td>\n",
              "      <td>9.183650</td>\n",
              "      <td>8.936528e+00</td>\n",
              "      <td>1.191900e+01</td>\n",
              "      <td>7.967672e+00</td>\n",
              "      <td>1.647845e+01</td>\n",
              "    </tr>\n",
              "  </tbody>\n",
              "</table>\n",
              "</div>"
            ],
            "text/plain": [
              "            Channel        Region         Fresh        Milk       Grocery  \\\n",
              "count  4.400000e+02  4.400000e+02  4.400000e+02  440.000000  4.400000e+02   \n",
              "mean   1.614870e-17  3.552714e-16 -3.431598e-17    0.000000 -4.037175e-17   \n",
              "std    1.001138e+00  1.001138e+00  1.001138e+00    1.001138  1.001138e+00   \n",
              "min   -6.902971e-01 -1.995342e+00 -9.496831e-01   -0.778795 -8.373344e-01   \n",
              "25%   -6.902971e-01 -7.023369e-01 -7.023339e-01   -0.578306 -6.108364e-01   \n",
              "50%   -6.902971e-01  5.906683e-01 -2.767602e-01   -0.294258 -3.366684e-01   \n",
              "75%    1.448652e+00  5.906683e-01  3.905226e-01    0.189092  2.849105e-01   \n",
              "max    1.448652e+00  5.906683e-01  7.927738e+00    9.183650  8.936528e+00   \n",
              "\n",
              "             Frozen  Detergents_Paper    Delicassen  \n",
              "count  4.400000e+02      4.400000e+02  4.400000e+02  \n",
              "mean   3.633457e-17      2.422305e-17 -8.074349e-18  \n",
              "std    1.001138e+00      1.001138e+00  1.001138e+00  \n",
              "min   -6.283430e-01     -6.044165e-01 -5.402644e-01  \n",
              "25%   -4.804306e-01     -5.511349e-01 -3.964005e-01  \n",
              "50%   -3.188045e-01     -4.336004e-01 -1.985766e-01  \n",
              "75%    9.946441e-02      2.184822e-01  1.048598e-01  \n",
              "max    1.191900e+01      7.967672e+00  1.647845e+01  "
            ]
          },
          "execution_count": 12,
          "metadata": {},
          "output_type": "execute_result"
        }
      ],
      "source": [
        "from sklearn.preprocessing import StandardScaler\n",
        "\n",
        "scaler = StandardScaler()\n",
        "scaled_data = scaler.fit_transform(data)\n",
        "scaled_data = pd.DataFrame(scaled_data, columns=data.columns)\n",
        "scaled_data.describe()"
      ]
    },
    {
      "cell_type": "markdown",
      "metadata": {
        "id": "z2A-FfnvQjAv"
      },
      "source": [
        "## Creación del clúster K Means\n",
        "\n",
        "¡Ahora es el momento de crear las etiquetas del Cluster!\n",
        "\n",
        "**Importar KMeans de SciKit Learn.**"
      ]
    },
    {
      "cell_type": "code",
      "execution_count": null,
      "metadata": {
        "id": "gno3ug1VQjAw"
      },
      "outputs": [],
      "source": [
        "#2"
      ]
    },
    {
      "cell_type": "markdown",
      "metadata": {
        "id": "SvGTI1ImQjAw"
      },
      "source": [
        "**Crea una instancia de un modelo de c-means con 2 clústeres.**\n",
        "Use el algoritmo de inicialización denominado `k-means++`"
      ]
    },
    {
      "cell_type": "code",
      "execution_count": null,
      "metadata": {
        "id": "7en_HboSQjAw"
      },
      "outputs": [],
      "source": [
        "#2"
      ]
    },
    {
      "cell_type": "markdown",
      "metadata": {
        "id": "ZBHFeWH5QjAw"
      },
      "source": [
        "Se han inicializado dos clústeres y notar que la inicialización no ha sido aleatoria. Se ha utilizado la inicialización `k-means++`, que generalmente produce mejores resultados."
      ]
    },
    {
      "cell_type": "markdown",
      "metadata": {
        "id": "g156qALhQjAw"
      },
      "source": [
        "**Ajuste el modelo a todos los datos sin excepción alguna.**"
      ]
    },
    {
      "cell_type": "code",
      "execution_count": null,
      "metadata": {
        "id": "aKkPTfF3QjAw"
      },
      "outputs": [],
      "source": [
        "#2\n",
        "#Usa scaled_data en lugar de data"
      ]
    },
    {
      "cell_type": "markdown",
      "metadata": {
        "id": "Q2leOwKbQjAx"
      },
      "source": [
        "**¿Cuáles son los centros del grupo de los vectores?**"
      ]
    },
    {
      "cell_type": "code",
      "execution_count": null,
      "metadata": {
        "id": "DgA6-BXbQjAx"
      },
      "outputs": [],
      "source": [
        "#2"
      ]
    },
    {
      "cell_type": "markdown",
      "metadata": {
        "id": "vQBq0_sCQjAx"
      },
      "source": [
        "**Estudiar e implementar un procedimiento para determinar el número óptimo de clústeres. Sugerencia: use el denominado método del codo.**"
      ]
    },
    {
      "cell_type": "code",
      "execution_count": null,
      "metadata": {
        "id": "8JcTsZsEQjAx"
      },
      "outputs": [],
      "source": [
        "#3"
      ]
    },
    {
      "cell_type": "markdown",
      "metadata": {
        "id": "HfgOgQQvQjAy"
      },
      "source": [
        "**Aplique ahora el algoritmo usado para el problema de la predicción de préstamo (notebook PGL10_IA_2025-1_EPISW_c-means_OK.ipynb) al caso de segmentación de clientes. Compare los resultados que obtiene con los que obtuvo con sklearn**"
      ]
    },
    {
      "cell_type": "code",
      "execution_count": null,
      "metadata": {
        "id": "gcXyJHSvQjAy"
      },
      "outputs": [],
      "source": [
        "#4"
      ]
    },
    {
      "cell_type": "markdown",
      "metadata": {
        "id": "EAPBHqBkQjAy"
      },
      "source": [
        "## Instrucciones para el envío de la solución\n",
        "\n",
        "La solución de la \"Práctica Guiada de Laboratorio 10 - IA 2025-1 G1 EPISW\" podrá enviarse al correo electrónico rmaguinacursos@gmail.com, hasta las 23:59 h del Domingo 22 de Junio del 2025, en un archivo con extensión .ipynb.\n",
        "\n",
        "El documento deberá tener las sgtes características:\n",
        "\n",
        "- Nombre del archivo: solPGL10_IA_2025-1_G1_EPISW_nombre-apellidos_alumno1_..._nombre-apellidos_alumno3.ipynb.\n",
        "\n",
        "- Todas las preguntas de la Práctica deben responderse en un cuaderno computacional interactivo (**Sugerencia**: obtener una copia de este documento y desarrollar en éllas las respectivas soluciones); la solución a cada pregunta debe registrarse en una celda debajo del planteamiento de la misma, mencionando explícitamente como subtítulo: \"Solución del ejercicio n\", donde \"n\" corresponde al número del ejercicio."
      ]
    }
  ],
  "metadata": {
    "colab": {
      "provenance": []
    },
    "kernelspec": {
      "display_name": "base",
      "language": "python",
      "name": "python3"
    },
    "language_info": {
      "codemirror_mode": {
        "name": "ipython",
        "version": 3
      },
      "file_extension": ".py",
      "mimetype": "text/x-python",
      "name": "python",
      "nbconvert_exporter": "python",
      "pygments_lexer": "ipython3",
      "version": "3.12.7"
    }
  },
  "nbformat": 4,
  "nbformat_minor": 0
}
